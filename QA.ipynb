{
 "cells": [
  {
   "cell_type": "code",
   "execution_count": 1,
   "id": "a042c31f",
   "metadata": {
    "ExecuteTime": {
     "end_time": "2021-12-23T16:12:11.830361Z",
     "start_time": "2021-12-23T16:12:11.798329Z"
    }
   },
   "outputs": [],
   "source": [
    "%reload_ext autoreload\n",
    "%autoreload 2"
   ]
  },
  {
   "cell_type": "code",
   "execution_count": 2,
   "id": "3124ea1c",
   "metadata": {
    "ExecuteTime": {
     "end_time": "2021-12-23T16:12:14.172889Z",
     "start_time": "2021-12-23T16:12:13.232883Z"
    }
   },
   "outputs": [],
   "source": [
    "from read_dataset import read_dataset"
   ]
  },
  {
   "cell_type": "code",
   "execution_count": 25,
   "id": "30a5509a",
   "metadata": {
    "ExecuteTime": {
     "end_time": "2021-12-23T16:36:05.908630Z",
     "start_time": "2021-12-23T16:36:04.792775Z"
    }
   },
   "outputs": [],
   "source": [
    "dataset = read_dataset(path='SQUAD MATERIAL/training_set.json', validation_set_perc=20)"
   ]
  },
  {
   "cell_type": "code",
   "execution_count": 8,
   "id": "d60de57b",
   "metadata": {
    "ExecuteTime": {
     "end_time": "2021-12-23T16:30:03.043134Z",
     "start_time": "2021-12-23T16:30:02.940535Z"
    }
   },
   "outputs": [
    {
     "data": {
      "text/plain": [
       "[]"
      ]
     },
     "execution_count": 8,
     "metadata": {},
     "output_type": "execute_result"
    }
   ],
   "source": [
    "dataset[1]"
   ]
  },
  {
   "cell_type": "code",
   "execution_count": null,
   "id": "cda2f509",
   "metadata": {},
   "outputs": [],
   "source": [
    "dataset[0][0][2][515:541]"
   ]
  },
  {
   "cell_type": "code",
   "execution_count": 4,
   "id": "0f5864e1",
   "metadata": {
    "ExecuteTime": {
     "end_time": "2021-12-23T16:14:13.462415Z",
     "start_time": "2021-12-23T16:12:19.442660Z"
    }
   },
   "outputs": [
    {
     "data": {
      "application/vnd.jupyter.widget-view+json": {
       "model_id": "8eda7929e33d47c0a76f6a750e4d89c9",
       "version_major": 2,
       "version_minor": 0
      },
      "text/plain": [
       "Downloading:   0%|          | 0.00/208k [00:00<?, ?B/s]"
      ]
     },
     "metadata": {},
     "output_type": "display_data"
    },
    {
     "data": {
      "application/vnd.jupyter.widget-view+json": {
       "model_id": "934b20eb29674cc4b139e609a7edf7a9",
       "version_major": 2,
       "version_minor": 0
      },
      "text/plain": [
       "Downloading:   0%|          | 0.00/29.0 [00:00<?, ?B/s]"
      ]
     },
     "metadata": {},
     "output_type": "display_data"
    },
    {
     "data": {
      "application/vnd.jupyter.widget-view+json": {
       "model_id": "f20e2c5f71694a09af479c9d35041c40",
       "version_major": 2,
       "version_minor": 0
      },
      "text/plain": [
       "Downloading:   0%|          | 0.00/426k [00:00<?, ?B/s]"
      ]
     },
     "metadata": {},
     "output_type": "display_data"
    },
    {
     "data": {
      "application/vnd.jupyter.widget-view+json": {
       "model_id": "ce69efc81f454437aab467db4a29c9c9",
       "version_major": 2,
       "version_minor": 0
      },
      "text/plain": [
       "Downloading:   0%|          | 0.00/473 [00:00<?, ?B/s]"
      ]
     },
     "metadata": {},
     "output_type": "display_data"
    },
    {
     "data": {
      "application/vnd.jupyter.widget-view+json": {
       "model_id": "d2320b9bfbbc403fa0f9a5aad10baacb",
       "version_major": 2,
       "version_minor": 0
      },
      "text/plain": [
       "Downloading:   0%|          | 0.00/249M [00:00<?, ?B/s]"
      ]
     },
     "metadata": {},
     "output_type": "display_data"
    },
    {
     "name": "stderr",
     "output_type": "stream",
     "text": [
      "Some weights of the model checkpoint at distilbert-base-cased-distilled-squad were not used when initializing DistilBertModel: ['qa_outputs.bias', 'qa_outputs.weight']\n",
      "- This IS expected if you are initializing DistilBertModel from the checkpoint of a model trained on another task or with another architecture (e.g. initializing a BertForSequenceClassification model from a BertForPreTraining model).\n",
      "- This IS NOT expected if you are initializing DistilBertModel from the checkpoint of a model that you expect to be exactly identical (initializing a BertForSequenceClassification model from a BertForSequenceClassification model).\n"
     ]
    }
   ],
   "source": [
    "from transformers import DistilBertTokenizer, DistilBertModel\n",
    "import torch\n",
    "\n",
    "tokenizer = DistilBertTokenizer.from_pretrained('distilbert-base-cased-distilled-squad')\n",
    "model = DistilBertModel.from_pretrained('distilbert-base-cased-distilled-squad')"
   ]
  },
  {
   "cell_type": "code",
   "execution_count": 1,
   "id": "788e242f",
   "metadata": {
    "ExecuteTime": {
     "end_time": "2021-12-17T15:48:21.676031Z",
     "start_time": "2021-12-17T15:48:07.531376Z"
    }
   },
   "outputs": [
    {
     "name": "stderr",
     "output_type": "stream",
     "text": [
      "Some weights of the model checkpoint at distilbert-base-cased-distilled-squad were not used when initializing DistilBertModel: ['qa_outputs.weight', 'qa_outputs.bias']\n",
      "- This IS expected if you are initializing DistilBertModel from the checkpoint of a model trained on another task or with another architecture (e.g. initializing a BertForSequenceClassification model from a BertForPreTraining model).\n",
      "- This IS NOT expected if you are initializing DistilBertModel from the checkpoint of a model that you expect to be exactly identical (initializing a BertForSequenceClassification model from a BertForSequenceClassification model).\n"
     ]
    }
   ],
   "source": [
    "inputs = tokenizer(\"Hello, my dog is cute\", return_tensors=\"pt\")\n",
    "outputs = model(**inputs)"
   ]
  },
  {
   "cell_type": "code",
   "execution_count": 10,
   "id": "34daf8f2",
   "metadata": {
    "ExecuteTime": {
     "end_time": "2021-12-23T16:30:20.205033Z",
     "start_time": "2021-12-23T16:30:20.125725Z"
    }
   },
   "outputs": [
    {
     "data": {
      "text/plain": [
       "87599"
      ]
     },
     "execution_count": 10,
     "metadata": {},
     "output_type": "execute_result"
    }
   ],
   "source": [
    "len(dataset[0])"
   ]
  },
  {
   "cell_type": "code",
   "execution_count": 16,
   "id": "4d863f91",
   "metadata": {
    "ExecuteTime": {
     "end_time": "2021-12-23T16:32:18.748360Z",
     "start_time": "2021-12-23T16:32:18.663138Z"
    }
   },
   "outputs": [
    {
     "data": {
      "text/plain": [
       "['5733be284776f41900661182',\n",
       " 'University_of_Notre_Dame',\n",
       " 'Architecturally, the school has a Catholic character. Atop the Main Building\\'s gold dome is a golden statue of the Virgin Mary. Immediately in front of the Main Building and facing it, is a copper statue of Christ with arms upraised with the legend \"Venite Ad Me Omnes\". Next to the Main Building is the Basilica of the Sacred Heart. Immediately behind the basilica is the Grotto, a Marian place of prayer and reflection. It is a replica of the grotto at Lourdes, France where the Virgin Mary reputedly appeared to Saint Bernadette Soubirous in 1858. At the end of the main drive (and in a direct line that connects through 3 statues and the Gold Dome), is a simple, modern stone statue of Mary.',\n",
       " 'To whom did the Virgin Mary allegedly appear in 1858 in Lourdes France?',\n",
       " 515,\n",
       " 541]"
      ]
     },
     "execution_count": 16,
     "metadata": {},
     "output_type": "execute_result"
    }
   ],
   "source": [
    "dataset[0][0]"
   ]
  },
  {
   "cell_type": "code",
   "execution_count": 18,
   "id": "291d7474",
   "metadata": {
    "ExecuteTime": {
     "end_time": "2021-12-23T16:33:56.290457Z",
     "start_time": "2021-12-23T16:33:56.130671Z"
    }
   },
   "outputs": [],
   "source": [
    "import pandas as pd"
   ]
  },
  {
   "cell_type": "code",
   "execution_count": 26,
   "id": "bd029bcc",
   "metadata": {
    "ExecuteTime": {
     "end_time": "2021-12-23T16:36:15.661147Z",
     "start_time": "2021-12-23T16:36:13.169167Z"
    }
   },
   "outputs": [],
   "source": [
    "train_df = pd.DataFrame(dataset[0], columns=['id', 'title', 'context', 'question', 'start', 'end'])\n",
    "train_df.to_csv('./data/train_df.csv')"
   ]
  },
  {
   "cell_type": "code",
   "execution_count": 27,
   "id": "3d675f8e",
   "metadata": {
    "ExecuteTime": {
     "end_time": "2021-12-23T16:36:18.579037Z",
     "start_time": "2021-12-23T16:36:18.035201Z"
    }
   },
   "outputs": [],
   "source": [
    "val_df = pd.DataFrame(dataset[1], columns=['id', 'title', 'context', 'question', 'start', 'end'])\n",
    "val_df.to_csv('./data/val_df.csv')"
   ]
  },
  {
   "cell_type": "code",
   "execution_count": 50,
   "id": "8a4421e3",
   "metadata": {
    "ExecuteTime": {
     "end_time": "2021-12-23T16:49:19.487184Z",
     "start_time": "2021-12-23T16:49:19.398843Z"
    }
   },
   "outputs": [],
   "source": [
    "questions = list(train_df['question'].values)\n",
    "contexts = list(train_df['context'].values)"
   ]
  },
  {
   "cell_type": "code",
   "execution_count": 101,
   "id": "a90611bf",
   "metadata": {
    "ExecuteTime": {
     "end_time": "2021-12-23T17:20:40.511419Z",
     "start_time": "2021-12-23T17:20:40.385431Z"
    }
   },
   "outputs": [],
   "source": [
    "from transformers import DistilBertTokenizerFast"
   ]
  },
  {
   "cell_type": "code",
   "execution_count": 102,
   "id": "862509a4",
   "metadata": {
    "ExecuteTime": {
     "end_time": "2021-12-23T17:21:00.416369Z",
     "start_time": "2021-12-23T17:20:51.400812Z"
    }
   },
   "outputs": [
    {
     "name": "stderr",
     "output_type": "stream",
     "text": [
      "Some weights of the model checkpoint at distilbert-base-cased-distilled-squad were not used when initializing DistilBertModel: ['qa_outputs.bias', 'qa_outputs.weight']\n",
      "- This IS expected if you are initializing DistilBertModel from the checkpoint of a model trained on another task or with another architecture (e.g. initializing a BertForSequenceClassification model from a BertForPreTraining model).\n",
      "- This IS NOT expected if you are initializing DistilBertModel from the checkpoint of a model that you expect to be exactly identical (initializing a BertForSequenceClassification model from a BertForSequenceClassification model).\n"
     ]
    }
   ],
   "source": [
    "squad_tokenizer = DistilBertTokenizerFast.from_pretrained('distilbert-base-cased-distilled-squad')\n",
    "squad_model = DistilBertModel.from_pretrained('distilbert-base-cased-distilled-squad')"
   ]
  },
  {
   "cell_type": "code",
   "execution_count": 103,
   "id": "9a0fdafe",
   "metadata": {
    "ExecuteTime": {
     "end_time": "2021-12-23T17:21:04.679051Z",
     "start_time": "2021-12-23T17:21:04.485273Z"
    }
   },
   "outputs": [],
   "source": [
    "max_length = squad_model.config.max_position_embeddings\n",
    "doc_stride = 128\n",
    "\n",
    "tokenized = squad_tokenizer(\n",
    "    questions[:10],\n",
    "    contexts[:10],\n",
    "    max_length=max_length,\n",
    "    truncation=\"only_second\",\n",
    "    return_overflowing_tokens=True,\n",
    "    return_offsets_mapping=True,\n",
    "    stride=doc_stride\n",
    ")"
   ]
  },
  {
   "cell_type": "code",
   "execution_count": 112,
   "id": "bd5836ff",
   "metadata": {
    "ExecuteTime": {
     "end_time": "2021-12-23T17:23:09.025496Z",
     "start_time": "2021-12-23T17:23:08.944964Z"
    }
   },
   "outputs": [
    {
     "data": {
      "text/plain": [
       "'[CLS] To whom did the Virgin Mary allegedly appear in 1858 in Lourdes France? [SEP] Architecturally, the school has a Catholic character. Atop the Main Building\\'s gold dome is a golden statue of the Virgin Mary. Immediately in front of the Main Building and facing it, is a copper statue of Christ with arms upraised with the legend \" Venite Ad Me Omnes \". Next to the Main Building is the Basilica of the Sacred Heart. Immediately behind the basilica is the Grotto, a Marian place of prayer and reflection. It is a replica of the grotto at Lourdes, France where the Virgin Mary reputedly appeared to Saint Bernadette Soubirous in 1858. At the end of the main drive ( and in a direct line that connects through 3 statues and the Gold Dome ), is a simple, modern stone statue of Mary. [SEP]'"
      ]
     },
     "execution_count": 112,
     "metadata": {},
     "output_type": "execute_result"
    }
   ],
   "source": [
    "squad_tokenizer.decode(tokenized['input_ids'][0])"
   ]
  },
  {
   "cell_type": "code",
   "execution_count": 111,
   "id": "3f663b1f",
   "metadata": {
    "ExecuteTime": {
     "end_time": "2021-12-23T17:22:30.006339Z",
     "start_time": "2021-12-23T17:22:29.921005Z"
    }
   },
   "outputs": [
    {
     "data": {
      "text/plain": [
       "[(0, 0),\n",
       " (0, 2),\n",
       " (3, 7),\n",
       " (8, 11),\n",
       " (12, 15),\n",
       " (16, 22),\n",
       " (23, 27),\n",
       " (28, 37),\n",
       " (38, 44),\n",
       " (45, 47),\n",
       " (48, 52),\n",
       " (53, 55),\n",
       " (56, 59),\n",
       " (59, 63),\n",
       " (64, 70),\n",
       " (70, 71),\n",
       " (0, 0),\n",
       " (0, 13),\n",
       " (13, 15),\n",
       " (15, 16),\n",
       " (17, 20),\n",
       " (21, 27),\n",
       " (28, 31),\n",
       " (32, 33),\n",
       " (34, 42),\n",
       " (43, 52),\n",
       " (52, 53),\n",
       " (54, 56),\n",
       " (56, 58),\n",
       " (59, 62),\n",
       " (63, 67),\n",
       " (68, 76),\n",
       " (76, 77),\n",
       " (77, 78),\n",
       " (79, 83),\n",
       " (84, 88),\n",
       " (89, 91),\n",
       " (92, 93),\n",
       " (94, 100),\n",
       " (101, 107),\n",
       " (108, 110),\n",
       " (111, 114),\n",
       " (115, 121),\n",
       " (122, 126),\n",
       " (126, 127),\n",
       " (128, 139),\n",
       " (140, 142),\n",
       " (143, 148),\n",
       " (149, 151),\n",
       " (152, 155),\n",
       " (156, 160),\n",
       " (161, 169),\n",
       " (170, 173),\n",
       " (174, 180),\n",
       " (181, 183),\n",
       " (183, 184),\n",
       " (185, 187),\n",
       " (188, 189),\n",
       " (190, 196),\n",
       " (197, 203),\n",
       " (204, 206),\n",
       " (207, 213),\n",
       " (214, 218),\n",
       " (219, 223),\n",
       " (224, 226),\n",
       " (226, 229),\n",
       " (229, 232),\n",
       " (233, 237),\n",
       " (238, 241),\n",
       " (242, 248),\n",
       " (249, 250),\n",
       " (250, 251),\n",
       " (251, 254),\n",
       " (254, 256),\n",
       " (257, 259),\n",
       " (260, 262),\n",
       " (263, 264),\n",
       " (264, 265),\n",
       " (265, 268),\n",
       " (268, 269),\n",
       " (269, 270),\n",
       " (271, 275),\n",
       " (276, 278),\n",
       " (279, 282),\n",
       " (283, 287),\n",
       " (288, 296),\n",
       " (297, 299),\n",
       " (300, 303),\n",
       " (304, 312),\n",
       " (313, 315),\n",
       " (316, 319),\n",
       " (320, 326),\n",
       " (327, 332),\n",
       " (332, 333),\n",
       " (334, 345),\n",
       " (346, 352),\n",
       " (353, 356),\n",
       " (357, 358),\n",
       " (358, 361),\n",
       " (361, 365),\n",
       " (366, 368),\n",
       " (369, 372),\n",
       " (373, 374),\n",
       " (374, 377),\n",
       " (377, 379),\n",
       " (379, 380),\n",
       " (381, 382),\n",
       " (383, 389),\n",
       " (390, 395),\n",
       " (396, 398),\n",
       " (399, 405),\n",
       " (406, 409),\n",
       " (410, 420),\n",
       " (420, 421),\n",
       " (422, 424),\n",
       " (425, 427),\n",
       " (428, 429),\n",
       " (430, 437),\n",
       " (438, 440),\n",
       " (441, 444),\n",
       " (445, 446),\n",
       " (446, 449),\n",
       " (449, 451),\n",
       " (452, 454),\n",
       " (455, 458),\n",
       " (458, 462),\n",
       " (462, 463),\n",
       " (464, 470),\n",
       " (471, 476),\n",
       " (477, 480),\n",
       " (481, 487),\n",
       " (488, 492),\n",
       " (493, 500),\n",
       " (500, 502),\n",
       " (503, 511),\n",
       " (512, 514),\n",
       " (515, 520),\n",
       " (521, 525),\n",
       " (525, 528),\n",
       " (528, 531),\n",
       " (532, 534),\n",
       " (534, 537),\n",
       " (537, 541),\n",
       " (542, 544),\n",
       " (545, 549),\n",
       " (549, 550),\n",
       " (551, 553),\n",
       " (554, 557),\n",
       " (558, 561),\n",
       " (562, 564),\n",
       " (565, 568),\n",
       " (569, 573),\n",
       " (574, 579),\n",
       " (580, 581),\n",
       " (581, 584),\n",
       " (585, 587),\n",
       " (588, 589),\n",
       " (590, 596),\n",
       " (597, 601),\n",
       " (602, 606),\n",
       " (607, 615),\n",
       " (616, 623),\n",
       " (624, 625),\n",
       " (626, 633),\n",
       " (634, 637),\n",
       " (638, 641),\n",
       " (642, 646),\n",
       " (647, 651),\n",
       " (651, 652),\n",
       " (652, 653),\n",
       " (654, 656),\n",
       " (657, 658),\n",
       " (659, 665),\n",
       " (665, 666),\n",
       " (667, 673),\n",
       " (674, 679),\n",
       " (680, 686),\n",
       " (687, 689),\n",
       " (690, 694),\n",
       " (694, 695),\n",
       " (0, 0)]"
      ]
     },
     "execution_count": 111,
     "metadata": {},
     "output_type": "execute_result"
    }
   ],
   "source": [
    "tokenized['offset_mapping'][0]"
   ]
  },
  {
   "cell_type": "markdown",
   "id": "3e323107",
   "metadata": {},
   "source": [
    "`tokenized['offset_mapping'][0]` returna le tuple (start,end) di ogni parola dell'input (query, context)\n",
    "Problema: risposte si accavallano attorno a max_length\n",
    "Soluzione: riscalare tuple di contesti tagliati (invece che 0, allinearli alla risposta)\n",
    "[soluzione](https://colab.research.google.com/github/huggingface/notebooks/blob/master/examples/question_answering.ipynb#scrollTo=iLekL6Un9D70&line=24&uniqifier=1)"
   ]
  },
  {
   "cell_type": "code",
   "execution_count": null,
   "id": "8addf3f3",
   "metadata": {},
   "outputs": [],
   "source": []
  }
 ],
 "metadata": {
  "kernelspec": {
   "display_name": "Python [conda env:root] *",
   "language": "python",
   "name": "conda-root-py"
  },
  "language_info": {
   "codemirror_mode": {
    "name": "ipython",
    "version": 3
   },
   "file_extension": ".py",
   "mimetype": "text/x-python",
   "name": "python",
   "nbconvert_exporter": "python",
   "pygments_lexer": "ipython3",
   "version": "3.8.8"
  },
  "toc": {
   "base_numbering": 1,
   "nav_menu": {},
   "number_sections": true,
   "sideBar": true,
   "skip_h1_title": false,
   "title_cell": "Table of Contents",
   "title_sidebar": "Contents",
   "toc_cell": false,
   "toc_position": {},
   "toc_section_display": true,
   "toc_window_display": false
  },
  "varInspector": {
   "cols": {
    "lenName": 16,
    "lenType": 16,
    "lenVar": 40
   },
   "kernels_config": {
    "python": {
     "delete_cmd_postfix": "",
     "delete_cmd_prefix": "del ",
     "library": "var_list.py",
     "varRefreshCmd": "print(var_dic_list())"
    },
    "r": {
     "delete_cmd_postfix": ") ",
     "delete_cmd_prefix": "rm(",
     "library": "var_list.r",
     "varRefreshCmd": "cat(var_dic_list()) "
    }
   },
   "types_to_exclude": [
    "module",
    "function",
    "builtin_function_or_method",
    "instance",
    "_Feature"
   ],
   "window_display": false
  }
 },
 "nbformat": 4,
 "nbformat_minor": 5
}
