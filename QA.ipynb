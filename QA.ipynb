{
 "cells": [
  {
   "cell_type": "code",
   "execution_count": 11,
   "id": "a042c31f",
   "metadata": {
    "ExecuteTime": {
     "end_time": "2021-12-15T10:52:39.139226Z",
     "start_time": "2021-12-15T10:52:39.066151Z"
    }
   },
   "outputs": [],
   "source": [
    "%reload_ext autoreload\n",
    "%autoreload 2"
   ]
  },
  {
   "cell_type": "code",
   "execution_count": 21,
   "id": "3124ea1c",
   "metadata": {
    "ExecuteTime": {
     "end_time": "2021-12-15T10:56:54.391564Z",
     "start_time": "2021-12-15T10:56:54.347679Z"
    }
   },
   "outputs": [],
   "source": [
    "from read_dataset import read_dataset"
   ]
  },
  {
   "cell_type": "code",
   "execution_count": 26,
   "id": "30a5509a",
   "metadata": {
    "ExecuteTime": {
     "end_time": "2021-12-15T10:58:36.189612Z",
     "start_time": "2021-12-15T10:58:35.673717Z"
    }
   },
   "outputs": [],
   "source": [
    "dataset = read_dataset(path='SQUAD MATERIAL/training_set.json')"
   ]
  },
  {
   "cell_type": "code",
   "execution_count": 31,
   "id": "d60de57b",
   "metadata": {
    "ExecuteTime": {
     "end_time": "2021-12-15T10:59:14.629343Z",
     "start_time": "2021-12-15T10:59:14.584408Z"
    }
   },
   "outputs": [
    {
     "data": {
      "text/plain": [
       "['5733be284776f41900661182',\n",
       " 'University_of_Notre_Dame',\n",
       " 'Architecturally, the school has a Catholic character. Atop the Main Building\\'s gold dome is a golden statue of the Virgin Mary. Immediately in front of the Main Building and facing it, is a copper statue of Christ with arms upraised with the legend \"Venite Ad Me Omnes\". Next to the Main Building is the Basilica of the Sacred Heart. Immediately behind the basilica is the Grotto, a Marian place of prayer and reflection. It is a replica of the grotto at Lourdes, France where the Virgin Mary reputedly appeared to Saint Bernadette Soubirous in 1858. At the end of the main drive (and in a direct line that connects through 3 statues and the Gold Dome), is a simple, modern stone statue of Mary.',\n",
       " 'To whom did the Virgin Mary allegedly appear in 1858 in Lourdes France?',\n",
       " 515,\n",
       " 541]"
      ]
     },
     "execution_count": 31,
     "metadata": {},
     "output_type": "execute_result"
    }
   ],
   "source": [
    "dataset[0][0]"
   ]
  }
 ],
 "metadata": {
  "kernelspec": {
   "display_name": "Python 3",
   "language": "python",
   "name": "python3"
  },
  "language_info": {
   "codemirror_mode": {
    "name": "ipython",
    "version": 3
   },
   "file_extension": ".py",
   "mimetype": "text/x-python",
   "name": "python",
   "nbconvert_exporter": "python",
   "pygments_lexer": "ipython3",
   "version": "3.8.0"
  },
  "toc": {
   "base_numbering": 1,
   "nav_menu": {},
   "number_sections": true,
   "sideBar": true,
   "skip_h1_title": false,
   "title_cell": "Table of Contents",
   "title_sidebar": "Contents",
   "toc_cell": false,
   "toc_position": {},
   "toc_section_display": true,
   "toc_window_display": false
  },
  "varInspector": {
   "cols": {
    "lenName": 16,
    "lenType": 16,
    "lenVar": 40
   },
   "kernels_config": {
    "python": {
     "delete_cmd_postfix": "",
     "delete_cmd_prefix": "del ",
     "library": "var_list.py",
     "varRefreshCmd": "print(var_dic_list())"
    },
    "r": {
     "delete_cmd_postfix": ") ",
     "delete_cmd_prefix": "rm(",
     "library": "var_list.r",
     "varRefreshCmd": "cat(var_dic_list()) "
    }
   },
   "types_to_exclude": [
    "module",
    "function",
    "builtin_function_or_method",
    "instance",
    "_Feature"
   ],
   "window_display": false
  }
 },
 "nbformat": 4,
 "nbformat_minor": 5
}
