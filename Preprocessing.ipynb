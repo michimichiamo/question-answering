{
 "cells": [
  {
   "cell_type": "markdown",
   "id": "3c69e289",
   "metadata": {
    "id": "3c69e289"
   },
   "source": [
    "## Imports"
   ]
  },
  {
   "cell_type": "code",
   "execution_count": 1,
   "id": "291d7474",
   "metadata": {
    "ExecuteTime": {
     "end_time": "2022-01-12T09:50:34.119232Z",
     "start_time": "2022-01-12T09:50:26.425353Z"
    },
    "id": "291d7474"
   },
   "outputs": [],
   "source": [
    "%%capture\n",
    "# Suppress output\n",
    "\n",
    "# Whether the notebook is run within Google Colab or not\n",
    "colab = 'google.colab' in str(get_ipython())\n",
    "\n",
    "# General imports\n",
    "import numpy as np\n",
    "import pandas as pd\n",
    "import torch\n",
    "import gc\n",
    "# Install needed dependencies on Colab\n",
    "if colab:\n",
    "    !pip install transformers\n",
    "from transformers import DistilBertTokenizerFast, DistilBertModel\n",
    "\n",
    "# Automatically reimport modules at each execution\n",
    "%reload_ext autoreload\n",
    "%autoreload 2"
   ]
  },
  {
   "cell_type": "markdown",
   "id": "82c77297",
   "metadata": {},
   "source": [
    "## Utils"
   ]
  },
  {
   "cell_type": "code",
   "execution_count": 2,
   "id": "862509a4",
   "metadata": {
    "ExecuteTime": {
     "end_time": "2022-01-12T09:50:41.766777Z",
     "start_time": "2022-01-12T09:50:37.712515Z"
    },
    "colab": {
     "base_uri": "https://localhost:8080/",
     "height": 145,
     "referenced_widgets": [
      "ddf299b04cca4effb0fcf29693edab2b",
      "df0edf12c27c4065bc61a5cce0491a53",
      "5bc4f62777bd45b8b9257701d268d592",
      "c120bd8f319e47c183dd2b8858a9f66f",
      "2e2f8e52231e4f7da9912aba6fc83286",
      "d96adfdc3f3b40279cbf24a3ce0ab474",
      "124ee028cb784f3eb22ee36681f305c8",
      "fc03e48ac2d843cc9545c10a59e4b2bd",
      "57439bf78c5e4ff4a694f009184a1824",
      "fe888830d1fb411ab9c70e196a2ed505",
      "9fa7fdb480da4b01b28a75e111b73e48",
      "499f4f3e4dea4d0e8852c02c7008c727",
      "65fee2c8499441e8bb03a29fad5f5710",
      "b704f17ef24c418ebf89632ba4e9ab32",
      "3591f48d968241ba849ee0c47016b7f4",
      "5d9a793a1eea426981f5b5034d7f7016",
      "27154a92efc149f2848c8b47845f3786",
      "40fd4deabf164522a662104f96f33893",
      "e7d43166d89b47eda4017669ddd55a8f",
      "9f1c49eac26f419a9dec1d673f88a203",
      "249354000c1149e995e069abda91ffc3",
      "05c6efeb5f7d4bb7a2fc4d874dce408d",
      "2b0747f8575b4e17b2d0fd6d0f382dd6",
      "35570e624c614a049d2c7b5467e00571",
      "59e9d7aec1194573bd603814b44bac6c",
      "b1356ff515b548209011b242dbbe7e1c",
      "c76a9288faf244e59eed416004d7a8b3",
      "c49c923b3f7740cda4976bcd8a900861",
      "4f08fedb4dcc4c539fc8ceb69dc12f3b",
      "fa83ad3bb133429da21b4b874acf018a",
      "7f1db0084c0a4ec9a440a3a3aa9a08c0",
      "7ea529bd6e324474bbc3614d944f6484",
      "99f93ee83b0241a5a36c92f1a80b66ec",
      "fb045423860244d9a6c3eefc544390b4",
      "1d1fc4e69d6e45f2a146d31d110edf55",
      "0676874c049e42a7986b64adcdd891bd",
      "406889b904e9467d8d4daec4f611f415",
      "d24151b98a384bdf8a641329aa398bf6",
      "cbe56cd32a7a4eca9f208d88188466c5",
      "e6a28ab808b84eae99d5cbdc446104ee",
      "633d4efa6c874f59b1ae5f8d4ee70863",
      "1141a4eb157f415698d7045edc9b23c5",
      "d4ebbd50069e4a03823ead41552aba49",
      "d9f2671c340849dfa11672d0bcce939b"
     ]
    },
    "id": "862509a4",
    "outputId": "08125878-c65a-4a57-9521-e97fd40d7105"
   },
   "outputs": [],
   "source": [
    "## Load tokenizer (and transformers)\n",
    "tokenizer = DistilBertTokenizerFast.from_pretrained('distilbert-base-cased-distilled-squad')\n",
    "#model = DistilBertModel.from_pretrained('distilbert-base-cased-distilled-squad')\n",
    "\n",
    "# Move answer positions\n",
    "from util.modify_answers_values import move_answers_position"
   ]
  },
  {
   "cell_type": "markdown",
   "id": "abda1479",
   "metadata": {},
   "source": [
    "## Training data"
   ]
  },
  {
   "cell_type": "markdown",
   "id": "eaa58304",
   "metadata": {
    "id": "eaa58304"
   },
   "source": [
    "### Read data"
   ]
  },
  {
   "cell_type": "code",
   "execution_count": 3,
   "id": "8a453903",
   "metadata": {
    "ExecuteTime": {
     "end_time": "2022-01-12T09:50:45.228225Z",
     "start_time": "2022-01-12T09:50:44.582739Z"
    },
    "id": "8a453903"
   },
   "outputs": [],
   "source": [
    "train_filename = './data/context_id/train_df.csv' if not colab else 'https://raw.githubusercontent.com/michimichiamo/question-answering/main/data/context_id/train_df.csv?token=GHSAT0AAAAAABKAIOLO27656R2IWIK3QQO4YPH2N3Q'\n",
    "\n",
    "train_df = pd.read_csv(train_filename)"
   ]
  },
  {
   "cell_type": "code",
   "execution_count": 4,
   "id": "8a4421e3",
   "metadata": {
    "ExecuteTime": {
     "end_time": "2022-01-12T09:50:47.331974Z",
     "start_time": "2022-01-12T09:50:47.260753Z"
    },
    "colab": {
     "base_uri": "https://localhost:8080/"
    },
    "id": "8a4421e3",
    "outputId": "99d29819-3382-4d9c-dd0b-ac797845cc13"
   },
   "outputs": [
    {
     "name": "stdout",
     "output_type": "stream",
     "text": [
      "question: To whom did the Virgin Mary allegedly appear in 1858 in Lourdes France?\n",
      "context: Architecturally, the school has a Catholic character. Atop the Main Building's gold dome is a golden statue of the Virgin Mary. Immediately in front of the Main Building and facing it, is a copper statue of Christ with arms upraised with the legend \"Venite Ad Me Omnes\". Next to the Main Building is the Basilica of the Sacred Heart. Immediately behind the basilica is the Grotto, a Marian place of prayer and reflection. It is a replica of the grotto at Lourdes, France where the Virgin Mary reputedly appeared to Saint Bernadette Soubirous in 1858. At the end of the main drive (and in a direct line that connects through 3 statues and the Gold Dome), is a simple, modern stone statue of Mary.\n",
      "answer: (515, 541)\n"
     ]
    }
   ],
   "source": [
    "train_questions = list(train_df['question'].values)\n",
    "train_contexts = list(train_df['context'].values)\n",
    "#train_context_ids = list(train_df['context_id'].values)\n",
    "train_answers = [train_df['start'].values, train_df['end'].values]\n",
    "\n",
    "print('question:', train_questions[0])\n",
    "print('context:', train_contexts[0])\n",
    "#print('context_id:', train_context_ids[0])\n",
    "print(f'answer: ({train_answers[0][0]}, {train_answers[1][0]})')"
   ]
  },
  {
   "cell_type": "code",
   "execution_count": 5,
   "id": "467e124c",
   "metadata": {
    "ExecuteTime": {
     "end_time": "2022-01-12T09:50:49.025143Z",
     "start_time": "2022-01-12T09:50:48.853864Z"
    }
   },
   "outputs": [
    {
     "data": {
      "text/plain": [
       "71"
      ]
     },
     "execution_count": 5,
     "metadata": {},
     "output_type": "execute_result"
    }
   ],
   "source": [
    "del train_df\n",
    "\n",
    "gc.collect()"
   ]
  },
  {
   "cell_type": "markdown",
   "id": "46b51061",
   "metadata": {},
   "source": [
    "### Tokenize"
   ]
  },
  {
   "cell_type": "code",
   "execution_count": 6,
   "id": "9a0fdafe",
   "metadata": {
    "ExecuteTime": {
     "end_time": "2022-01-12T09:51:18.089000Z",
     "start_time": "2022-01-12T09:50:51.445468Z"
    },
    "cellView": "code",
    "code_folding": [],
    "id": "9a0fdafe"
   },
   "outputs": [],
   "source": [
    "## Tokenize questions and contexts\n",
    "max_length = 512#model.config.max_position_embeddings\n",
    "doc_stride = 256\n",
    "\n",
    "train_tokenized = tokenizer(\n",
    "   train_questions,\n",
    "   train_contexts,\n",
    "   max_length=max_length,\n",
    "   truncation=\"only_second\",\n",
    "   return_overflowing_tokens=True,\n",
    "   return_offsets_mapping=True,\n",
    "   stride=doc_stride,\n",
    "   return_attention_mask=True,\n",
    "   padding='max_length'\n",
    ")"
   ]
  },
  {
   "cell_type": "code",
   "execution_count": 8,
   "id": "3710e4a3",
   "metadata": {
    "ExecuteTime": {
     "end_time": "2022-01-12T09:51:52.052559Z",
     "start_time": "2022-01-12T09:51:50.578603Z"
    }
   },
   "outputs": [
    {
     "data": {
      "text/plain": [
       "45"
      ]
     },
     "execution_count": 8,
     "metadata": {},
     "output_type": "execute_result"
    }
   ],
   "source": [
    "del train_questions, train_contexts\n",
    "\n",
    "gc.collect()"
   ]
  },
  {
   "cell_type": "markdown",
   "id": "eb199b2d",
   "metadata": {},
   "source": [
    "### Fix answers' position"
   ]
  },
  {
   "cell_type": "code",
   "execution_count": 9,
   "id": "YpgmEj9qSqUy",
   "metadata": {
    "ExecuteTime": {
     "end_time": "2022-01-12T09:52:27.621370Z",
     "start_time": "2022-01-12T09:52:11.612281Z"
    },
    "colab": {
     "base_uri": "https://localhost:8080/"
    },
    "id": "YpgmEj9qSqUy",
    "outputId": "ea6b8e0c-c6f9-4f2d-d104-934112139508"
   },
   "outputs": [
    {
     "name": "stdout",
     "output_type": "stream",
     "text": [
      "stats: (all, noth): (71270, 84)\n"
     ]
    }
   ],
   "source": [
    "train_new_answers = move_answers_position(train_tokenized, train_answers)"
   ]
  },
  {
   "cell_type": "code",
   "execution_count": 10,
   "id": "0-iUaphoTShd",
   "metadata": {
    "ExecuteTime": {
     "end_time": "2022-01-12T09:53:01.986472Z",
     "start_time": "2022-01-12T09:53:01.803804Z"
    },
    "id": "0-iUaphoTShd"
   },
   "outputs": [],
   "source": [
    "train_new_start, train_new_end = list(zip(*train_new_answers))"
   ]
  },
  {
   "cell_type": "markdown",
   "id": "0efbc431",
   "metadata": {},
   "source": [
    "### Save"
   ]
  },
  {
   "cell_type": "code",
   "execution_count": 11,
   "id": "K1xbQR6OdFwj",
   "metadata": {
    "ExecuteTime": {
     "end_time": "2022-01-12T09:54:03.208344Z",
     "start_time": "2022-01-12T09:54:00.405824Z"
    },
    "id": "K1xbQR6OdFwj"
   },
   "outputs": [],
   "source": [
    "train_input_ids = np.array(train_tokenized['input_ids'])\n",
    "train_start = np.array(train_new_start)\n",
    "train_end = np.array(train_new_end)"
   ]
  },
  {
   "cell_type": "code",
   "execution_count": 12,
   "id": "04ffa3db",
   "metadata": {
    "ExecuteTime": {
     "end_time": "2022-01-12T09:54:25.835805Z",
     "start_time": "2022-01-12T09:54:22.877321Z"
    }
   },
   "outputs": [],
   "source": [
    "np.savez_compressed('./data/tokenized/train.npz', input_ids=train_input_ids, start=train_start, end=train_end)"
   ]
  },
  {
   "cell_type": "code",
   "execution_count": 14,
   "id": "eda850de",
   "metadata": {
    "ExecuteTime": {
     "end_time": "2022-01-12T09:55:02.375664Z",
     "start_time": "2022-01-12T09:54:49.765423Z"
    }
   },
   "outputs": [
    {
     "data": {
      "text/plain": [
       "37"
      ]
     },
     "execution_count": 14,
     "metadata": {},
     "output_type": "execute_result"
    }
   ],
   "source": [
    "del train_answers, train_input_ids, train_start, train_end, train_new_answers, train_new_end, train_new_start, train_tokenized\n",
    "\n",
    "gc.collect()"
   ]
  },
  {
   "cell_type": "code",
   "execution_count": null,
   "id": "MS-29FXgdqdO",
   "metadata": {
    "id": "MS-29FXgdqdO"
   },
   "outputs": [],
   "source": [
    "#train_data = np.load('./data/tokenized/train.npz')"
   ]
  },
  {
   "cell_type": "markdown",
   "id": "c67ea8dc",
   "metadata": {},
   "source": [
    "## Validation data"
   ]
  },
  {
   "cell_type": "markdown",
   "id": "b0853dca",
   "metadata": {},
   "source": [
    "### Read data"
   ]
  },
  {
   "cell_type": "code",
   "execution_count": 15,
   "id": "1806aa8c",
   "metadata": {
    "ExecuteTime": {
     "end_time": "2022-01-12T09:55:08.799392Z",
     "start_time": "2022-01-12T09:55:08.604606Z"
    }
   },
   "outputs": [],
   "source": [
    "val_filename = './data/context_id/val_df.csv' if not colab else 'https://raw.githubusercontent.com/michimichiamo/question-answering/main/data/context_id/val_df.csv?token=GHSAT0AAAAAABKAIOLOOAHTHZQ3EQEC3ISKYPH2N4Q'\n",
    "\n",
    "val_df = pd.read_csv(val_filename)"
   ]
  },
  {
   "cell_type": "code",
   "execution_count": 16,
   "id": "3744acd6",
   "metadata": {
    "ExecuteTime": {
     "end_time": "2022-01-12T09:55:10.000225Z",
     "start_time": "2022-01-12T09:55:09.938442Z"
    }
   },
   "outputs": [
    {
     "name": "stdout",
     "output_type": "stream",
     "text": [
      "question: What happened to Joseph I in 1758?\n",
      "context: Following the earthquake, Joseph I gave his Prime Minister even more power, and Sebastião de Melo became a powerful, progressive dictator. As his power grew, his enemies increased in number, and bitter disputes with the high nobility became frequent. In 1758 Joseph I was wounded in an attempted assassination. The Távora family and the Duke of Aveiro were implicated and executed after a quick trial. The Jesuits were expelled from the country and their assets confiscated by the crown. Sebastião de Melo prosecuted every person involved, even women and children. This was the final stroke that broke the power of the aristocracy. Joseph I made his loyal minister Count of Oeiras in 1759.\n",
      "answer: (272, 309)\n"
     ]
    }
   ],
   "source": [
    "val_questions = list(val_df['question'].values)\n",
    "val_contexts = list(val_df['context'].values)\n",
    "#val_context_ids = list(val_df['context_id'].values)\n",
    "val_answers = [val_df['start'].values, val_df['end'].values]\n",
    "\n",
    "print('question:', val_questions[0])\n",
    "print('context:', val_contexts[0])\n",
    "#print('context_id:', val_context_ids[0])\n",
    "print(f'answer: ({val_answers[0][0]}, {val_answers[1][0]})')"
   ]
  },
  {
   "cell_type": "code",
   "execution_count": 18,
   "id": "09824701",
   "metadata": {
    "ExecuteTime": {
     "end_time": "2022-01-12T09:55:18.020036Z",
     "start_time": "2022-01-12T09:55:17.820328Z"
    }
   },
   "outputs": [
    {
     "data": {
      "text/plain": [
       "2917"
      ]
     },
     "execution_count": 18,
     "metadata": {},
     "output_type": "execute_result"
    }
   ],
   "source": [
    "del val_df\n",
    "\n",
    "gc.collect()"
   ]
  },
  {
   "cell_type": "markdown",
   "id": "00450a13",
   "metadata": {},
   "source": [
    "### Tokenize"
   ]
  },
  {
   "cell_type": "code",
   "execution_count": 19,
   "id": "dFW7ebYCbmog",
   "metadata": {
    "ExecuteTime": {
     "end_time": "2022-01-12T09:55:31.189628Z",
     "start_time": "2022-01-12T09:55:26.060348Z"
    },
    "id": "dFW7ebYCbmog"
   },
   "outputs": [],
   "source": [
    "val_tokenized = tokenizer(\n",
    "   val_questions,\n",
    "   val_contexts,\n",
    "   max_length=max_length,\n",
    "   truncation=\"only_second\",\n",
    "   return_overflowing_tokens=True,\n",
    "   return_offsets_mapping=True,\n",
    "   stride=doc_stride,\n",
    "   return_attention_mask=True,\n",
    "   padding='max_length'\n",
    ")"
   ]
  },
  {
   "cell_type": "code",
   "execution_count": 20,
   "id": "57f9793a",
   "metadata": {
    "ExecuteTime": {
     "end_time": "2022-01-12T09:55:46.229230Z",
     "start_time": "2022-01-12T09:55:45.779662Z"
    }
   },
   "outputs": [
    {
     "data": {
      "text/plain": [
       "30"
      ]
     },
     "execution_count": 20,
     "metadata": {},
     "output_type": "execute_result"
    }
   ],
   "source": [
    "del val_questions, val_contexts\n",
    "\n",
    "gc.collect()"
   ]
  },
  {
   "cell_type": "markdown",
   "id": "48059e5e",
   "metadata": {},
   "source": [
    "### Fix answers' position"
   ]
  },
  {
   "cell_type": "code",
   "execution_count": 21,
   "id": "bLb-ThVgexqh",
   "metadata": {
    "ExecuteTime": {
     "end_time": "2022-01-12T09:55:54.168829Z",
     "start_time": "2022-01-12T09:55:51.119209Z"
    },
    "colab": {
     "base_uri": "https://localhost:8080/"
    },
    "id": "bLb-ThVgexqh",
    "outputId": "bdfbe3fc-bf36-4cae-e2e9-2c74d6bab6d7"
   },
   "outputs": [
    {
     "name": "stdout",
     "output_type": "stream",
     "text": [
      "stats: (all, noth): (16376, 18)\n"
     ]
    }
   ],
   "source": [
    "val_new_answers = move_answers_position(val_tokenized, val_answers)"
   ]
  },
  {
   "cell_type": "code",
   "execution_count": 22,
   "id": "JG8kzAZMb3E4",
   "metadata": {
    "ExecuteTime": {
     "end_time": "2022-01-12T09:55:58.636337Z",
     "start_time": "2022-01-12T09:55:58.557402Z"
    },
    "id": "JG8kzAZMb3E4"
   },
   "outputs": [],
   "source": [
    "val_new_start, val_new_end = list(zip(*val_new_answers))"
   ]
  },
  {
   "cell_type": "markdown",
   "id": "251b1df0",
   "metadata": {},
   "source": [
    "### Save"
   ]
  },
  {
   "cell_type": "code",
   "execution_count": 23,
   "id": "guZmNKGPbsAD",
   "metadata": {
    "ExecuteTime": {
     "end_time": "2022-01-12T09:56:04.340669Z",
     "start_time": "2022-01-12T09:56:03.620049Z"
    },
    "id": "guZmNKGPbsAD"
   },
   "outputs": [],
   "source": [
    "val_input_ids = np.array(val_tokenized['input_ids'])\n",
    "val_start = np.array(val_new_start)\n",
    "val_end = np.array(val_new_end)"
   ]
  },
  {
   "cell_type": "code",
   "execution_count": 24,
   "id": "7561a390",
   "metadata": {
    "ExecuteTime": {
     "end_time": "2022-01-12T09:56:09.758305Z",
     "start_time": "2022-01-12T09:56:09.047224Z"
    }
   },
   "outputs": [],
   "source": [
    "np.savez_compressed('./data/tokenized/val.npz', input_ids=val_input_ids, start=val_start, end=val_end)"
   ]
  },
  {
   "cell_type": "code",
   "execution_count": 25,
   "id": "GRubbE-YefQ9",
   "metadata": {
    "ExecuteTime": {
     "end_time": "2022-01-12T09:56:19.750876Z",
     "start_time": "2022-01-12T09:56:17.842561Z"
    },
    "id": "GRubbE-YefQ9"
   },
   "outputs": [
    {
     "data": {
      "text/plain": [
       "50711"
      ]
     },
     "execution_count": 25,
     "metadata": {},
     "output_type": "execute_result"
    }
   ],
   "source": [
    "del val_answers, val_input_ids, val_start, val_end, val_new_answers, val_new_end, val_new_start, val_tokenized\n",
    "\n",
    "gc.collect()"
   ]
  },
  {
   "cell_type": "code",
   "execution_count": null,
   "id": "74321e5c",
   "metadata": {},
   "outputs": [],
   "source": [
    "#val_data = np.load('./data/tokenized/val.npz')"
   ]
  }
 ],
 "metadata": {
  "accelerator": "GPU",
  "colab": {
   "collapsed_sections": [],
   "name": "QA.ipynb",
   "provenance": []
  },
  "kernelspec": {
   "display_name": "Python [conda env:root] *",
   "language": "python",
   "name": "conda-root-py"
  },
  "language_info": {
   "codemirror_mode": {
    "name": "ipython",
    "version": 3
   },
   "file_extension": ".py",
   "mimetype": "text/x-python",
   "name": "python",
   "nbconvert_exporter": "python",
   "pygments_lexer": "ipython3",
   "version": "3.8.8"
  },
  "toc": {
   "base_numbering": 1,
   "nav_menu": {},
   "number_sections": true,
   "sideBar": true,
   "skip_h1_title": false,
   "title_cell": "Table of Contents",
   "title_sidebar": "Contents",
   "toc_cell": false,
   "toc_position": {},
   "toc_section_display": true,
   "toc_window_display": false
  },
  "varInspector": {
   "cols": {
    "lenName": 16,
    "lenType": 16,
    "lenVar": 40
   },
   "kernels_config": {
    "python": {
     "delete_cmd_postfix": "",
     "delete_cmd_prefix": "del ",
     "library": "var_list.py",
     "varRefreshCmd": "print(var_dic_list())"
    },
    "r": {
     "delete_cmd_postfix": ") ",
     "delete_cmd_prefix": "rm(",
     "library": "var_list.r",
     "varRefreshCmd": "cat(var_dic_list()) "
    }
   },
   "types_to_exclude": [
    "module",
    "function",
    "builtin_function_or_method",
    "instance",
    "_Feature"
   ],
   "window_display": false
  },
  "widgets": {
   "application/vnd.jupyter.widget-state+json": {
    "05c6efeb5f7d4bb7a2fc4d874dce408d": {
     "model_module": "@jupyter-widgets/base",
     "model_module_version": "1.2.0",
     "model_name": "LayoutModel",
     "state": {
      "_model_module": "@jupyter-widgets/base",
      "_model_module_version": "1.2.0",
      "_model_name": "LayoutModel",
      "_view_count": null,
      "_view_module": "@jupyter-widgets/base",
      "_view_module_version": "1.2.0",
      "_view_name": "LayoutView",
      "align_content": null,
      "align_items": null,
      "align_self": null,
      "border": null,
      "bottom": null,
      "display": null,
      "flex": null,
      "flex_flow": null,
      "grid_area": null,
      "grid_auto_columns": null,
      "grid_auto_flow": null,
      "grid_auto_rows": null,
      "grid_column": null,
      "grid_gap": null,
      "grid_row": null,
      "grid_template_areas": null,
      "grid_template_columns": null,
      "grid_template_rows": null,
      "height": null,
      "justify_content": null,
      "justify_items": null,
      "left": null,
      "margin": null,
      "max_height": null,
      "max_width": null,
      "min_height": null,
      "min_width": null,
      "object_fit": null,
      "object_position": null,
      "order": null,
      "overflow": null,
      "overflow_x": null,
      "overflow_y": null,
      "padding": null,
      "right": null,
      "top": null,
      "visibility": null,
      "width": null
     }
    },
    "0676874c049e42a7986b64adcdd891bd": {
     "model_module": "@jupyter-widgets/controls",
     "model_module_version": "1.5.0",
     "model_name": "HTMLModel",
     "state": {
      "_dom_classes": [],
      "_model_module": "@jupyter-widgets/controls",
      "_model_module_version": "1.5.0",
      "_model_name": "HTMLModel",
      "_view_count": null,
      "_view_module": "@jupyter-widgets/controls",
      "_view_module_version": "1.5.0",
      "_view_name": "HTMLView",
      "description": "",
      "description_tooltip": null,
      "layout": "IPY_MODEL_e6a28ab808b84eae99d5cbdc446104ee",
      "placeholder": "​",
      "style": "IPY_MODEL_cbe56cd32a7a4eca9f208d88188466c5",
      "value": "Downloading: 100%"
     }
    },
    "1141a4eb157f415698d7045edc9b23c5": {
     "model_module": "@jupyter-widgets/base",
     "model_module_version": "1.2.0",
     "model_name": "LayoutModel",
     "state": {
      "_model_module": "@jupyter-widgets/base",
      "_model_module_version": "1.2.0",
      "_model_name": "LayoutModel",
      "_view_count": null,
      "_view_module": "@jupyter-widgets/base",
      "_view_module_version": "1.2.0",
      "_view_name": "LayoutView",
      "align_content": null,
      "align_items": null,
      "align_self": null,
      "border": null,
      "bottom": null,
      "display": null,
      "flex": null,
      "flex_flow": null,
      "grid_area": null,
      "grid_auto_columns": null,
      "grid_auto_flow": null,
      "grid_auto_rows": null,
      "grid_column": null,
      "grid_gap": null,
      "grid_row": null,
      "grid_template_areas": null,
      "grid_template_columns": null,
      "grid_template_rows": null,
      "height": null,
      "justify_content": null,
      "justify_items": null,
      "left": null,
      "margin": null,
      "max_height": null,
      "max_width": null,
      "min_height": null,
      "min_width": null,
      "object_fit": null,
      "object_position": null,
      "order": null,
      "overflow": null,
      "overflow_x": null,
      "overflow_y": null,
      "padding": null,
      "right": null,
      "top": null,
      "visibility": null,
      "width": null
     }
    },
    "124ee028cb784f3eb22ee36681f305c8": {
     "model_module": "@jupyter-widgets/base",
     "model_module_version": "1.2.0",
     "model_name": "LayoutModel",
     "state": {
      "_model_module": "@jupyter-widgets/base",
      "_model_module_version": "1.2.0",
      "_model_name": "LayoutModel",
      "_view_count": null,
      "_view_module": "@jupyter-widgets/base",
      "_view_module_version": "1.2.0",
      "_view_name": "LayoutView",
      "align_content": null,
      "align_items": null,
      "align_self": null,
      "border": null,
      "bottom": null,
      "display": null,
      "flex": null,
      "flex_flow": null,
      "grid_area": null,
      "grid_auto_columns": null,
      "grid_auto_flow": null,
      "grid_auto_rows": null,
      "grid_column": null,
      "grid_gap": null,
      "grid_row": null,
      "grid_template_areas": null,
      "grid_template_columns": null,
      "grid_template_rows": null,
      "height": null,
      "justify_content": null,
      "justify_items": null,
      "left": null,
      "margin": null,
      "max_height": null,
      "max_width": null,
      "min_height": null,
      "min_width": null,
      "object_fit": null,
      "object_position": null,
      "order": null,
      "overflow": null,
      "overflow_x": null,
      "overflow_y": null,
      "padding": null,
      "right": null,
      "top": null,
      "visibility": null,
      "width": null
     }
    },
    "1d1fc4e69d6e45f2a146d31d110edf55": {
     "model_module": "@jupyter-widgets/base",
     "model_module_version": "1.2.0",
     "model_name": "LayoutModel",
     "state": {
      "_model_module": "@jupyter-widgets/base",
      "_model_module_version": "1.2.0",
      "_model_name": "LayoutModel",
      "_view_count": null,
      "_view_module": "@jupyter-widgets/base",
      "_view_module_version": "1.2.0",
      "_view_name": "LayoutView",
      "align_content": null,
      "align_items": null,
      "align_self": null,
      "border": null,
      "bottom": null,
      "display": null,
      "flex": null,
      "flex_flow": null,
      "grid_area": null,
      "grid_auto_columns": null,
      "grid_auto_flow": null,
      "grid_auto_rows": null,
      "grid_column": null,
      "grid_gap": null,
      "grid_row": null,
      "grid_template_areas": null,
      "grid_template_columns": null,
      "grid_template_rows": null,
      "height": null,
      "justify_content": null,
      "justify_items": null,
      "left": null,
      "margin": null,
      "max_height": null,
      "max_width": null,
      "min_height": null,
      "min_width": null,
      "object_fit": null,
      "object_position": null,
      "order": null,
      "overflow": null,
      "overflow_x": null,
      "overflow_y": null,
      "padding": null,
      "right": null,
      "top": null,
      "visibility": null,
      "width": null
     }
    },
    "249354000c1149e995e069abda91ffc3": {
     "model_module": "@jupyter-widgets/controls",
     "model_module_version": "1.5.0",
     "model_name": "DescriptionStyleModel",
     "state": {
      "_model_module": "@jupyter-widgets/controls",
      "_model_module_version": "1.5.0",
      "_model_name": "DescriptionStyleModel",
      "_view_count": null,
      "_view_module": "@jupyter-widgets/base",
      "_view_module_version": "1.2.0",
      "_view_name": "StyleView",
      "description_width": ""
     }
    },
    "27154a92efc149f2848c8b47845f3786": {
     "model_module": "@jupyter-widgets/controls",
     "model_module_version": "1.5.0",
     "model_name": "DescriptionStyleModel",
     "state": {
      "_model_module": "@jupyter-widgets/controls",
      "_model_module_version": "1.5.0",
      "_model_name": "DescriptionStyleModel",
      "_view_count": null,
      "_view_module": "@jupyter-widgets/base",
      "_view_module_version": "1.2.0",
      "_view_name": "StyleView",
      "description_width": ""
     }
    },
    "2b0747f8575b4e17b2d0fd6d0f382dd6": {
     "model_module": "@jupyter-widgets/controls",
     "model_module_version": "1.5.0",
     "model_name": "HBoxModel",
     "state": {
      "_dom_classes": [],
      "_model_module": "@jupyter-widgets/controls",
      "_model_module_version": "1.5.0",
      "_model_name": "HBoxModel",
      "_view_count": null,
      "_view_module": "@jupyter-widgets/controls",
      "_view_module_version": "1.5.0",
      "_view_name": "HBoxView",
      "box_style": "",
      "children": [
       "IPY_MODEL_59e9d7aec1194573bd603814b44bac6c",
       "IPY_MODEL_b1356ff515b548209011b242dbbe7e1c",
       "IPY_MODEL_c76a9288faf244e59eed416004d7a8b3"
      ],
      "layout": "IPY_MODEL_35570e624c614a049d2c7b5467e00571"
     }
    },
    "2e2f8e52231e4f7da9912aba6fc83286": {
     "model_module": "@jupyter-widgets/controls",
     "model_module_version": "1.5.0",
     "model_name": "HTMLModel",
     "state": {
      "_dom_classes": [],
      "_model_module": "@jupyter-widgets/controls",
      "_model_module_version": "1.5.0",
      "_model_name": "HTMLModel",
      "_view_count": null,
      "_view_module": "@jupyter-widgets/controls",
      "_view_module_version": "1.5.0",
      "_view_name": "HTMLView",
      "description": "",
      "description_tooltip": null,
      "layout": "IPY_MODEL_9fa7fdb480da4b01b28a75e111b73e48",
      "placeholder": "​",
      "style": "IPY_MODEL_fe888830d1fb411ab9c70e196a2ed505",
      "value": " 208k/208k [00:00&lt;00:00, 1.09MB/s]"
     }
    },
    "35570e624c614a049d2c7b5467e00571": {
     "model_module": "@jupyter-widgets/base",
     "model_module_version": "1.2.0",
     "model_name": "LayoutModel",
     "state": {
      "_model_module": "@jupyter-widgets/base",
      "_model_module_version": "1.2.0",
      "_model_name": "LayoutModel",
      "_view_count": null,
      "_view_module": "@jupyter-widgets/base",
      "_view_module_version": "1.2.0",
      "_view_name": "LayoutView",
      "align_content": null,
      "align_items": null,
      "align_self": null,
      "border": null,
      "bottom": null,
      "display": null,
      "flex": null,
      "flex_flow": null,
      "grid_area": null,
      "grid_auto_columns": null,
      "grid_auto_flow": null,
      "grid_auto_rows": null,
      "grid_column": null,
      "grid_gap": null,
      "grid_row": null,
      "grid_template_areas": null,
      "grid_template_columns": null,
      "grid_template_rows": null,
      "height": null,
      "justify_content": null,
      "justify_items": null,
      "left": null,
      "margin": null,
      "max_height": null,
      "max_width": null,
      "min_height": null,
      "min_width": null,
      "object_fit": null,
      "object_position": null,
      "order": null,
      "overflow": null,
      "overflow_x": null,
      "overflow_y": null,
      "padding": null,
      "right": null,
      "top": null,
      "visibility": null,
      "width": null
     }
    },
    "3591f48d968241ba849ee0c47016b7f4": {
     "model_module": "@jupyter-widgets/controls",
     "model_module_version": "1.5.0",
     "model_name": "FloatProgressModel",
     "state": {
      "_dom_classes": [],
      "_model_module": "@jupyter-widgets/controls",
      "_model_module_version": "1.5.0",
      "_model_name": "FloatProgressModel",
      "_view_count": null,
      "_view_module": "@jupyter-widgets/controls",
      "_view_module_version": "1.5.0",
      "_view_name": "ProgressView",
      "bar_style": "success",
      "description": "",
      "description_tooltip": null,
      "layout": "IPY_MODEL_9f1c49eac26f419a9dec1d673f88a203",
      "max": 435797,
      "min": 0,
      "orientation": "horizontal",
      "style": "IPY_MODEL_e7d43166d89b47eda4017669ddd55a8f",
      "value": 435797
     }
    },
    "406889b904e9467d8d4daec4f611f415": {
     "model_module": "@jupyter-widgets/controls",
     "model_module_version": "1.5.0",
     "model_name": "FloatProgressModel",
     "state": {
      "_dom_classes": [],
      "_model_module": "@jupyter-widgets/controls",
      "_model_module_version": "1.5.0",
      "_model_name": "FloatProgressModel",
      "_view_count": null,
      "_view_module": "@jupyter-widgets/controls",
      "_view_module_version": "1.5.0",
      "_view_name": "ProgressView",
      "bar_style": "success",
      "description": "",
      "description_tooltip": null,
      "layout": "IPY_MODEL_1141a4eb157f415698d7045edc9b23c5",
      "max": 473,
      "min": 0,
      "orientation": "horizontal",
      "style": "IPY_MODEL_633d4efa6c874f59b1ae5f8d4ee70863",
      "value": 473
     }
    },
    "40fd4deabf164522a662104f96f33893": {
     "model_module": "@jupyter-widgets/base",
     "model_module_version": "1.2.0",
     "model_name": "LayoutModel",
     "state": {
      "_model_module": "@jupyter-widgets/base",
      "_model_module_version": "1.2.0",
      "_model_name": "LayoutModel",
      "_view_count": null,
      "_view_module": "@jupyter-widgets/base",
      "_view_module_version": "1.2.0",
      "_view_name": "LayoutView",
      "align_content": null,
      "align_items": null,
      "align_self": null,
      "border": null,
      "bottom": null,
      "display": null,
      "flex": null,
      "flex_flow": null,
      "grid_area": null,
      "grid_auto_columns": null,
      "grid_auto_flow": null,
      "grid_auto_rows": null,
      "grid_column": null,
      "grid_gap": null,
      "grid_row": null,
      "grid_template_areas": null,
      "grid_template_columns": null,
      "grid_template_rows": null,
      "height": null,
      "justify_content": null,
      "justify_items": null,
      "left": null,
      "margin": null,
      "max_height": null,
      "max_width": null,
      "min_height": null,
      "min_width": null,
      "object_fit": null,
      "object_position": null,
      "order": null,
      "overflow": null,
      "overflow_x": null,
      "overflow_y": null,
      "padding": null,
      "right": null,
      "top": null,
      "visibility": null,
      "width": null
     }
    },
    "499f4f3e4dea4d0e8852c02c7008c727": {
     "model_module": "@jupyter-widgets/controls",
     "model_module_version": "1.5.0",
     "model_name": "HBoxModel",
     "state": {
      "_dom_classes": [],
      "_model_module": "@jupyter-widgets/controls",
      "_model_module_version": "1.5.0",
      "_model_name": "HBoxModel",
      "_view_count": null,
      "_view_module": "@jupyter-widgets/controls",
      "_view_module_version": "1.5.0",
      "_view_name": "HBoxView",
      "box_style": "",
      "children": [
       "IPY_MODEL_b704f17ef24c418ebf89632ba4e9ab32",
       "IPY_MODEL_3591f48d968241ba849ee0c47016b7f4",
       "IPY_MODEL_5d9a793a1eea426981f5b5034d7f7016"
      ],
      "layout": "IPY_MODEL_65fee2c8499441e8bb03a29fad5f5710"
     }
    },
    "4f08fedb4dcc4c539fc8ceb69dc12f3b": {
     "model_module": "@jupyter-widgets/base",
     "model_module_version": "1.2.0",
     "model_name": "LayoutModel",
     "state": {
      "_model_module": "@jupyter-widgets/base",
      "_model_module_version": "1.2.0",
      "_model_name": "LayoutModel",
      "_view_count": null,
      "_view_module": "@jupyter-widgets/base",
      "_view_module_version": "1.2.0",
      "_view_name": "LayoutView",
      "align_content": null,
      "align_items": null,
      "align_self": null,
      "border": null,
      "bottom": null,
      "display": null,
      "flex": null,
      "flex_flow": null,
      "grid_area": null,
      "grid_auto_columns": null,
      "grid_auto_flow": null,
      "grid_auto_rows": null,
      "grid_column": null,
      "grid_gap": null,
      "grid_row": null,
      "grid_template_areas": null,
      "grid_template_columns": null,
      "grid_template_rows": null,
      "height": null,
      "justify_content": null,
      "justify_items": null,
      "left": null,
      "margin": null,
      "max_height": null,
      "max_width": null,
      "min_height": null,
      "min_width": null,
      "object_fit": null,
      "object_position": null,
      "order": null,
      "overflow": null,
      "overflow_x": null,
      "overflow_y": null,
      "padding": null,
      "right": null,
      "top": null,
      "visibility": null,
      "width": null
     }
    },
    "57439bf78c5e4ff4a694f009184a1824": {
     "model_module": "@jupyter-widgets/base",
     "model_module_version": "1.2.0",
     "model_name": "LayoutModel",
     "state": {
      "_model_module": "@jupyter-widgets/base",
      "_model_module_version": "1.2.0",
      "_model_name": "LayoutModel",
      "_view_count": null,
      "_view_module": "@jupyter-widgets/base",
      "_view_module_version": "1.2.0",
      "_view_name": "LayoutView",
      "align_content": null,
      "align_items": null,
      "align_self": null,
      "border": null,
      "bottom": null,
      "display": null,
      "flex": null,
      "flex_flow": null,
      "grid_area": null,
      "grid_auto_columns": null,
      "grid_auto_flow": null,
      "grid_auto_rows": null,
      "grid_column": null,
      "grid_gap": null,
      "grid_row": null,
      "grid_template_areas": null,
      "grid_template_columns": null,
      "grid_template_rows": null,
      "height": null,
      "justify_content": null,
      "justify_items": null,
      "left": null,
      "margin": null,
      "max_height": null,
      "max_width": null,
      "min_height": null,
      "min_width": null,
      "object_fit": null,
      "object_position": null,
      "order": null,
      "overflow": null,
      "overflow_x": null,
      "overflow_y": null,
      "padding": null,
      "right": null,
      "top": null,
      "visibility": null,
      "width": null
     }
    },
    "59e9d7aec1194573bd603814b44bac6c": {
     "model_module": "@jupyter-widgets/controls",
     "model_module_version": "1.5.0",
     "model_name": "HTMLModel",
     "state": {
      "_dom_classes": [],
      "_model_module": "@jupyter-widgets/controls",
      "_model_module_version": "1.5.0",
      "_model_name": "HTMLModel",
      "_view_count": null,
      "_view_module": "@jupyter-widgets/controls",
      "_view_module_version": "1.5.0",
      "_view_name": "HTMLView",
      "description": "",
      "description_tooltip": null,
      "layout": "IPY_MODEL_4f08fedb4dcc4c539fc8ceb69dc12f3b",
      "placeholder": "​",
      "style": "IPY_MODEL_c49c923b3f7740cda4976bcd8a900861",
      "value": "Downloading: 100%"
     }
    },
    "5bc4f62777bd45b8b9257701d268d592": {
     "model_module": "@jupyter-widgets/controls",
     "model_module_version": "1.5.0",
     "model_name": "HTMLModel",
     "state": {
      "_dom_classes": [],
      "_model_module": "@jupyter-widgets/controls",
      "_model_module_version": "1.5.0",
      "_model_name": "HTMLModel",
      "_view_count": null,
      "_view_module": "@jupyter-widgets/controls",
      "_view_module_version": "1.5.0",
      "_view_name": "HTMLView",
      "description": "",
      "description_tooltip": null,
      "layout": "IPY_MODEL_124ee028cb784f3eb22ee36681f305c8",
      "placeholder": "​",
      "style": "IPY_MODEL_d96adfdc3f3b40279cbf24a3ce0ab474",
      "value": "Downloading: 100%"
     }
    },
    "5d9a793a1eea426981f5b5034d7f7016": {
     "model_module": "@jupyter-widgets/controls",
     "model_module_version": "1.5.0",
     "model_name": "HTMLModel",
     "state": {
      "_dom_classes": [],
      "_model_module": "@jupyter-widgets/controls",
      "_model_module_version": "1.5.0",
      "_model_name": "HTMLModel",
      "_view_count": null,
      "_view_module": "@jupyter-widgets/controls",
      "_view_module_version": "1.5.0",
      "_view_name": "HTMLView",
      "description": "",
      "description_tooltip": null,
      "layout": "IPY_MODEL_05c6efeb5f7d4bb7a2fc4d874dce408d",
      "placeholder": "​",
      "style": "IPY_MODEL_249354000c1149e995e069abda91ffc3",
      "value": " 426k/426k [00:00&lt;00:00, 1.04MB/s]"
     }
    },
    "633d4efa6c874f59b1ae5f8d4ee70863": {
     "model_module": "@jupyter-widgets/controls",
     "model_module_version": "1.5.0",
     "model_name": "ProgressStyleModel",
     "state": {
      "_model_module": "@jupyter-widgets/controls",
      "_model_module_version": "1.5.0",
      "_model_name": "ProgressStyleModel",
      "_view_count": null,
      "_view_module": "@jupyter-widgets/base",
      "_view_module_version": "1.2.0",
      "_view_name": "StyleView",
      "bar_color": null,
      "description_width": ""
     }
    },
    "65fee2c8499441e8bb03a29fad5f5710": {
     "model_module": "@jupyter-widgets/base",
     "model_module_version": "1.2.0",
     "model_name": "LayoutModel",
     "state": {
      "_model_module": "@jupyter-widgets/base",
      "_model_module_version": "1.2.0",
      "_model_name": "LayoutModel",
      "_view_count": null,
      "_view_module": "@jupyter-widgets/base",
      "_view_module_version": "1.2.0",
      "_view_name": "LayoutView",
      "align_content": null,
      "align_items": null,
      "align_self": null,
      "border": null,
      "bottom": null,
      "display": null,
      "flex": null,
      "flex_flow": null,
      "grid_area": null,
      "grid_auto_columns": null,
      "grid_auto_flow": null,
      "grid_auto_rows": null,
      "grid_column": null,
      "grid_gap": null,
      "grid_row": null,
      "grid_template_areas": null,
      "grid_template_columns": null,
      "grid_template_rows": null,
      "height": null,
      "justify_content": null,
      "justify_items": null,
      "left": null,
      "margin": null,
      "max_height": null,
      "max_width": null,
      "min_height": null,
      "min_width": null,
      "object_fit": null,
      "object_position": null,
      "order": null,
      "overflow": null,
      "overflow_x": null,
      "overflow_y": null,
      "padding": null,
      "right": null,
      "top": null,
      "visibility": null,
      "width": null
     }
    },
    "7ea529bd6e324474bbc3614d944f6484": {
     "model_module": "@jupyter-widgets/controls",
     "model_module_version": "1.5.0",
     "model_name": "DescriptionStyleModel",
     "state": {
      "_model_module": "@jupyter-widgets/controls",
      "_model_module_version": "1.5.0",
      "_model_name": "DescriptionStyleModel",
      "_view_count": null,
      "_view_module": "@jupyter-widgets/base",
      "_view_module_version": "1.2.0",
      "_view_name": "StyleView",
      "description_width": ""
     }
    },
    "7f1db0084c0a4ec9a440a3a3aa9a08c0": {
     "model_module": "@jupyter-widgets/base",
     "model_module_version": "1.2.0",
     "model_name": "LayoutModel",
     "state": {
      "_model_module": "@jupyter-widgets/base",
      "_model_module_version": "1.2.0",
      "_model_name": "LayoutModel",
      "_view_count": null,
      "_view_module": "@jupyter-widgets/base",
      "_view_module_version": "1.2.0",
      "_view_name": "LayoutView",
      "align_content": null,
      "align_items": null,
      "align_self": null,
      "border": null,
      "bottom": null,
      "display": null,
      "flex": null,
      "flex_flow": null,
      "grid_area": null,
      "grid_auto_columns": null,
      "grid_auto_flow": null,
      "grid_auto_rows": null,
      "grid_column": null,
      "grid_gap": null,
      "grid_row": null,
      "grid_template_areas": null,
      "grid_template_columns": null,
      "grid_template_rows": null,
      "height": null,
      "justify_content": null,
      "justify_items": null,
      "left": null,
      "margin": null,
      "max_height": null,
      "max_width": null,
      "min_height": null,
      "min_width": null,
      "object_fit": null,
      "object_position": null,
      "order": null,
      "overflow": null,
      "overflow_x": null,
      "overflow_y": null,
      "padding": null,
      "right": null,
      "top": null,
      "visibility": null,
      "width": null
     }
    },
    "99f93ee83b0241a5a36c92f1a80b66ec": {
     "model_module": "@jupyter-widgets/base",
     "model_module_version": "1.2.0",
     "model_name": "LayoutModel",
     "state": {
      "_model_module": "@jupyter-widgets/base",
      "_model_module_version": "1.2.0",
      "_model_name": "LayoutModel",
      "_view_count": null,
      "_view_module": "@jupyter-widgets/base",
      "_view_module_version": "1.2.0",
      "_view_name": "LayoutView",
      "align_content": null,
      "align_items": null,
      "align_self": null,
      "border": null,
      "bottom": null,
      "display": null,
      "flex": null,
      "flex_flow": null,
      "grid_area": null,
      "grid_auto_columns": null,
      "grid_auto_flow": null,
      "grid_auto_rows": null,
      "grid_column": null,
      "grid_gap": null,
      "grid_row": null,
      "grid_template_areas": null,
      "grid_template_columns": null,
      "grid_template_rows": null,
      "height": null,
      "justify_content": null,
      "justify_items": null,
      "left": null,
      "margin": null,
      "max_height": null,
      "max_width": null,
      "min_height": null,
      "min_width": null,
      "object_fit": null,
      "object_position": null,
      "order": null,
      "overflow": null,
      "overflow_x": null,
      "overflow_y": null,
      "padding": null,
      "right": null,
      "top": null,
      "visibility": null,
      "width": null
     }
    },
    "9f1c49eac26f419a9dec1d673f88a203": {
     "model_module": "@jupyter-widgets/base",
     "model_module_version": "1.2.0",
     "model_name": "LayoutModel",
     "state": {
      "_model_module": "@jupyter-widgets/base",
      "_model_module_version": "1.2.0",
      "_model_name": "LayoutModel",
      "_view_count": null,
      "_view_module": "@jupyter-widgets/base",
      "_view_module_version": "1.2.0",
      "_view_name": "LayoutView",
      "align_content": null,
      "align_items": null,
      "align_self": null,
      "border": null,
      "bottom": null,
      "display": null,
      "flex": null,
      "flex_flow": null,
      "grid_area": null,
      "grid_auto_columns": null,
      "grid_auto_flow": null,
      "grid_auto_rows": null,
      "grid_column": null,
      "grid_gap": null,
      "grid_row": null,
      "grid_template_areas": null,
      "grid_template_columns": null,
      "grid_template_rows": null,
      "height": null,
      "justify_content": null,
      "justify_items": null,
      "left": null,
      "margin": null,
      "max_height": null,
      "max_width": null,
      "min_height": null,
      "min_width": null,
      "object_fit": null,
      "object_position": null,
      "order": null,
      "overflow": null,
      "overflow_x": null,
      "overflow_y": null,
      "padding": null,
      "right": null,
      "top": null,
      "visibility": null,
      "width": null
     }
    },
    "9fa7fdb480da4b01b28a75e111b73e48": {
     "model_module": "@jupyter-widgets/base",
     "model_module_version": "1.2.0",
     "model_name": "LayoutModel",
     "state": {
      "_model_module": "@jupyter-widgets/base",
      "_model_module_version": "1.2.0",
      "_model_name": "LayoutModel",
      "_view_count": null,
      "_view_module": "@jupyter-widgets/base",
      "_view_module_version": "1.2.0",
      "_view_name": "LayoutView",
      "align_content": null,
      "align_items": null,
      "align_self": null,
      "border": null,
      "bottom": null,
      "display": null,
      "flex": null,
      "flex_flow": null,
      "grid_area": null,
      "grid_auto_columns": null,
      "grid_auto_flow": null,
      "grid_auto_rows": null,
      "grid_column": null,
      "grid_gap": null,
      "grid_row": null,
      "grid_template_areas": null,
      "grid_template_columns": null,
      "grid_template_rows": null,
      "height": null,
      "justify_content": null,
      "justify_items": null,
      "left": null,
      "margin": null,
      "max_height": null,
      "max_width": null,
      "min_height": null,
      "min_width": null,
      "object_fit": null,
      "object_position": null,
      "order": null,
      "overflow": null,
      "overflow_x": null,
      "overflow_y": null,
      "padding": null,
      "right": null,
      "top": null,
      "visibility": null,
      "width": null
     }
    },
    "b1356ff515b548209011b242dbbe7e1c": {
     "model_module": "@jupyter-widgets/controls",
     "model_module_version": "1.5.0",
     "model_name": "FloatProgressModel",
     "state": {
      "_dom_classes": [],
      "_model_module": "@jupyter-widgets/controls",
      "_model_module_version": "1.5.0",
      "_model_name": "FloatProgressModel",
      "_view_count": null,
      "_view_module": "@jupyter-widgets/controls",
      "_view_module_version": "1.5.0",
      "_view_name": "ProgressView",
      "bar_style": "success",
      "description": "",
      "description_tooltip": null,
      "layout": "IPY_MODEL_7f1db0084c0a4ec9a440a3a3aa9a08c0",
      "max": 29,
      "min": 0,
      "orientation": "horizontal",
      "style": "IPY_MODEL_fa83ad3bb133429da21b4b874acf018a",
      "value": 29
     }
    },
    "b704f17ef24c418ebf89632ba4e9ab32": {
     "model_module": "@jupyter-widgets/controls",
     "model_module_version": "1.5.0",
     "model_name": "HTMLModel",
     "state": {
      "_dom_classes": [],
      "_model_module": "@jupyter-widgets/controls",
      "_model_module_version": "1.5.0",
      "_model_name": "HTMLModel",
      "_view_count": null,
      "_view_module": "@jupyter-widgets/controls",
      "_view_module_version": "1.5.0",
      "_view_name": "HTMLView",
      "description": "",
      "description_tooltip": null,
      "layout": "IPY_MODEL_40fd4deabf164522a662104f96f33893",
      "placeholder": "​",
      "style": "IPY_MODEL_27154a92efc149f2848c8b47845f3786",
      "value": "Downloading: 100%"
     }
    },
    "c120bd8f319e47c183dd2b8858a9f66f": {
     "model_module": "@jupyter-widgets/controls",
     "model_module_version": "1.5.0",
     "model_name": "FloatProgressModel",
     "state": {
      "_dom_classes": [],
      "_model_module": "@jupyter-widgets/controls",
      "_model_module_version": "1.5.0",
      "_model_name": "FloatProgressModel",
      "_view_count": null,
      "_view_module": "@jupyter-widgets/controls",
      "_view_module_version": "1.5.0",
      "_view_name": "ProgressView",
      "bar_style": "success",
      "description": "",
      "description_tooltip": null,
      "layout": "IPY_MODEL_57439bf78c5e4ff4a694f009184a1824",
      "max": 213450,
      "min": 0,
      "orientation": "horizontal",
      "style": "IPY_MODEL_fc03e48ac2d843cc9545c10a59e4b2bd",
      "value": 213450
     }
    },
    "c49c923b3f7740cda4976bcd8a900861": {
     "model_module": "@jupyter-widgets/controls",
     "model_module_version": "1.5.0",
     "model_name": "DescriptionStyleModel",
     "state": {
      "_model_module": "@jupyter-widgets/controls",
      "_model_module_version": "1.5.0",
      "_model_name": "DescriptionStyleModel",
      "_view_count": null,
      "_view_module": "@jupyter-widgets/base",
      "_view_module_version": "1.2.0",
      "_view_name": "StyleView",
      "description_width": ""
     }
    },
    "c76a9288faf244e59eed416004d7a8b3": {
     "model_module": "@jupyter-widgets/controls",
     "model_module_version": "1.5.0",
     "model_name": "HTMLModel",
     "state": {
      "_dom_classes": [],
      "_model_module": "@jupyter-widgets/controls",
      "_model_module_version": "1.5.0",
      "_model_name": "HTMLModel",
      "_view_count": null,
      "_view_module": "@jupyter-widgets/controls",
      "_view_module_version": "1.5.0",
      "_view_name": "HTMLView",
      "description": "",
      "description_tooltip": null,
      "layout": "IPY_MODEL_99f93ee83b0241a5a36c92f1a80b66ec",
      "placeholder": "​",
      "style": "IPY_MODEL_7ea529bd6e324474bbc3614d944f6484",
      "value": " 29.0/29.0 [00:00&lt;00:00, 784B/s]"
     }
    },
    "cbe56cd32a7a4eca9f208d88188466c5": {
     "model_module": "@jupyter-widgets/controls",
     "model_module_version": "1.5.0",
     "model_name": "DescriptionStyleModel",
     "state": {
      "_model_module": "@jupyter-widgets/controls",
      "_model_module_version": "1.5.0",
      "_model_name": "DescriptionStyleModel",
      "_view_count": null,
      "_view_module": "@jupyter-widgets/base",
      "_view_module_version": "1.2.0",
      "_view_name": "StyleView",
      "description_width": ""
     }
    },
    "d24151b98a384bdf8a641329aa398bf6": {
     "model_module": "@jupyter-widgets/controls",
     "model_module_version": "1.5.0",
     "model_name": "HTMLModel",
     "state": {
      "_dom_classes": [],
      "_model_module": "@jupyter-widgets/controls",
      "_model_module_version": "1.5.0",
      "_model_name": "HTMLModel",
      "_view_count": null,
      "_view_module": "@jupyter-widgets/controls",
      "_view_module_version": "1.5.0",
      "_view_name": "HTMLView",
      "description": "",
      "description_tooltip": null,
      "layout": "IPY_MODEL_d9f2671c340849dfa11672d0bcce939b",
      "placeholder": "​",
      "style": "IPY_MODEL_d4ebbd50069e4a03823ead41552aba49",
      "value": " 473/473 [00:00&lt;00:00, 11.2kB/s]"
     }
    },
    "d4ebbd50069e4a03823ead41552aba49": {
     "model_module": "@jupyter-widgets/controls",
     "model_module_version": "1.5.0",
     "model_name": "DescriptionStyleModel",
     "state": {
      "_model_module": "@jupyter-widgets/controls",
      "_model_module_version": "1.5.0",
      "_model_name": "DescriptionStyleModel",
      "_view_count": null,
      "_view_module": "@jupyter-widgets/base",
      "_view_module_version": "1.2.0",
      "_view_name": "StyleView",
      "description_width": ""
     }
    },
    "d96adfdc3f3b40279cbf24a3ce0ab474": {
     "model_module": "@jupyter-widgets/controls",
     "model_module_version": "1.5.0",
     "model_name": "DescriptionStyleModel",
     "state": {
      "_model_module": "@jupyter-widgets/controls",
      "_model_module_version": "1.5.0",
      "_model_name": "DescriptionStyleModel",
      "_view_count": null,
      "_view_module": "@jupyter-widgets/base",
      "_view_module_version": "1.2.0",
      "_view_name": "StyleView",
      "description_width": ""
     }
    },
    "d9f2671c340849dfa11672d0bcce939b": {
     "model_module": "@jupyter-widgets/base",
     "model_module_version": "1.2.0",
     "model_name": "LayoutModel",
     "state": {
      "_model_module": "@jupyter-widgets/base",
      "_model_module_version": "1.2.0",
      "_model_name": "LayoutModel",
      "_view_count": null,
      "_view_module": "@jupyter-widgets/base",
      "_view_module_version": "1.2.0",
      "_view_name": "LayoutView",
      "align_content": null,
      "align_items": null,
      "align_self": null,
      "border": null,
      "bottom": null,
      "display": null,
      "flex": null,
      "flex_flow": null,
      "grid_area": null,
      "grid_auto_columns": null,
      "grid_auto_flow": null,
      "grid_auto_rows": null,
      "grid_column": null,
      "grid_gap": null,
      "grid_row": null,
      "grid_template_areas": null,
      "grid_template_columns": null,
      "grid_template_rows": null,
      "height": null,
      "justify_content": null,
      "justify_items": null,
      "left": null,
      "margin": null,
      "max_height": null,
      "max_width": null,
      "min_height": null,
      "min_width": null,
      "object_fit": null,
      "object_position": null,
      "order": null,
      "overflow": null,
      "overflow_x": null,
      "overflow_y": null,
      "padding": null,
      "right": null,
      "top": null,
      "visibility": null,
      "width": null
     }
    },
    "ddf299b04cca4effb0fcf29693edab2b": {
     "model_module": "@jupyter-widgets/controls",
     "model_module_version": "1.5.0",
     "model_name": "HBoxModel",
     "state": {
      "_dom_classes": [],
      "_model_module": "@jupyter-widgets/controls",
      "_model_module_version": "1.5.0",
      "_model_name": "HBoxModel",
      "_view_count": null,
      "_view_module": "@jupyter-widgets/controls",
      "_view_module_version": "1.5.0",
      "_view_name": "HBoxView",
      "box_style": "",
      "children": [
       "IPY_MODEL_5bc4f62777bd45b8b9257701d268d592",
       "IPY_MODEL_c120bd8f319e47c183dd2b8858a9f66f",
       "IPY_MODEL_2e2f8e52231e4f7da9912aba6fc83286"
      ],
      "layout": "IPY_MODEL_df0edf12c27c4065bc61a5cce0491a53"
     }
    },
    "df0edf12c27c4065bc61a5cce0491a53": {
     "model_module": "@jupyter-widgets/base",
     "model_module_version": "1.2.0",
     "model_name": "LayoutModel",
     "state": {
      "_model_module": "@jupyter-widgets/base",
      "_model_module_version": "1.2.0",
      "_model_name": "LayoutModel",
      "_view_count": null,
      "_view_module": "@jupyter-widgets/base",
      "_view_module_version": "1.2.0",
      "_view_name": "LayoutView",
      "align_content": null,
      "align_items": null,
      "align_self": null,
      "border": null,
      "bottom": null,
      "display": null,
      "flex": null,
      "flex_flow": null,
      "grid_area": null,
      "grid_auto_columns": null,
      "grid_auto_flow": null,
      "grid_auto_rows": null,
      "grid_column": null,
      "grid_gap": null,
      "grid_row": null,
      "grid_template_areas": null,
      "grid_template_columns": null,
      "grid_template_rows": null,
      "height": null,
      "justify_content": null,
      "justify_items": null,
      "left": null,
      "margin": null,
      "max_height": null,
      "max_width": null,
      "min_height": null,
      "min_width": null,
      "object_fit": null,
      "object_position": null,
      "order": null,
      "overflow": null,
      "overflow_x": null,
      "overflow_y": null,
      "padding": null,
      "right": null,
      "top": null,
      "visibility": null,
      "width": null
     }
    },
    "e6a28ab808b84eae99d5cbdc446104ee": {
     "model_module": "@jupyter-widgets/base",
     "model_module_version": "1.2.0",
     "model_name": "LayoutModel",
     "state": {
      "_model_module": "@jupyter-widgets/base",
      "_model_module_version": "1.2.0",
      "_model_name": "LayoutModel",
      "_view_count": null,
      "_view_module": "@jupyter-widgets/base",
      "_view_module_version": "1.2.0",
      "_view_name": "LayoutView",
      "align_content": null,
      "align_items": null,
      "align_self": null,
      "border": null,
      "bottom": null,
      "display": null,
      "flex": null,
      "flex_flow": null,
      "grid_area": null,
      "grid_auto_columns": null,
      "grid_auto_flow": null,
      "grid_auto_rows": null,
      "grid_column": null,
      "grid_gap": null,
      "grid_row": null,
      "grid_template_areas": null,
      "grid_template_columns": null,
      "grid_template_rows": null,
      "height": null,
      "justify_content": null,
      "justify_items": null,
      "left": null,
      "margin": null,
      "max_height": null,
      "max_width": null,
      "min_height": null,
      "min_width": null,
      "object_fit": null,
      "object_position": null,
      "order": null,
      "overflow": null,
      "overflow_x": null,
      "overflow_y": null,
      "padding": null,
      "right": null,
      "top": null,
      "visibility": null,
      "width": null
     }
    },
    "e7d43166d89b47eda4017669ddd55a8f": {
     "model_module": "@jupyter-widgets/controls",
     "model_module_version": "1.5.0",
     "model_name": "ProgressStyleModel",
     "state": {
      "_model_module": "@jupyter-widgets/controls",
      "_model_module_version": "1.5.0",
      "_model_name": "ProgressStyleModel",
      "_view_count": null,
      "_view_module": "@jupyter-widgets/base",
      "_view_module_version": "1.2.0",
      "_view_name": "StyleView",
      "bar_color": null,
      "description_width": ""
     }
    },
    "fa83ad3bb133429da21b4b874acf018a": {
     "model_module": "@jupyter-widgets/controls",
     "model_module_version": "1.5.0",
     "model_name": "ProgressStyleModel",
     "state": {
      "_model_module": "@jupyter-widgets/controls",
      "_model_module_version": "1.5.0",
      "_model_name": "ProgressStyleModel",
      "_view_count": null,
      "_view_module": "@jupyter-widgets/base",
      "_view_module_version": "1.2.0",
      "_view_name": "StyleView",
      "bar_color": null,
      "description_width": ""
     }
    },
    "fb045423860244d9a6c3eefc544390b4": {
     "model_module": "@jupyter-widgets/controls",
     "model_module_version": "1.5.0",
     "model_name": "HBoxModel",
     "state": {
      "_dom_classes": [],
      "_model_module": "@jupyter-widgets/controls",
      "_model_module_version": "1.5.0",
      "_model_name": "HBoxModel",
      "_view_count": null,
      "_view_module": "@jupyter-widgets/controls",
      "_view_module_version": "1.5.0",
      "_view_name": "HBoxView",
      "box_style": "",
      "children": [
       "IPY_MODEL_0676874c049e42a7986b64adcdd891bd",
       "IPY_MODEL_406889b904e9467d8d4daec4f611f415",
       "IPY_MODEL_d24151b98a384bdf8a641329aa398bf6"
      ],
      "layout": "IPY_MODEL_1d1fc4e69d6e45f2a146d31d110edf55"
     }
    },
    "fc03e48ac2d843cc9545c10a59e4b2bd": {
     "model_module": "@jupyter-widgets/controls",
     "model_module_version": "1.5.0",
     "model_name": "ProgressStyleModel",
     "state": {
      "_model_module": "@jupyter-widgets/controls",
      "_model_module_version": "1.5.0",
      "_model_name": "ProgressStyleModel",
      "_view_count": null,
      "_view_module": "@jupyter-widgets/base",
      "_view_module_version": "1.2.0",
      "_view_name": "StyleView",
      "bar_color": null,
      "description_width": ""
     }
    },
    "fe888830d1fb411ab9c70e196a2ed505": {
     "model_module": "@jupyter-widgets/controls",
     "model_module_version": "1.5.0",
     "model_name": "DescriptionStyleModel",
     "state": {
      "_model_module": "@jupyter-widgets/controls",
      "_model_module_version": "1.5.0",
      "_model_name": "DescriptionStyleModel",
      "_view_count": null,
      "_view_module": "@jupyter-widgets/base",
      "_view_module_version": "1.2.0",
      "_view_name": "StyleView",
      "description_width": ""
     }
    }
   }
  }
 },
 "nbformat": 4,
 "nbformat_minor": 5
}
