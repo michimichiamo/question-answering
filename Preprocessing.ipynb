{
  "cells": [
    {
      "cell_type": "markdown",
      "id": "3c69e289",
      "metadata": {
        "id": "3c69e289"
      },
      "source": [
        "## Imports"
      ]
    },
    {
      "cell_type": "code",
      "execution_count": 1,
      "id": "291d7474",
      "metadata": {
        "ExecuteTime": {
          "end_time": "2022-01-12T10:23:00.530935Z",
          "start_time": "2022-01-12T10:22:52.351536Z"
        },
        "id": "291d7474"
      },
      "outputs": [],
      "source": [
        "%%capture\n",
        "# Suppress output\n",
        "\n",
        "# Whether the notebook is run within Google Colab or not\n",
        "colab = 'google.colab' in str(get_ipython())\n",
        "\n",
        "# General imports\n",
        "import numpy as np\n",
        "import pandas as pd\n",
        "import torch\n",
        "import gc\n",
        "# Install needed dependencies on Colab\n",
        "if colab:\n",
        "    !pip install transformers\n",
        "from transformers import DistilBertTokenizerFast, DistilBertModel\n",
        "\n",
        "# Automatically reimport modules at each execution\n",
        "%reload_ext autoreload\n",
        "%autoreload 2"
      ]
    },
    {
      "cell_type": "code",
      "source": [
        "if colab:\n",
        "    !git clone https://github.com/michimichiamo/question-answering\n",
        "    import os\n",
        "    os.chdir('/content/question-answering')"
      ],
      "metadata": {
        "id": "xNvyQ4HhHCOM",
        "outputId": "9d2c54ae-e45d-482f-a624-1bc566f5d8eb",
        "colab": {
          "base_uri": "https://localhost:8080/"
        }
      },
      "id": "xNvyQ4HhHCOM",
      "execution_count": 2,
      "outputs": [
        {
          "output_type": "stream",
          "name": "stdout",
          "text": [
            "Cloning into 'question-answering'...\n",
            "remote: Enumerating objects: 117, done.\u001b[K\n",
            "remote: Counting objects: 100% (104/104), done.\u001b[K\n",
            "remote: Compressing objects: 100% (87/87), done.\u001b[K\n",
            "remote: Total 117 (delta 51), reused 57 (delta 17), pack-reused 13\u001b[K\n",
            "Receiving objects: 100% (117/117), 32.29 MiB | 4.97 MiB/s, done.\n",
            "Resolving deltas: 100% (54/54), done.\n",
            "Checking out files: 100% (19/19), done.\n"
          ]
        }
      ]
    },
    {
      "cell_type": "markdown",
      "id": "82c77297",
      "metadata": {
        "id": "82c77297"
      },
      "source": [
        "## Utils"
      ]
    },
    {
      "cell_type": "code",
      "execution_count": 13,
      "id": "862509a4",
      "metadata": {
        "ExecuteTime": {
          "end_time": "2022-01-12T10:23:07.510068Z",
          "start_time": "2022-01-12T10:23:03.465896Z"
        },
        "id": "862509a4"
      },
      "outputs": [],
      "source": [
        "## Load tokenizer (and transformers)\n",
        "tokenizer = DistilBertTokenizerFast.from_pretrained('distilbert-base-cased-distilled-squad')\n",
        "#model = DistilBertModel.from_pretrained('distilbert-base-cased-distilled-squad')\n",
        "\n",
        "# Move answer positions\n",
        "from util.modify_answers_values import move_answers_position"
      ]
    },
    {
      "cell_type": "markdown",
      "id": "abda1479",
      "metadata": {
        "id": "abda1479"
      },
      "source": [
        "## Training data"
      ]
    },
    {
      "cell_type": "markdown",
      "id": "eaa58304",
      "metadata": {
        "id": "eaa58304"
      },
      "source": [
        "### Read data"
      ]
    },
    {
      "cell_type": "code",
      "execution_count": 39,
      "id": "8a453903",
      "metadata": {
        "ExecuteTime": {
          "end_time": "2022-01-12T10:24:06.113834Z",
          "start_time": "2022-01-12T10:24:05.441044Z"
        },
        "id": "8a453903"
      },
      "outputs": [],
      "source": [
        "train_filename = './data/context_id/train_df.csv' if not colab else 'https://raw.githubusercontent.com/michimichiamo/question-answering/main/data/context_id/train_df.csv'\n",
        "\n",
        "train_df = pd.read_csv(train_filename)"
      ]
    },
    {
      "cell_type": "code",
      "execution_count": 40,
      "id": "8a4421e3",
      "metadata": {
        "ExecuteTime": {
          "end_time": "2022-01-12T10:24:09.449439Z",
          "start_time": "2022-01-12T10:24:09.382466Z"
        },
        "colab": {
          "base_uri": "https://localhost:8080/"
        },
        "id": "8a4421e3",
        "outputId": "32382094-9e8a-4276-b323-412d7c508847"
      },
      "outputs": [
        {
          "output_type": "stream",
          "name": "stdout",
          "text": [
            "question: To whom did the Virgin Mary allegedly appear in 1858 in Lourdes France?\n",
            "context: Architecturally, the school has a Catholic character. Atop the Main Building's gold dome is a golden statue of the Virgin Mary. Immediately in front of the Main Building and facing it, is a copper statue of Christ with arms upraised with the legend \"Venite Ad Me Omnes\". Next to the Main Building is the Basilica of the Sacred Heart. Immediately behind the basilica is the Grotto, a Marian place of prayer and reflection. It is a replica of the grotto at Lourdes, France where the Virgin Mary reputedly appeared to Saint Bernadette Soubirous in 1858. At the end of the main drive (and in a direct line that connects through 3 statues and the Gold Dome), is a simple, modern stone statue of Mary.\n",
            "answer: (515, 541)\n"
          ]
        }
      ],
      "source": [
        "train_questions = list(train_df['question'].values)\n",
        "train_contexts = list(train_df['context'].values)\n",
        "#train_context_ids = list(train_df['context_id'].values)\n",
        "train_answers = [train_df['start'].values, train_df['end'].values]\n",
        "\n",
        "print('question:', train_questions[0])\n",
        "print('context:', train_contexts[0])\n",
        "#print('context_id:', train_context_ids[0])\n",
        "print(f'answer: ({train_answers[0][0]}, {train_answers[1][0]})')"
      ]
    },
    {
      "cell_type": "code",
      "execution_count": 41,
      "id": "467e124c",
      "metadata": {
        "ExecuteTime": {
          "end_time": "2022-01-12T10:24:11.380778Z",
          "start_time": "2022-01-12T10:24:11.208475Z"
        },
        "id": "467e124c",
        "outputId": "412fd5b2-c4ed-49ad-ffab-504cbc6d0316",
        "colab": {
          "base_uri": "https://localhost:8080/"
        }
      },
      "outputs": [
        {
          "output_type": "execute_result",
          "data": {
            "text/plain": [
              "332"
            ]
          },
          "metadata": {},
          "execution_count": 41
        }
      ],
      "source": [
        "del train_df\n",
        "\n",
        "gc.collect()"
      ]
    },
    {
      "cell_type": "markdown",
      "id": "46b51061",
      "metadata": {
        "id": "46b51061"
      },
      "source": [
        "### Tokenize"
      ]
    },
    {
      "cell_type": "code",
      "execution_count": 42,
      "id": "9a0fdafe",
      "metadata": {
        "ExecuteTime": {
          "end_time": "2022-01-12T10:24:40.774792Z",
          "start_time": "2022-01-12T10:24:14.416129Z"
        },
        "cellView": "code",
        "code_folding": [],
        "id": "9a0fdafe"
      },
      "outputs": [],
      "source": [
        "## Tokenize questions and contexts\n",
        "max_length = 512#model.config.max_position_embeddings\n",
        "doc_stride = 256\n",
        "\n",
        "train_tokenized = tokenizer(\n",
        "   train_questions,\n",
        "   train_contexts,\n",
        "   max_length=max_length,\n",
        "   truncation=\"only_second\",\n",
        "   return_overflowing_tokens=True,\n",
        "   return_offsets_mapping=True,\n",
        "   stride=doc_stride,\n",
        "   return_attention_mask=True,\n",
        "   padding='max_length'\n",
        ")"
      ]
    },
    {
      "cell_type": "code",
      "execution_count": 43,
      "id": "3710e4a3",
      "metadata": {
        "ExecuteTime": {
          "end_time": "2022-01-12T10:25:22.402236Z",
          "start_time": "2022-01-12T10:25:21.066475Z"
        },
        "id": "3710e4a3",
        "outputId": "3c02f9b1-a1d7-49f7-b5fa-c5274e3da32b",
        "colab": {
          "base_uri": "https://localhost:8080/"
        }
      },
      "outputs": [
        {
          "output_type": "execute_result",
          "data": {
            "text/plain": [
              "88"
            ]
          },
          "metadata": {},
          "execution_count": 43
        }
      ],
      "source": [
        "del train_questions, train_contexts\n",
        "\n",
        "gc.collect()"
      ]
    },
    {
      "cell_type": "markdown",
      "id": "eb199b2d",
      "metadata": {
        "id": "eb199b2d"
      },
      "source": [
        "### Fix answers' position"
      ]
    },
    {
      "cell_type": "code",
      "execution_count": 44,
      "id": "YpgmEj9qSqUy",
      "metadata": {
        "ExecuteTime": {
          "end_time": "2022-01-12T10:26:16.093110Z",
          "start_time": "2022-01-12T10:26:02.636567Z"
        },
        "colab": {
          "base_uri": "https://localhost:8080/"
        },
        "id": "YpgmEj9qSqUy",
        "outputId": "e8e84273-8124-427d-832b-a1f3a6fa44d4"
      },
      "outputs": [
        {
          "output_type": "stream",
          "name": "stdout",
          "text": [
            "stats: (all, noth): (71270, 84)\n"
          ]
        }
      ],
      "source": [
        "train_new_answers = move_answers_position(train_tokenized, train_answers)"
      ]
    },
    {
      "cell_type": "code",
      "execution_count": 45,
      "id": "0-iUaphoTShd",
      "metadata": {
        "ExecuteTime": {
          "end_time": "2022-01-12T10:26:57.078005Z",
          "start_time": "2022-01-12T10:26:56.958439Z"
        },
        "id": "0-iUaphoTShd"
      },
      "outputs": [],
      "source": [
        "train_new_answer_start, train_new_answer_end = list(zip(*train_new_answers))"
      ]
    },
    {
      "cell_type": "markdown",
      "id": "0efbc431",
      "metadata": {
        "id": "0efbc431"
      },
      "source": [
        "### Save"
      ]
    },
    {
      "cell_type": "code",
      "execution_count": 46,
      "id": "K1xbQR6OdFwj",
      "metadata": {
        "ExecuteTime": {
          "end_time": "2022-01-12T10:27:43.111170Z",
          "start_time": "2022-01-12T10:27:37.753540Z"
        },
        "id": "K1xbQR6OdFwj"
      },
      "outputs": [],
      "source": [
        "train_input_ids = np.array(train_tokenized['input_ids'])\n",
        "train_attention_mask = np.array(train_tokenized['attention_mask'])\n",
        "train_answer_start = np.array(train_new_answer_start)\n",
        "train_answer_end = np.array(train_new_answer_end)"
      ]
    },
    {
      "cell_type": "code",
      "source": [
        "answer_start = np.zeros(shape=(len(train_answer_start), 512), dtype='float64')\n",
        "answer_end = np.zeros(shape=(len(train_answer_end), 512), dtype='float64')\n",
        "\n",
        "for row, (start_value, end_value) in enumerate(zip(train_answer_start, train_answer_end)):\n",
        "    answer_start[row][start_value] = 1\n",
        "    answer_end[row][end_value] = 1"
      ],
      "metadata": {
        "id": "fnTP7V3LFuHn"
      },
      "id": "fnTP7V3LFuHn",
      "execution_count": 47,
      "outputs": []
    },
    {
      "cell_type": "code",
      "execution_count": 48,
      "id": "04ffa3db",
      "metadata": {
        "ExecuteTime": {
          "end_time": "2022-01-12T10:28:26.348156Z",
          "start_time": "2022-01-12T10:28:21.964637Z"
        },
        "id": "04ffa3db"
      },
      "outputs": [],
      "source": [
        "np.savez_compressed('./data/tokenized/train.npz', input_ids=train_input_ids, attention_mask=train_attention_mask, answer_start=answer_start, answer_end=answer_end)"
      ]
    },
    {
      "cell_type": "code",
      "execution_count": 27,
      "id": "eda850de",
      "metadata": {
        "ExecuteTime": {
          "end_time": "2022-01-12T10:29:32.305521Z",
          "start_time": "2022-01-12T10:29:30.763772Z"
        },
        "id": "eda850de",
        "outputId": "d4770687-c543-4478-c8f9-bc895a62cf58",
        "colab": {
          "base_uri": "https://localhost:8080/"
        }
      },
      "outputs": [
        {
          "output_type": "execute_result",
          "data": {
            "text/plain": [
              "287"
            ]
          },
          "metadata": {},
          "execution_count": 27
        }
      ],
      "source": [
        "del train_answers, train_input_ids, train_attention_mask, train_answer_start, train_answer_end, train_new_answers, train_new_answer_start, train_new_answer_end, train_tokenized\n",
        "\n",
        "gc.collect()"
      ]
    },
    {
      "cell_type": "code",
      "execution_count": null,
      "id": "MS-29FXgdqdO",
      "metadata": {
        "id": "MS-29FXgdqdO"
      },
      "outputs": [],
      "source": [
        "#train_data = np.load('./data/tokenized/train.npz')"
      ]
    },
    {
      "cell_type": "markdown",
      "id": "c67ea8dc",
      "metadata": {
        "id": "c67ea8dc"
      },
      "source": [
        "## Validation data"
      ]
    },
    {
      "cell_type": "markdown",
      "id": "b0853dca",
      "metadata": {
        "id": "b0853dca"
      },
      "source": [
        "### Read data"
      ]
    },
    {
      "cell_type": "code",
      "execution_count": 28,
      "id": "1806aa8c",
      "metadata": {
        "ExecuteTime": {
          "end_time": "2022-01-12T10:34:20.278296Z",
          "start_time": "2022-01-12T10:34:20.051358Z"
        },
        "id": "1806aa8c"
      },
      "outputs": [],
      "source": [
        "val_filename = './data/context_id/val_df.csv' if not colab else 'https://raw.githubusercontent.com/michimichiamo/question-answering/main/data/context_id/val_df.csv'\n",
        "\n",
        "val_df = pd.read_csv(val_filename)"
      ]
    },
    {
      "cell_type": "code",
      "execution_count": 29,
      "id": "3744acd6",
      "metadata": {
        "ExecuteTime": {
          "end_time": "2022-01-12T10:37:49.990894Z",
          "start_time": "2022-01-12T10:37:49.921007Z"
        },
        "id": "3744acd6",
        "outputId": "1b651274-aa33-43a0-8b52-91e20eacfcb3",
        "colab": {
          "base_uri": "https://localhost:8080/"
        }
      },
      "outputs": [
        {
          "output_type": "stream",
          "name": "stdout",
          "text": [
            "question: What happened to Joseph I in 1758?\n",
            "context: Following the earthquake, Joseph I gave his Prime Minister even more power, and Sebastião de Melo became a powerful, progressive dictator. As his power grew, his enemies increased in number, and bitter disputes with the high nobility became frequent. In 1758 Joseph I was wounded in an attempted assassination. The Távora family and the Duke of Aveiro were implicated and executed after a quick trial. The Jesuits were expelled from the country and their assets confiscated by the crown. Sebastião de Melo prosecuted every person involved, even women and children. This was the final stroke that broke the power of the aristocracy. Joseph I made his loyal minister Count of Oeiras in 1759.\n",
            "answer: (272, 309)\n"
          ]
        }
      ],
      "source": [
        "val_questions = list(val_df['question'].values)\n",
        "val_contexts = list(val_df['context'].values)\n",
        "#val_context_ids = list(val_df['context_id'].values)\n",
        "val_answers = [val_df['start'].values, val_df['end'].values]\n",
        "\n",
        "print('question:', val_questions[0])\n",
        "print('context:', val_contexts[0])\n",
        "#print('context_id:', val_context_ids[0])\n",
        "print(f'answer: ({val_answers[0][0]}, {val_answers[1][0]})')"
      ]
    },
    {
      "cell_type": "code",
      "execution_count": 30,
      "id": "09824701",
      "metadata": {
        "ExecuteTime": {
          "end_time": "2022-01-12T10:38:29.944137Z",
          "start_time": "2022-01-12T10:38:28.675039Z"
        },
        "id": "09824701",
        "outputId": "58523902-d27d-4b95-bd1a-316450826acd",
        "colab": {
          "base_uri": "https://localhost:8080/"
        }
      },
      "outputs": [
        {
          "output_type": "execute_result",
          "data": {
            "text/plain": [
              "88"
            ]
          },
          "metadata": {},
          "execution_count": 30
        }
      ],
      "source": [
        "del val_df\n",
        "\n",
        "gc.collect()"
      ]
    },
    {
      "cell_type": "markdown",
      "id": "00450a13",
      "metadata": {
        "id": "00450a13"
      },
      "source": [
        "### Tokenize"
      ]
    },
    {
      "cell_type": "code",
      "execution_count": 31,
      "id": "dFW7ebYCbmog",
      "metadata": {
        "ExecuteTime": {
          "end_time": "2022-01-12T10:39:14.239967Z",
          "start_time": "2022-01-12T10:39:08.427332Z"
        },
        "id": "dFW7ebYCbmog"
      },
      "outputs": [],
      "source": [
        "val_tokenized = tokenizer(\n",
        "   val_questions,\n",
        "   val_contexts,\n",
        "   max_length=max_length,\n",
        "   truncation=\"only_second\",\n",
        "   return_overflowing_tokens=True,\n",
        "   return_offsets_mapping=True,\n",
        "   stride=doc_stride,\n",
        "   return_attention_mask=True,\n",
        "   padding='max_length'\n",
        ")"
      ]
    },
    {
      "cell_type": "code",
      "execution_count": 32,
      "id": "57f9793a",
      "metadata": {
        "ExecuteTime": {
          "end_time": "2022-01-12T10:40:05.310486Z",
          "start_time": "2022-01-12T10:40:03.544383Z"
        },
        "id": "57f9793a",
        "outputId": "7669e0f9-742f-4864-f8b8-3640d881949b",
        "colab": {
          "base_uri": "https://localhost:8080/"
        }
      },
      "outputs": [
        {
          "output_type": "execute_result",
          "data": {
            "text/plain": [
              "304"
            ]
          },
          "metadata": {},
          "execution_count": 32
        }
      ],
      "source": [
        "del val_questions, val_contexts\n",
        "\n",
        "gc.collect()"
      ]
    },
    {
      "cell_type": "markdown",
      "id": "48059e5e",
      "metadata": {
        "id": "48059e5e"
      },
      "source": [
        "### Fix answers' position"
      ]
    },
    {
      "cell_type": "code",
      "execution_count": 33,
      "id": "bLb-ThVgexqh",
      "metadata": {
        "ExecuteTime": {
          "end_time": "2022-01-12T10:40:54.864847Z",
          "start_time": "2022-01-12T10:40:51.931789Z"
        },
        "colab": {
          "base_uri": "https://localhost:8080/"
        },
        "id": "bLb-ThVgexqh",
        "outputId": "a42083ef-a976-4925-e3e5-6f86a0a75bfb"
      },
      "outputs": [
        {
          "output_type": "stream",
          "name": "stdout",
          "text": [
            "stats: (all, noth): (16376, 18)\n"
          ]
        }
      ],
      "source": [
        "val_new_answers = move_answers_position(val_tokenized, val_answers)"
      ]
    },
    {
      "cell_type": "code",
      "execution_count": 34,
      "id": "JG8kzAZMb3E4",
      "metadata": {
        "ExecuteTime": {
          "end_time": "2022-01-12T10:42:30.902001Z",
          "start_time": "2022-01-12T10:42:30.834478Z"
        },
        "id": "JG8kzAZMb3E4"
      },
      "outputs": [],
      "source": [
        "val_new_answer_start, val_new_answer_end = list(zip(*val_new_answers))"
      ]
    },
    {
      "cell_type": "markdown",
      "id": "251b1df0",
      "metadata": {
        "id": "251b1df0"
      },
      "source": [
        "### Save"
      ]
    },
    {
      "cell_type": "code",
      "execution_count": 35,
      "id": "guZmNKGPbsAD",
      "metadata": {
        "ExecuteTime": {
          "end_time": "2022-01-12T10:43:20.904933Z",
          "start_time": "2022-01-12T10:43:19.598451Z"
        },
        "id": "guZmNKGPbsAD"
      },
      "outputs": [],
      "source": [
        "val_input_ids = np.array(val_tokenized['input_ids'])\n",
        "val_attention_mask = np.array(val_tokenized['attention_mask'])\n",
        "val_answer_start = np.array(val_new_answer_start)\n",
        "val_answer_end = np.array(val_new_answer_end)"
      ]
    },
    {
      "cell_type": "code",
      "source": [
        "answer_start = np.zeros(shape=(len(val_answer_start), 512), dtype='float64')\n",
        "answer_end = np.zeros(shape=(len(val_answer_end), 512), dtype='float64')\n",
        "\n",
        "for row, (start_value, end_value) in enumerate(zip(val_answer_start, val_answer_end)):\n",
        "    answer_start[row][start_value] = 1\n",
        "    answer_end[row][end_value] = 1"
      ],
      "metadata": {
        "id": "eA0l2ftzISTr"
      },
      "id": "eA0l2ftzISTr",
      "execution_count": 36,
      "outputs": []
    },
    {
      "cell_type": "code",
      "execution_count": 37,
      "id": "7561a390",
      "metadata": {
        "ExecuteTime": {
          "end_time": "2022-01-12T10:44:10.227020Z",
          "start_time": "2022-01-12T10:44:09.165338Z"
        },
        "id": "7561a390"
      },
      "outputs": [],
      "source": [
        "np.savez_compressed('./data/tokenized/val.npz', input_ids=val_input_ids, attention_mask=val_attention_mask, answer_start=answer_start, answer_end=answer_end)"
      ]
    },
    {
      "cell_type": "code",
      "execution_count": 38,
      "id": "GRubbE-YefQ9",
      "metadata": {
        "ExecuteTime": {
          "end_time": "2022-01-12T10:45:01.327028Z",
          "start_time": "2022-01-12T10:44:58.168465Z"
        },
        "id": "GRubbE-YefQ9",
        "outputId": "f7a9455a-7658-43bb-c01e-d20652ceba47",
        "colab": {
          "base_uri": "https://localhost:8080/"
        }
      },
      "outputs": [
        {
          "output_type": "execute_result",
          "data": {
            "text/plain": [
              "375"
            ]
          },
          "metadata": {},
          "execution_count": 38
        }
      ],
      "source": [
        "del val_answers, val_input_ids, val_attention_mask, val_answer_start, val_answer_end, val_new_answers, val_new_answer_start, val_new_answer_end, val_tokenized\n",
        "\n",
        "gc.collect()"
      ]
    },
    {
      "cell_type": "code",
      "execution_count": null,
      "id": "74321e5c",
      "metadata": {
        "id": "74321e5c"
      },
      "outputs": [],
      "source": [
        "#val_data = np.load('./data/tokenized/val.npz')"
      ]
    }
  ],
  "metadata": {
    "accelerator": "GPU",
    "colab": {
      "collapsed_sections": [],
      "name": "QA.ipynb",
      "provenance": []
    },
    "kernelspec": {
      "display_name": "Python [conda env:root] *",
      "language": "python",
      "name": "conda-root-py"
    },
    "language_info": {
      "codemirror_mode": {
        "name": "ipython",
        "version": 3
      },
      "file_extension": ".py",
      "mimetype": "text/x-python",
      "name": "python",
      "nbconvert_exporter": "python",
      "pygments_lexer": "ipython3",
      "version": "3.8.8"
    },
    "notify_time": "0",
    "toc": {
      "base_numbering": 1,
      "nav_menu": {},
      "number_sections": true,
      "sideBar": true,
      "skip_h1_title": false,
      "title_cell": "Table of Contents",
      "title_sidebar": "Contents",
      "toc_cell": false,
      "toc_position": {},
      "toc_section_display": true,
      "toc_window_display": false
    },
    "varInspector": {
      "cols": {
        "lenName": 16,
        "lenType": 16,
        "lenVar": 40
      },
      "kernels_config": {
        "python": {
          "delete_cmd_postfix": "",
          "delete_cmd_prefix": "del ",
          "library": "var_list.py",
          "varRefreshCmd": "print(var_dic_list())"
        },
        "r": {
          "delete_cmd_postfix": ") ",
          "delete_cmd_prefix": "rm(",
          "library": "var_list.r",
          "varRefreshCmd": "cat(var_dic_list()) "
        }
      },
      "types_to_exclude": [
        "module",
        "function",
        "builtin_function_or_method",
        "instance",
        "_Feature"
      ],
      "window_display": false
    }
  },
  "nbformat": 4,
  "nbformat_minor": 5
}