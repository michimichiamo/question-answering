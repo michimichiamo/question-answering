{
  "nbformat": 4,
  "nbformat_minor": 0,
  "metadata": {
    "colab": {
      "name": "QuestionGeneration.ipynb",
      "provenance": [],
      "authorship_tag": "ABX9TyMqybnHTgXR4SewQMj9ZuS9"
    },
    "kernelspec": {
      "name": "python3",
      "display_name": "Python 3"
    },
    "language_info": {
      "name": "python"
    },
    "widgets": {
      "application/vnd.jupyter.widget-state+json": {
        "17424db5e3bb4dba914eaef962a745b4": {
          "model_module": "@jupyter-widgets/controls",
          "model_name": "HBoxModel",
          "model_module_version": "1.5.0",
          "state": {
            "_view_name": "HBoxView",
            "_dom_classes": [],
            "_model_name": "HBoxModel",
            "_view_module": "@jupyter-widgets/controls",
            "_model_module_version": "1.5.0",
            "_view_count": null,
            "_view_module_version": "1.5.0",
            "box_style": "",
            "layout": "IPY_MODEL_75226644b7ac4a28bf638e755eaf20ce",
            "_model_module": "@jupyter-widgets/controls",
            "children": [
              "IPY_MODEL_2b8cb1a9e3dd4e77b11c8c3be08ad91d",
              "IPY_MODEL_e2f09e868be443ba925605cd8b9f5dcf",
              "IPY_MODEL_4ac3d3de685747b1a71e4d225a759682"
            ]
          }
        },
        "75226644b7ac4a28bf638e755eaf20ce": {
          "model_module": "@jupyter-widgets/base",
          "model_name": "LayoutModel",
          "model_module_version": "1.2.0",
          "state": {
            "_view_name": "LayoutView",
            "grid_template_rows": null,
            "right": null,
            "justify_content": null,
            "_view_module": "@jupyter-widgets/base",
            "overflow": null,
            "_model_module_version": "1.2.0",
            "_view_count": null,
            "flex_flow": null,
            "width": null,
            "min_width": null,
            "border": null,
            "align_items": null,
            "bottom": null,
            "_model_module": "@jupyter-widgets/base",
            "top": null,
            "grid_column": null,
            "overflow_y": null,
            "overflow_x": null,
            "grid_auto_flow": null,
            "grid_area": null,
            "grid_template_columns": null,
            "flex": null,
            "_model_name": "LayoutModel",
            "justify_items": null,
            "grid_row": null,
            "max_height": null,
            "align_content": null,
            "visibility": null,
            "align_self": null,
            "height": null,
            "min_height": null,
            "padding": null,
            "grid_auto_rows": null,
            "grid_gap": null,
            "max_width": null,
            "order": null,
            "_view_module_version": "1.2.0",
            "grid_template_areas": null,
            "object_position": null,
            "object_fit": null,
            "grid_auto_columns": null,
            "margin": null,
            "display": null,
            "left": null
          }
        },
        "2b8cb1a9e3dd4e77b11c8c3be08ad91d": {
          "model_module": "@jupyter-widgets/controls",
          "model_name": "HTMLModel",
          "model_module_version": "1.5.0",
          "state": {
            "_view_name": "HTMLView",
            "style": "IPY_MODEL_3198dda87c9f4ceba78878ffd2455e40",
            "_dom_classes": [],
            "description": "",
            "_model_name": "HTMLModel",
            "placeholder": "​",
            "_view_module": "@jupyter-widgets/controls",
            "_model_module_version": "1.5.0",
            "value": "Downloading: 100%",
            "_view_count": null,
            "_view_module_version": "1.5.0",
            "description_tooltip": null,
            "_model_module": "@jupyter-widgets/controls",
            "layout": "IPY_MODEL_3bb4a7e6087c46dfa223baa5dc703403"
          }
        },
        "e2f09e868be443ba925605cd8b9f5dcf": {
          "model_module": "@jupyter-widgets/controls",
          "model_name": "FloatProgressModel",
          "model_module_version": "1.5.0",
          "state": {
            "_view_name": "ProgressView",
            "style": "IPY_MODEL_65267d68f59c4dd7b6f5458bdee4b74e",
            "_dom_classes": [],
            "description": "",
            "_model_name": "FloatProgressModel",
            "bar_style": "success",
            "max": 1389353,
            "_view_module": "@jupyter-widgets/controls",
            "_model_module_version": "1.5.0",
            "value": 1389353,
            "_view_count": null,
            "_view_module_version": "1.5.0",
            "orientation": "horizontal",
            "min": 0,
            "description_tooltip": null,
            "_model_module": "@jupyter-widgets/controls",
            "layout": "IPY_MODEL_a204acbf0d7343f4907beba1a52c7773"
          }
        },
        "4ac3d3de685747b1a71e4d225a759682": {
          "model_module": "@jupyter-widgets/controls",
          "model_name": "HTMLModel",
          "model_module_version": "1.5.0",
          "state": {
            "_view_name": "HTMLView",
            "style": "IPY_MODEL_bdeda5dc5bb54356b2e6fba67adc2d55",
            "_dom_classes": [],
            "description": "",
            "_model_name": "HTMLModel",
            "placeholder": "​",
            "_view_module": "@jupyter-widgets/controls",
            "_model_module_version": "1.5.0",
            "value": " 1.32M/1.32M [00:00&lt;00:00, 6.55MB/s]",
            "_view_count": null,
            "_view_module_version": "1.5.0",
            "description_tooltip": null,
            "_model_module": "@jupyter-widgets/controls",
            "layout": "IPY_MODEL_c071f5e26fe543569d25ad662e8e48fc"
          }
        },
        "3198dda87c9f4ceba78878ffd2455e40": {
          "model_module": "@jupyter-widgets/controls",
          "model_name": "DescriptionStyleModel",
          "model_module_version": "1.5.0",
          "state": {
            "_view_name": "StyleView",
            "_model_name": "DescriptionStyleModel",
            "description_width": "",
            "_view_module": "@jupyter-widgets/base",
            "_model_module_version": "1.5.0",
            "_view_count": null,
            "_view_module_version": "1.2.0",
            "_model_module": "@jupyter-widgets/controls"
          }
        },
        "3bb4a7e6087c46dfa223baa5dc703403": {
          "model_module": "@jupyter-widgets/base",
          "model_name": "LayoutModel",
          "model_module_version": "1.2.0",
          "state": {
            "_view_name": "LayoutView",
            "grid_template_rows": null,
            "right": null,
            "justify_content": null,
            "_view_module": "@jupyter-widgets/base",
            "overflow": null,
            "_model_module_version": "1.2.0",
            "_view_count": null,
            "flex_flow": null,
            "width": null,
            "min_width": null,
            "border": null,
            "align_items": null,
            "bottom": null,
            "_model_module": "@jupyter-widgets/base",
            "top": null,
            "grid_column": null,
            "overflow_y": null,
            "overflow_x": null,
            "grid_auto_flow": null,
            "grid_area": null,
            "grid_template_columns": null,
            "flex": null,
            "_model_name": "LayoutModel",
            "justify_items": null,
            "grid_row": null,
            "max_height": null,
            "align_content": null,
            "visibility": null,
            "align_self": null,
            "height": null,
            "min_height": null,
            "padding": null,
            "grid_auto_rows": null,
            "grid_gap": null,
            "max_width": null,
            "order": null,
            "_view_module_version": "1.2.0",
            "grid_template_areas": null,
            "object_position": null,
            "object_fit": null,
            "grid_auto_columns": null,
            "margin": null,
            "display": null,
            "left": null
          }
        },
        "65267d68f59c4dd7b6f5458bdee4b74e": {
          "model_module": "@jupyter-widgets/controls",
          "model_name": "ProgressStyleModel",
          "model_module_version": "1.5.0",
          "state": {
            "_view_name": "StyleView",
            "_model_name": "ProgressStyleModel",
            "description_width": "",
            "_view_module": "@jupyter-widgets/base",
            "_model_module_version": "1.5.0",
            "_view_count": null,
            "_view_module_version": "1.2.0",
            "bar_color": null,
            "_model_module": "@jupyter-widgets/controls"
          }
        },
        "a204acbf0d7343f4907beba1a52c7773": {
          "model_module": "@jupyter-widgets/base",
          "model_name": "LayoutModel",
          "model_module_version": "1.2.0",
          "state": {
            "_view_name": "LayoutView",
            "grid_template_rows": null,
            "right": null,
            "justify_content": null,
            "_view_module": "@jupyter-widgets/base",
            "overflow": null,
            "_model_module_version": "1.2.0",
            "_view_count": null,
            "flex_flow": null,
            "width": null,
            "min_width": null,
            "border": null,
            "align_items": null,
            "bottom": null,
            "_model_module": "@jupyter-widgets/base",
            "top": null,
            "grid_column": null,
            "overflow_y": null,
            "overflow_x": null,
            "grid_auto_flow": null,
            "grid_area": null,
            "grid_template_columns": null,
            "flex": null,
            "_model_name": "LayoutModel",
            "justify_items": null,
            "grid_row": null,
            "max_height": null,
            "align_content": null,
            "visibility": null,
            "align_self": null,
            "height": null,
            "min_height": null,
            "padding": null,
            "grid_auto_rows": null,
            "grid_gap": null,
            "max_width": null,
            "order": null,
            "_view_module_version": "1.2.0",
            "grid_template_areas": null,
            "object_position": null,
            "object_fit": null,
            "grid_auto_columns": null,
            "margin": null,
            "display": null,
            "left": null
          }
        },
        "bdeda5dc5bb54356b2e6fba67adc2d55": {
          "model_module": "@jupyter-widgets/controls",
          "model_name": "DescriptionStyleModel",
          "model_module_version": "1.5.0",
          "state": {
            "_view_name": "StyleView",
            "_model_name": "DescriptionStyleModel",
            "description_width": "",
            "_view_module": "@jupyter-widgets/base",
            "_model_module_version": "1.5.0",
            "_view_count": null,
            "_view_module_version": "1.2.0",
            "_model_module": "@jupyter-widgets/controls"
          }
        },
        "c071f5e26fe543569d25ad662e8e48fc": {
          "model_module": "@jupyter-widgets/base",
          "model_name": "LayoutModel",
          "model_module_version": "1.2.0",
          "state": {
            "_view_name": "LayoutView",
            "grid_template_rows": null,
            "right": null,
            "justify_content": null,
            "_view_module": "@jupyter-widgets/base",
            "overflow": null,
            "_model_module_version": "1.2.0",
            "_view_count": null,
            "flex_flow": null,
            "width": null,
            "min_width": null,
            "border": null,
            "align_items": null,
            "bottom": null,
            "_model_module": "@jupyter-widgets/base",
            "top": null,
            "grid_column": null,
            "overflow_y": null,
            "overflow_x": null,
            "grid_auto_flow": null,
            "grid_area": null,
            "grid_template_columns": null,
            "flex": null,
            "_model_name": "LayoutModel",
            "justify_items": null,
            "grid_row": null,
            "max_height": null,
            "align_content": null,
            "visibility": null,
            "align_self": null,
            "height": null,
            "min_height": null,
            "padding": null,
            "grid_auto_rows": null,
            "grid_gap": null,
            "max_width": null,
            "order": null,
            "_view_module_version": "1.2.0",
            "grid_template_areas": null,
            "object_position": null,
            "object_fit": null,
            "grid_auto_columns": null,
            "margin": null,
            "display": null,
            "left": null
          }
        }
      }
    }
  },
  "cells": [
    {
      "cell_type": "markdown",
      "source": [
        "## HuggingFace example"
      ],
      "metadata": {
        "id": "xoPP86rXLL4d"
      }
    },
    {
      "cell_type": "code",
      "execution_count": 26,
      "metadata": {
        "id": "25HQLONHA8I_"
      },
      "outputs": [],
      "source": [
        "%%capture\n",
        "!pip install transformers sentencepiece\n",
        "from transformers import DistilBertTokenizerFast, T5ForConditionalGeneration"
      ]
    },
    {
      "cell_type": "code",
      "source": [
        "tokenizer = DistilBertTokenizerFast.from_pretrained('t5-base')\n",
        "model = T5ForConditionalGeneration.from_pretrained('t5-base')"
      ],
      "metadata": {
        "colab": {
          "base_uri": "https://localhost:8080/",
          "height": 49,
          "referenced_widgets": [
            "17424db5e3bb4dba914eaef962a745b4",
            "75226644b7ac4a28bf638e755eaf20ce",
            "2b8cb1a9e3dd4e77b11c8c3be08ad91d",
            "e2f09e868be443ba925605cd8b9f5dcf",
            "4ac3d3de685747b1a71e4d225a759682",
            "3198dda87c9f4ceba78878ffd2455e40",
            "3bb4a7e6087c46dfa223baa5dc703403",
            "65267d68f59c4dd7b6f5458bdee4b74e",
            "a204acbf0d7343f4907beba1a52c7773",
            "bdeda5dc5bb54356b2e6fba67adc2d55",
            "c071f5e26fe543569d25ad662e8e48fc"
          ]
        },
        "id": "S78kSFZkIAJy",
        "outputId": "422d2386-55dd-4f71-fb16-f6b1bd42a0a0"
      },
      "execution_count": 27,
      "outputs": [
        {
          "output_type": "display_data",
          "data": {
            "application/vnd.jupyter.widget-view+json": {
              "model_id": "17424db5e3bb4dba914eaef962a745b4",
              "version_minor": 0,
              "version_major": 2
            },
            "text/plain": [
              "Downloading:   0%|          | 0.00/1.32M [00:00<?, ?B/s]"
            ]
          },
          "metadata": {}
        }
      ]
    },
    {
      "cell_type": "code",
      "source": [
        "# training\n",
        "input_ids = tokenizer('The <extra_id_0> walks in <extra_id_1> park', return_tensors='pt').input_ids\n",
        "labels = tokenizer('<extra_id_0> cute dog <extra_id_1> the <extra_id_2>', return_tensors='pt').input_ids\n",
        "outputs = model(input_ids=input_ids, labels=labels)\n",
        "loss = outputs.loss\n",
        "logits = outputs.logits"
      ],
      "metadata": {
        "id": "yGBfdZBbH7jN"
      },
      "execution_count": 28,
      "outputs": []
    },
    {
      "cell_type": "code",
      "source": [
        "print(loss)\n",
        "print(logits.size())"
      ],
      "metadata": {
        "colab": {
          "base_uri": "https://localhost:8080/"
        },
        "id": "bL-jH7gEJC8v",
        "outputId": "2dfedac7-2b93-4460-9ca6-9ec07e73a1c9"
      },
      "execution_count": 34,
      "outputs": [
        {
          "output_type": "stream",
          "name": "stdout",
          "text": [
            "tensor(3.5416, grad_fn=<NllLossBackward0>)\n",
            "torch.Size([1, 7, 32128])\n"
          ]
        }
      ]
    },
    {
      "cell_type": "code",
      "source": [
        "# inference\n",
        "input_ids = tokenizer(\"summarize: studies have shown that owning a dog is good for you\", return_tensors=\"pt\").input_ids  # Batch size 1\n",
        "outputs = model.generate(input_ids)\n",
        "print(tokenizer.decode(outputs[0], skip_special_tokens=True))\n",
        "# studies have shown that owning a dog is good for you."
      ],
      "metadata": {
        "colab": {
          "base_uri": "https://localhost:8080/"
        },
        "id": "jWxt-DfcBm2D",
        "outputId": "a82a306f-a3f5-48ca-9739-e79957e7ef4b"
      },
      "execution_count": 29,
      "outputs": [
        {
          "output_type": "stream",
          "name": "stdout",
          "text": [
            "owning a dog is good for you, according to studies. a dog is\n"
          ]
        }
      ]
    },
    {
      "cell_type": "markdown",
      "source": [
        "## Our implementation"
      ],
      "metadata": {
        "id": "F-T6enWeLQnV"
      }
    },
    {
      "cell_type": "code",
      "source": [
        "import numpy as np\n",
        "import torch\n",
        "from transformers import DistilBertModel\n",
        "from torchmetrics import Accuracy, AveragePrecision, F1\n",
        "\n",
        "class QA(torch.nn.Module):\n",
        "\n",
        "    def __init__(self, hidden_size=768, num_labels=2, dropout_rate=0.5):\n",
        "        super(QA, self).__init__()\n",
        "        # Device\n",
        "        self.device = 'cuda' if torch.cuda.is_available() else 'cpu'\n",
        "        \n",
        "        # Parameters\n",
        "        self.hidden_size = hidden_size\n",
        "        self.num_labels = num_labels\n",
        "        \n",
        "        # Layers\n",
        "        #self.tokenizer = DistilBertTokenizerFast.from_pretrained('distilbert-base-cased-distilled-squad')\n",
        "        self.transformers = DistilBertModel.from_pretrained('distilbert-base-cased-distilled-squad').to(self.device)\n",
        "        self.transformers.requires_grad_(False)\n",
        "        self.dropout = torch.nn.Dropout(dropout_rate)\n",
        "        #self.extra_linear = torch.nn.Linear(self.hidden_size, self.hidden_size)\n",
        "        #self.extra_linear_tanh = torch.nn.Tanh()\n",
        "        self.dense = torch.nn.Linear(self.hidden_size, self.num_labels, device=self.device, dtype=torch.float32)\n",
        "\n",
        "    def forward(self, inputs):\n",
        "        # Unpack inputs\n",
        "        input_ids, attention_mask = inputs\n",
        "        \n",
        "        # Put to device\n",
        "        input_ids = input_ids.to(self.device)\n",
        "        attention_mask = attention_mask.to(self.device)\n",
        "        \n",
        "        # Transformers \n",
        "        transformed = self.transformers(input_ids=input_ids, attention_mask=attention_mask)\n",
        "        # Dropout\n",
        "        dropped = self.dropout(transformed[0])\n",
        "        # Obtain logits\n",
        "        logits = self.dense(dropped) #(None, seq_len, hidden_size)*(hidden_size, 2)=(None, seq_len, 2)\n",
        "        start_logits, end_logits = logits.split(1, dim=-1)    #(None, seq_len, 1), (None, seq_len, 1)\n",
        "        start_logits = start_logits.squeeze(-1)  #(None, seq_len)\n",
        "        end_logits = end_logits.squeeze(-1)    #(None, seq_len)\n",
        "        # --- 4) Prepare output tuple\n",
        "        outputs = (start_logits, end_logits)\n",
        "        \n",
        "        return outputs\n",
        "\n",
        "\n",
        "class Dataset(torch.utils.data.Dataset):\n",
        "    'Characterizes a dataset for PyTorch'\n",
        "    def __init__(self, ids, input_ids, attention_masks, answer_starts, answer_ends):\n",
        "        'Initialization'\n",
        "        self.ids = ids\n",
        "        self.input_ids = input_ids\n",
        "        self.attention_masks = attention_masks\n",
        "        self.answer_starts = answer_starts\n",
        "        self.answer_ends = answer_ends\n",
        "\n",
        "    def __len__(self):\n",
        "        'Denotes the total number of samples'\n",
        "        return len(self.input_ids)\n",
        "\n",
        "    def __getitem__(self, index):\n",
        "        'Generates one sample of data'\n",
        "        # Select sample\n",
        "        ID = self.ids[index]\n",
        "        input_id = self.input_ids[index]\n",
        "        attention_mask = self.attention_masks[index]\n",
        "        answer_start = self.answer_starts[index]\n",
        "        answer_end = self.answer_ends[index]\n",
        "\n",
        "        # Pack input and output\n",
        "        X = (ID, input_id, attention_mask)\n",
        "        y = (answer_start, answer_end)\n",
        "\n",
        "        return X, y\n",
        "\n",
        "def read_npz(path='./', split=None):\n",
        "\tassert split in ['train', 'val']\n",
        "\tfilename = path+'data/tokenized/'+split+'.npz'\n",
        "\tdata = np.load(filename)\n",
        "\n",
        "\tids = data['id']\n",
        "\tinput_ids = data['input_ids']\n",
        "\tattention_mask = data['attention_mask']\n",
        "\tanswer_start = data['answer_start']\n",
        "\tanswer_end = data['answer_end']\n",
        "\n",
        "\treturn ids, input_ids, attention_mask, answer_start, answer_end        \n",
        "\n",
        "\n",
        "def define_metrics(model):\n",
        "\t# Define scores and send to device\n",
        "\tf1_score = F1(num_classes=model.transformers.config.max_position_embeddings, mdmc_average='global')\n",
        "\tf1_score = f1_score.to(model.device)\n",
        "\taverage_precision = AveragePrecision(pos_label=1, num_classes=model.transformers.config.max_position_embeddings)\n",
        "\taverage_precision = average_precision.to(model.device)\n",
        "\taccuracy = Accuracy(mdmc_average='global', num_classes=model.transformers.config.max_position_embeddings)\n",
        "\taccuracy = accuracy.to(model.device)\n",
        "\n",
        "\t## TODO\n",
        "\t## IoU (Intersection over Union)\n",
        "\n",
        "\tmetrics = {\n",
        "    \t'F1' : f1_score,\n",
        "    \t'Precision' : average_precision,\n",
        "    \t'Accuracy' : accuracy\n",
        "\t}\n",
        "\n",
        "\treturn metrics\n",
        "\n",
        "def evaluate(model, inputs, targets, metrics):\n",
        "    # Set evaluation mode\n",
        "    model.eval()\n",
        "    # Obtain predictions\n",
        "    start_model, end_model = model.forward(inputs)\n",
        "    # Unpack targets and send to device\n",
        "    start_target, end_target = targets\n",
        "    start_target = start_target.to(model.device)\n",
        "    end_target = end_target.to(model.device)\n",
        "    \n",
        "    # Extract IntTensors for predictions\n",
        "    start_preds, end_preds = torch.zeros_like(start_model, dtype=torch.int16), torch.zeros_like(end_model, dtype=torch.int16)\n",
        "    start_preds[torch.tensor(range(start_model.size()[0])), torch.argmax(start_model, axis=1)] = 1\n",
        "    end_preds[torch.tensor(range(end_model.size()[0])), torch.argmax(end_model, axis=1)] = 1\n",
        "\n",
        "    # Send predictions to device\n",
        "    start_preds = start_preds.to(model.device)\n",
        "    end_preds = end_preds.to(model.device)\n",
        "\n",
        "    f1_score = metrics['F1']\n",
        "    average_precision = metrics['Precision']\n",
        "    accuracy = metrics['Accuracy']\n",
        "\n",
        "    # Get F1 scores\n",
        "    f1_start = f1_score(start_preds, start_target)\n",
        "    f1_end = f1_score(end_preds, end_target)\n",
        "    f1 = (f1_start + f1_end)/2\n",
        "    f1 = f1.to('cpu')\n",
        "    \n",
        "    # Get Average Precision scores\n",
        "    avg_start = average_precision(start_preds, start_target)\n",
        "    avg_end = average_precision(end_preds, end_target)\n",
        "    avg = (avg_start + avg_end)/2\n",
        "    avg = avg.to('cpu')\n",
        "\n",
        "    # Get Accuracy scores\n",
        "    acc_start = accuracy(start_preds, start_target)\n",
        "    acc_end = accuracy(end_preds, end_target)\n",
        "    acc = (acc_start + acc_end)/2\n",
        "    acc = acc.to('cpu')\n",
        "\n",
        "    print('Evaluation completed.')\n",
        "    print(f'F1: {f1}, Precision: {avg}, Accuracy: {acc}')\n",
        "                \n",
        "    return f1, avg, acc"
      ],
      "metadata": {
        "id": "O1LQJAxfJx9Y"
      },
      "execution_count": null,
      "outputs": []
    },
    {
      "cell_type": "code",
      "source": [
        ""
      ],
      "metadata": {
        "id": "IMjv0U6IJx_W"
      },
      "execution_count": null,
      "outputs": []
    }
  ]
}