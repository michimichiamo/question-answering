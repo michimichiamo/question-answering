{
  "cells": [
    {
      "cell_type": "markdown",
      "id": "3c69e289",
      "metadata": {
        "id": "3c69e289"
      },
      "source": [
        "## Imports"
      ]
    },
    {
      "cell_type": "code",
      "execution_count": 1,
      "id": "291d7474",
      "metadata": {
        "ExecuteTime": {
          "end_time": "2022-01-25T16:20:24.250793Z",
          "start_time": "2022-01-25T16:20:22.231127Z"
        },
        "id": "291d7474"
      },
      "outputs": [],
      "source": [
        "%%capture\n",
        "# Suppress output\n",
        "\n",
        "# Whether the notebook is run within Google Colab or not\n",
        "colab = 'google.colab' in str(get_ipython())\n",
        "\n",
        "# General imports\n",
        "import numpy as np\n",
        "import pandas as pd\n",
        "import torch\n",
        "import sys\n",
        "from numpy.core.numeric import full\n",
        "\n",
        "from torch.nn import CrossEntropyLoss\n",
        "from torch.optim import Adam\n",
        "from torch.optim.lr_scheduler import StepLR\n",
        "\n",
        "import os\n",
        "from datetime import datetime, timezone\n",
        "\n",
        "\n",
        "# Install needed dependencies on Colab\n",
        "if colab:\n",
        "    !pip install transformers\n",
        "    !pip install torchmetrics==0.6\n",
        "#from transformers import DistilBertModel#, DistilBertTokenizerFast\n",
        "import gc\n",
        "from transformers import DistilBertTokenizerFast\n",
        "\n",
        "# Automatically reimport modules at each execution\n",
        "%reload_ext autoreload\n",
        "%autoreload 2"
      ]
    },
    {
      "cell_type": "markdown",
      "id": "eaa58304",
      "metadata": {
        "id": "eaa58304"
      },
      "source": [
        "## Read data"
      ]
    },
    {
      "cell_type": "code",
      "execution_count": 2,
      "id": "86992ec3",
      "metadata": {
        "ExecuteTime": {
          "end_time": "2022-01-25T16:20:27.832601Z",
          "start_time": "2022-01-25T16:20:27.786158Z"
        },
        "id": "86992ec3",
        "outputId": "15d4561f-41d5-40ff-d952-c34b66deba06",
        "colab": {
          "base_uri": "https://localhost:8080/"
        }
      },
      "outputs": [
        {
          "output_type": "stream",
          "name": "stdout",
          "text": [
            "Cloning into 'question-answering'...\n",
            "remote: Enumerating objects: 424, done.\u001b[K\n",
            "remote: Counting objects: 100% (411/411), done.\u001b[K\n",
            "remote: Compressing objects: 100% (347/347), done.\u001b[K\n",
            "remote: Total 424 (delta 230), reused 173 (delta 63), pack-reused 13\u001b[K\n",
            "Receiving objects: 100% (424/424), 134.43 MiB | 15.03 MiB/s, done.\n",
            "Resolving deltas: 100% (233/233), done.\n",
            "Checking out files: 100% (36/36), done.\n",
            "/content/question-answering\n"
          ]
        }
      ],
      "source": [
        "if colab:\n",
        "    !git clone 'https://github.com/michimichiamo/question-answering'\n",
        "    %cd /content/question-answering"
      ]
    },
    {
      "cell_type": "code",
      "execution_count": 3,
      "id": "3124ea1c",
      "metadata": {
        "ExecuteTime": {
          "end_time": "2022-01-25T16:20:29.238997Z",
          "start_time": "2022-01-25T16:20:29.173790Z"
        },
        "code_folding": [
          0
        ],
        "id": "3124ea1c"
      },
      "outputs": [],
      "source": [
        "# Execute this only to load the dataset in csv format if not already done\n",
        "# from read_dataset import read_dataset\n",
        "\n",
        "# dataset = read_dataset(path='training_set.json', validation_set_perc=20)\n",
        "# train_df = pd.DataFrame(dataset[0], columns=['id', 'title', 'context_id', 'context', 'question', 'start', 'end'])\n",
        "# train_df.to_csv('train_df.csv')\n",
        "# val_df = pd.DataFrame(dataset[1], columns=['id', 'title', 'context_id', 'context', 'question', 'start', 'end'])\n",
        "# val_df.to_csv('val_df.csv')"
      ]
    },
    {
      "cell_type": "code",
      "execution_count": 4,
      "id": "6fb334c6",
      "metadata": {
        "ExecuteTime": {
          "end_time": "2022-01-25T16:20:33.046712Z",
          "start_time": "2022-01-25T16:20:30.193118Z"
        },
        "id": "6fb334c6"
      },
      "outputs": [],
      "source": [
        "from util.model import read_npz\n",
        "tr_id, tr_input, tr_attention_mask, tr_start, tr_end = read_npz(split='train')\n",
        "val_id, val_input, val_attention_mask, val_start, val_end = read_npz(split='val')"
      ]
    },
    {
      "cell_type": "markdown",
      "id": "6205600e",
      "metadata": {
        "id": "6205600e"
      },
      "source": [
        "## Prepare for training"
      ]
    },
    {
      "cell_type": "markdown",
      "id": "S_BdX_aD6mDt",
      "metadata": {
        "id": "S_BdX_aD6mDt"
      },
      "source": [
        "### Hyperparameters"
      ]
    },
    {
      "cell_type": "code",
      "execution_count": 5,
      "id": "SFKL9c4TZSa3",
      "metadata": {
        "ExecuteTime": {
          "end_time": "2022-01-25T16:20:39.553600Z",
          "start_time": "2022-01-25T16:20:39.438447Z"
        },
        "id": "SFKL9c4TZSa3"
      },
      "outputs": [],
      "source": [
        "#@title Hyperparameters\n",
        "batch_size = 256 #@param [\"32\", \"64\", \"128\", \"256\", \"512\"] {type:\"raw\"}\n",
        "learning_rate = 0.001 #@param [\"0.00001\", \"0.0001\", \"0.001\", \"0.01\", \"0.1\", \"1\"] {type:\"raw\"}\n",
        "epochs = 100 #@param {type:\"slider\", min:5, max:200, step:5}"
      ]
    },
    {
      "cell_type": "markdown",
      "id": "lKiyGfam6rSG",
      "metadata": {
        "id": "lKiyGfam6rSG"
      },
      "source": [
        "### Dataloaders"
      ]
    },
    {
      "cell_type": "code",
      "execution_count": 6,
      "id": "QqhlR1A9BKsa",
      "metadata": {
        "ExecuteTime": {
          "end_time": "2022-01-25T16:20:40.354418Z",
          "start_time": "2022-01-25T16:20:40.296874Z"
        },
        "id": "QqhlR1A9BKsa"
      },
      "outputs": [],
      "source": [
        "from util.model import Dataset\n",
        "tr_dataset = Dataset(tr_id, tr_input, tr_attention_mask, tr_start, tr_end)\n",
        "tr_dataloader = torch.utils.data.DataLoader(tr_dataset, batch_size=batch_size, pin_memory=True)"
      ]
    },
    {
      "cell_type": "code",
      "execution_count": 7,
      "id": "arGKmyRmXSlB",
      "metadata": {
        "ExecuteTime": {
          "end_time": "2022-01-25T16:20:41.168735Z",
          "start_time": "2022-01-25T16:20:41.110816Z"
        },
        "id": "arGKmyRmXSlB"
      },
      "outputs": [],
      "source": [
        "val_dataset = Dataset(val_id, val_input, val_attention_mask, val_start, val_end)\n",
        "val_dataloader = torch.utils.data.DataLoader(val_dataset, batch_size=batch_size, pin_memory=True)\n",
        "val_dataloader = iter(val_dataloader)"
      ]
    },
    {
      "cell_type": "code",
      "execution_count": 8,
      "id": "R-ME4IcRMhb2",
      "metadata": {
        "ExecuteTime": {
          "end_time": "2022-01-25T16:20:42.841492Z",
          "start_time": "2022-01-25T16:20:42.547308Z"
        },
        "colab": {
          "base_uri": "https://localhost:8080/"
        },
        "id": "R-ME4IcRMhb2",
        "outputId": "3a790e1e-965b-4de4-c40a-ed456b90988d"
      },
      "outputs": [
        {
          "output_type": "execute_result",
          "data": {
            "text/plain": [
              "143"
            ]
          },
          "metadata": {},
          "execution_count": 8
        }
      ],
      "source": [
        "del tr_id, tr_input, tr_attention_mask, tr_start, tr_end\n",
        "del val_id, val_input, val_attention_mask, val_start, val_end\n",
        "\n",
        "gc.collect()"
      ]
    },
    {
      "cell_type": "markdown",
      "id": "Ni6qjrZb6vF0",
      "metadata": {
        "id": "Ni6qjrZb6vF0"
      },
      "source": [
        "### Create model"
      ]
    },
    {
      "cell_type": "code",
      "execution_count": null,
      "id": "IZpQ_Tn6PnTC",
      "metadata": {
        "ExecuteTime": {
          "end_time": "2022-01-25T16:20:49.279113Z",
          "start_time": "2022-01-25T16:20:45.127866Z"
        },
        "id": "IZpQ_Tn6PnTC"
      },
      "outputs": [],
      "source": [
        "from util.model import QA, evaluate, define_metrics\n",
        "\n",
        "# Create model\n",
        "net = QA()\n",
        "net.to(net.device)\n",
        "# Optimizer, loss function\n",
        "optimizer = Adam(net.parameters(), lr=learning_rate, weight_decay=0.01)\n",
        "#scheduler = StepLR(optimizer, step_size=20, gamma=0.1)\n",
        "loss_fn = CrossEntropyLoss()\n",
        "n_iter = len(tr_dataloader)\n",
        "# Metrics\n",
        "metrics = define_metrics(net)"
      ]
    },
    {
      "cell_type": "markdown",
      "id": "9xZJ_ImI6yqC",
      "metadata": {
        "id": "9xZJ_ImI6yqC"
      },
      "source": [
        "### Setup to store log and results"
      ]
    },
    {
      "cell_type": "code",
      "execution_count": null,
      "id": "ulS98qb2GOh2",
      "metadata": {
        "ExecuteTime": {
          "end_time": "2022-01-25T16:20:53.542845Z",
          "start_time": "2022-01-25T16:20:53.479486Z"
        },
        "id": "ulS98qb2GOh2"
      },
      "outputs": [],
      "source": [
        "homedir = None\n",
        "if colab:\n",
        "    # Setting Google Drive for Colab\n",
        "    from google.colab import drive\n",
        "    drive.mount('/content/gdrive')\n",
        "    homedir = '/content/gdrive/My Drive/QA project/'\n",
        "else:\n",
        "    homedir = './data/logs/'"
      ]
    },
    {
      "cell_type": "code",
      "source": [
        "#Log paths\n",
        "\n",
        "#Creation of the dirs to store weights/logs\n",
        "utc_string = datetime.now(timezone.utc).strftime(\"%Y%m%d\")\n",
        "#Result dir\n",
        "if not os.path.isdir(homedir+utc_string):\n",
        "    os.mkdir(homedir+utc_string)\n",
        "res_dir = homedir+utc_string\n",
        "#Tensorboard dir (runs)\n",
        "if not os.path.isdir(res_dir+'/runs/'):\n",
        "    os.mkdir(res_dir+'/runs/')\n",
        "runs_dir = res_dir+'/runs/'\n",
        "#Logs dir\n",
        "if not os.path.isdir(res_dir+'/logs/'):\n",
        "    os.mkdir(res_dir+'/logs/')\n",
        "logs_dir = res_dir+'/logs/'\n",
        "#Checkpoints dir\n",
        "if not os.path.isdir(res_dir+'/checkpoints/'):\n",
        "    os.mkdir(res_dir+'/checkpoints/')\n",
        "checkpoints_dir = res_dir+'/checkpoints/'\n",
        "\n",
        "#Tensorboard init\n",
        "from torch.utils.tensorboard import SummaryWriter\n",
        "\n",
        "writer = SummaryWriter(runs_dir)"
      ],
      "metadata": {
        "id": "8k5F9TdrjKyo"
      },
      "id": "8k5F9TdrjKyo",
      "execution_count": 11,
      "outputs": []
    },
    {
      "cell_type": "markdown",
      "id": "xxN_nP9_68zq",
      "metadata": {
        "id": "xxN_nP9_68zq"
      },
      "source": [
        "## Training"
      ]
    },
    {
      "cell_type": "code",
      "execution_count": null,
      "id": "3Ry3m40m8alP",
      "metadata": {
        "ExecuteTime": {
          "end_time": "2022-01-25T16:20:58.540405Z",
          "start_time": "2022-01-25T16:20:54.329411Z"
        },
        "id": "3Ry3m40m8alP"
      },
      "outputs": [],
      "source": [
        "%reload_ext tensorboard\n",
        "%tensorboard --logdir \"$runs_dir\""
      ]
    },
    {
      "cell_type": "code",
      "execution_count": 13,
      "id": "dhvSBZ549wLG",
      "metadata": {
        "ExecuteTime": {
          "end_time": "2022-01-25T16:21:06.621655Z",
          "start_time": "2022-01-25T16:21:06.194839Z"
        },
        "id": "dhvSBZ549wLG"
      },
      "outputs": [],
      "source": [
        "#Training function\n",
        "def train(model, save=True, load=False, filename=None):\n",
        "    history = {\n",
        "        'loss' : []\n",
        "    }\n",
        "    for metric in metrics.keys():\n",
        "        history[metric] = []\n",
        "\n",
        "    if load:\n",
        "        path = checkpoints_dir + filename\n",
        "        model.dense.load_state_dict(torch.load(path))\n",
        "\n",
        "    for epoch in range(epochs):\n",
        "        for iteration, (tr_X, tr_Y) in enumerate(tr_dataloader):\n",
        "            # Set training mode\n",
        "            model.train()\n",
        "            # Unpack targets and cast to float\n",
        "            tr_start, tr_end = tr_Y\n",
        "            tr_start = tr_start.to(device=model.device, dtype=torch.long)\n",
        "            tr_end = tr_end.to(device=model.device, dtype=torch.long)\n",
        "            # Forward pass\n",
        "            optimizer.zero_grad()\n",
        "            _, tr_input, tr_attention_mask = tr_X\n",
        "            pred_start, pred_end = model.forward((tr_input, tr_attention_mask))\n",
        "            # Loss function\n",
        "            ## TOCHECK\n",
        "            loss = loss_fn(pred_start, tr_start) + loss_fn(pred_end, tr_end)\n",
        "            # Gradient update\n",
        "            loss.backward()\n",
        "            optimizer.step()\n",
        "\n",
        "            # Track loss\n",
        "            history['loss'].append(loss)\n",
        "            if iteration%100 == 0:\n",
        "                print(f'Epoch: {epoch+1} ({iteration+1}/{n_iter}) | Loss: {loss}\\n', end='')\n",
        "            if save:\n",
        "                writer.add_scalar('Loss/train-iterations', loss, epoch*len(tr_dataloader)+iteration)\n",
        "            \n",
        "        # Save logs\n",
        "        if save:\n",
        "            with open(logs_dir +'log.txt', 'a+') as f:\n",
        "                f.write(f\"Epoch: {epoch} [Loss: {loss}]\\n\")\n",
        "\n",
        "        # Evaluation\n",
        "        if (epoch+1) % 3 == 0:\n",
        "            print('Checkpoint reached. Starting evaluation...')\n",
        "            # Set evaluation mode\n",
        "            model.eval()\n",
        "            # Unpack inputs and targets\n",
        "            val_X, val_Y = next(val_dataloader)\n",
        "            _, val_input, val_attention_mask = val_X\n",
        "            # Compute scores\n",
        "            scores = evaluate(model, (val_input, val_attention_mask), val_Y, metrics)\n",
        "            # Track scores\n",
        "            for metric, score in zip(metrics.keys(), scores):\n",
        "                history[metric].append(score)\n",
        "                writer.add_scalar(f'{metric}/train-epochs', score, epoch)\n",
        "            if save:\n",
        "                # Save weights\n",
        "                print('Saving weights')\n",
        "                weights_save_path = checkpoints_dir + 'weights' + utc_string + '_' + str(epoch)\n",
        "                torch.save(model.dense.state_dict(), weights_save_path)\n",
        "            \n",
        "        # Learning Rate scheduler\n",
        "        #scheduler.step()\n",
        "\n",
        "    return history\n"
      ]
    },
    {
      "cell_type": "code",
      "execution_count": 14,
      "id": "w_QfnIV8PuIc",
      "metadata": {
        "ExecuteTime": {
          "start_time": "2022-01-25T16:21:13.055Z"
        },
        "id": "w_QfnIV8PuIc"
      },
      "outputs": [],
      "source": [
        "history = train(net)"
      ]
    },
    {
      "cell_type": "markdown",
      "source": [
        "# Evaluation"
      ],
      "metadata": {
        "id": "jRP3HY6sYU1j"
      },
      "id": "jRP3HY6sYU1j"
    },
    {
      "cell_type": "markdown",
      "source": [
        "## Monte Carlo uncertainty"
      ],
      "metadata": {
        "id": "fIffJhUyYX4Q"
      },
      "id": "fIffJhUyYX4Q"
    },
    {
      "cell_type": "code",
      "source": [
        "def montecarlo_uncertainty(input, model, forward_passes, load=False):\n",
        "  if load:\n",
        "    path = homedir + 'best_model/best_model'\n",
        "    model.dense.load_state_dict(torch.load(path))\n",
        "  \"\"\" Function to get the monte-carlo samples and uncertainty estimates\n",
        "    through multiple forward passes\n",
        "\n",
        "    Parameters\n",
        "    ----------\n",
        "    data_loader : object\n",
        "        data loader object from the data loader module\n",
        "    forward_passes : int\n",
        "        number of monte-carlo samples/forward passes\n",
        "    model : object\n",
        "        keras model\n",
        "    n_classes : int\n",
        "        number of classes in the dataset\n",
        "    n_samples : int\n",
        "        number of samples in the test set\n",
        "    \"\"\"\n",
        "  dropout_predictions_start = np.empty((input[0].size()[0], 512))\n",
        "  dropout_predictions_end = np.empty((input[0].size()[0], 512))\n",
        "  softmax = torch.nn.Softmax(dim=1)\n",
        "  start_inferences = []\n",
        "  end_inferences = []\n",
        "  for i in range(forward_passes):\n",
        "    model.eval()\n",
        "    model.dropout.train()\n",
        "    with torch.no_grad():\n",
        "      output_start, output_end = model(input)\n",
        "      predicted_start = softmax(output_start)\n",
        "      predicted_end = softmax(output_end) # shape (n_samples, n_classes)\n",
        "      start_inferences.append(torch.argmax(predicted_start, axis=1).item())\n",
        "      end_inferences.append(torch.argmax(predicted_end, axis=1).item())\n",
        "\n",
        "    dropout_predictions_start = np.vstack((dropout_predictions_start, predicted_start.cpu().numpy()))\n",
        "    dropout_predictions_end = np.vstack((dropout_predictions_end, predicted_end.cpu().numpy()))\n",
        "  mc_logits_start = dropout_predictions_start[1:]\n",
        "  mc_logits_end = dropout_predictions_end[1:]\n",
        "\n",
        "\n",
        "  # Calculating mean across multiple MCD forward passes \n",
        "  mean_start = np.mean(mc_logits_start, axis=0) # shape (n_samples, n_classes)\n",
        "  mean_end = np.mean(mc_logits_end, axis=0)\n",
        "  # Calculating variance across multiple MCD forward passes \n",
        "  variance = np.var(mc_logits_start, axis=0) # shape (n_samples, n_classes)\n",
        "\n",
        "  epsilon = sys.float_info.min\n",
        "  # Calculating entropy across multiple MCD forward passes \n",
        "  entropy_start = -np.sum(mean_start*np.log(mean_start + epsilon), axis=-1) # shape (n_samples,)\n",
        "  entropy_end = -np.sum(mean_end*np.log(mean_end + epsilon), axis=-1)\n",
        "  return output_start, output_end, entropy_start, entropy_end\n",
        "\n",
        "\n",
        "# Compute Monte Carlo uncertainty for a given dimension batch of input contexts\n",
        "tokenizer=DistilBertTokenizerFast.from_pretrained(\"distilbert-base-cased-distilled-squad\")\n",
        "\n",
        "def compute_mc_uncertainty(mc_batch_dim, val_dataset, tokenizer, load=False):\n",
        "  # Building new dataloader with batch_size=1 for inference\n",
        "  val_dataloader = torch.utils.data.DataLoader(val_dataset, batch_size=1, pin_memory=True)\n",
        "  val_dataloader = iter(val_dataloader)\n",
        "  \n",
        "  # Testing monte carlo\n",
        "  for i in range(mc_batch_dim):\n",
        "    input, target = next(val_dataloader)\n",
        "    _, inp, att = input\n",
        "    mean_start, mean_end, entropy_start, entropy_end = montecarlo_uncertainty((inp, att), net, 5, load=load)\n",
        "    start_pred = int(torch.argmax(mean_start.cpu(), axis=1).detach().numpy().astype('int32'))\n",
        "    end_pred = int(torch.argmax(mean_end.cpu(), axis=1).detach().numpy().astype('int32'))\n",
        "    \n",
        "    # Extract answer from context\n",
        "    context = inp.detach().numpy().reshape(-1,)\n",
        "    pred_decoded = tokenizer.decode(context[start_pred:end_pred+1])\n",
        "    target_decoded = tokenizer.decode(context[target[0]:target[1]+1])\n",
        "    uncertainty_score = (entropy_start+entropy_end)/2\n",
        "    print(f'Predicted answer: {pred_decoded}\\nActual answer: {target_decoded}\\nUncertainty score on the prediction: {round((uncertainty_score*100)/(512/np.exp(1)), 3)}%\\n\\n')"
      ],
      "metadata": {
        "id": "7VfwHQIkGswk",
        "outputId": "3448536a-c229-4a12-c09c-8f169b5aaa88",
        "colab": {
          "base_uri": "https://localhost:8080/",
          "height": 113,
          "referenced_widgets": [
            "ee50bc9943134ed3bbc3a48f8abe442a",
            "da1fea33e8b640a1bd558ad04dc11df3",
            "3662480c87e8411ea18329fb4a904988",
            "4dac6c0b5db1460c9a31052782f69791",
            "6b01e51c005349978aefcef7d9888019",
            "a793a98388dc4484b2c699b3097cd3ed",
            "8bf8a3f4976948f69626a1067a4fe3ce",
            "b1df8f28f9bb465ea1c5c3cb20a38bc0",
            "add18f2596a541cb8f0a5e4c9542ee91",
            "3b6bb9f70842455c9fbd0b7b95fdf67a",
            "6a81b7576dc2464f8c5e09b205b8fdb2",
            "6e2a1cc42f0b4030b75e6bcb6ef3b9c7",
            "8120525bec684677ba516bb2f41f1fe6",
            "6fd0e760220041b6b22a9b770b75a3ee",
            "78ac7bfe17ff4729a1c0833f7a3118a5",
            "48422cf24e0641b68a7e0b7a278c7e03",
            "2165094edc0248d89eb6b50c2786c863",
            "022e8a89282c4eeba45acdc8c3754979",
            "645315fe4dab435a931514ffcfae6c4c",
            "bbe4ec96d13a401db21bd76d8d666439",
            "71f4c20bd831463596172e1a70ceec52",
            "fd473f0060db41fb9462463359c6ea61",
            "f590943dcf2d4cffb7c466d28c870a1c",
            "0892860a44df405eaf771becdc57d5d5",
            "9886e30613874bf3b9e03e162b581e09",
            "946ae92f8cbd48e8ae921cd9b0e78fd9",
            "98b39f70855e4101a6690c6689be5aad",
            "637ad7fca6634362af25e639f19c17c7",
            "9051c5a53a0a4ffaa93b40a9f45826c7",
            "0c386b44ce3040b98af579ecc21e5116",
            "b6bf6918f37844ef94bf8ceac0c6f0df",
            "5b98af5eaa6b4c6080cea62af33dcac5",
            "5239bada5b0a4a29b82de53650dab206"
          ]
        }
      },
      "id": "7VfwHQIkGswk",
      "execution_count": 15,
      "outputs": [
        {
          "output_type": "display_data",
          "data": {
            "application/vnd.jupyter.widget-view+json": {
              "model_id": "ee50bc9943134ed3bbc3a48f8abe442a",
              "version_minor": 0,
              "version_major": 2
            },
            "text/plain": [
              "Downloading:   0%|          | 0.00/29.0 [00:00<?, ?B/s]"
            ]
          },
          "metadata": {}
        },
        {
          "output_type": "display_data",
          "data": {
            "application/vnd.jupyter.widget-view+json": {
              "model_id": "6e2a1cc42f0b4030b75e6bcb6ef3b9c7",
              "version_minor": 0,
              "version_major": 2
            },
            "text/plain": [
              "Downloading:   0%|          | 0.00/208k [00:00<?, ?B/s]"
            ]
          },
          "metadata": {}
        },
        {
          "output_type": "display_data",
          "data": {
            "application/vnd.jupyter.widget-view+json": {
              "model_id": "f590943dcf2d4cffb7c466d28c870a1c",
              "version_minor": 0,
              "version_major": 2
            },
            "text/plain": [
              "Downloading:   0%|          | 0.00/426k [00:00<?, ?B/s]"
            ]
          },
          "metadata": {}
        }
      ]
    },
    {
      "cell_type": "code",
      "source": [
        "compute_mc_uncertainty(30, val_dataset, tokenizer, load=True)"
      ],
      "metadata": {
        "id": "C0AEaz2dGlTb"
      },
      "id": "C0AEaz2dGlTb",
      "execution_count": null,
      "outputs": []
    },
    {
      "cell_type": "markdown",
      "source": [
        "## Jaccard Index\n",
        "Custom evaluation metric that computes the percentage of the actual answer predicted by the model\n"
      ],
      "metadata": {
        "id": "xGnXPHNCZa-I"
      },
      "id": "xGnXPHNCZa-I"
    },
    {
      "cell_type": "code",
      "source": [
        "def jaccard_accuracy_metric(actual_start, actual_end, predicted_start_array, predicted_end_array):\n",
        "  pred_start = torch.argmax(predicted_start_array, axis=1).to(dtype=torch.int32)\n",
        "  pred_end = torch.argmax(predicted_end_array, axis=1).to(dtype=torch.int32)\n",
        "  tot_percentage = 0\n",
        "  jaccard_metric = 0\n",
        "  for i in range(actual_start.size()[0]):\n",
        "    actual = list(range(actual_start[i], actual_end[i]+1))\n",
        "    pred = list(range(pred_start[i], pred_end[i]+1))\n",
        "    # tot_percentage += len(set(pred).intersection(actual))/len(actual)\n",
        "    jaccard_metric += len(set(pred).intersection(actual))/len(set(pred).union(actual))\n",
        "    tot_percentage += len(set(pred).intersection(actual))/len(actual)\n",
        "  \n",
        "  return (tot_percentage/actual_start.size()[0])*100, jaccard_metric/actual_start.size()[0]"
      ],
      "metadata": {
        "id": "aruszQyRDj3_"
      },
      "id": "aruszQyRDj3_",
      "execution_count": 18,
      "outputs": []
    },
    {
      "cell_type": "markdown",
      "source": [
        "## F1 and Exact Match"
      ],
      "metadata": {
        "id": "Xm6zaD0mYhk-"
      },
      "id": "Xm6zaD0mYhk-"
    },
    {
      "cell_type": "code",
      "source": [
        "def post_train_eval(model, inp, att, target):\n",
        "    # Obtain predictions\n",
        "    start_preds, end_preds = model.forward((inp,att))\n",
        "    # Unpack targets and send to device\n",
        "    start_target, end_target = target\n",
        "    start_target = start_target.to(model.device)\n",
        "    end_target = end_target.to(model.device)\n",
        "    \n",
        "#    # Extract IntTensors for predictions\n",
        "#    start_preds, end_preds = torch.zeros_like(start_model, dtype=torch.int16), torch.zeros_like(end_model, dtype=torch.int16)\n",
        "#    start_preds[torch.tensor(range(start_model.size()[0])), torch.argmax(start_model, axis=1)] = 1\n",
        "#    end_preds[torch.tensor(range(end_model.size()[0])), torch.argmax(end_model, axis=1)] = 1\n",
        "\n",
        "    # Send predictions to device\n",
        "    start_preds = start_preds.to(model.device)\n",
        "    end_preds = end_preds.to(model.device)\n",
        "    percentage_accuracy, jaccard = jaccard_accuracy_metric(start_target, end_target, start_preds, end_preds)\n",
        "    return percentage_accuracy, jaccard, start_preds, end_preds, start_target, end_target\n",
        "\n",
        "def final_evaluation(model, batch_size, full_val_dataset=False):\n",
        "    # Building new dataloader with batch_size=1 for inference\n",
        "    path = homedir + 'best_model/best_model'\n",
        "    model.dense.load_state_dict(torch.load(path))\n",
        "    val_dataloader = torch.utils.data.DataLoader(val_dataset, batch_size=1, pin_memory=True)\n",
        "    val_dataloader = iter(val_dataloader)\n",
        "    # Set evaluation mode\n",
        "    model.eval()\n",
        "    correct_answers_counter = 0\n",
        "    percentage_acc_list = []\n",
        "    jaccard_list = []\n",
        "    start_preds_list = np.empty((1, 512))\n",
        "    end_preds_list = np.empty((1, 512))\n",
        "    start_target_list = []#np.empty((1, 512))\n",
        "    end_target_list = []#np.empty((1, 512))\n",
        "    recall = []\n",
        "    precision = []\n",
        "    \n",
        "    if full_val_dataset:\n",
        "      batch_size = len(val_dataloader)\n",
        "    \n",
        "    for i in range(batch_size):#range(len(val_dataloader)):\n",
        "      input, target = next(val_dataloader)\n",
        "      _, inp, att = input\n",
        "      perc, jaccard, st_pred, end_pred, st_tar, end_tar, tot_percentage, tot_precision = post_train_eval(model, inp, att, target)\n",
        "      \n",
        "      #print(f'Percentage of answer correct: {perc}')\n",
        "      if perc >= 70:\n",
        "        correct_answers_counter += 1\n",
        "      \n",
        "      correct_answers_counter\n",
        "      percentage_acc_list.append(perc)\n",
        "      jaccard_list.append(jaccard)\n",
        "      start_preds_list = np.vstack((start_preds_list, st_pred.cpu().detach().numpy()))\n",
        "      end_preds_list = np.vstack((end_preds_list, end_pred.cpu().detach().numpy()))\n",
        "      start_target_list.append(st_tar.item())\n",
        "      end_target_list.append(end_tar.item())\n",
        "      recall.append(tot_percentage)\n",
        "      precision.append(tot_precision)\n",
        "    \n",
        "    f1_score = metrics['F1']\n",
        "    exact_match = metrics['ExactMatch']\n",
        "\n",
        "    # Get F1 scores\n",
        "    f1_start = f1_score(torch.tensor(start_preds_list[1:]), torch.tensor(np.array(start_target_list)))\n",
        "    f1_end = f1_score(torch.tensor(end_preds_list[1:]), torch.tensor(np.array(end_target_list)))\n",
        "    f1 = (f1_start + f1_end)/2\n",
        "    f1 = f1.to('cpu')\n",
        "  \n",
        "    # Ge Exact Match scores\n",
        "    print(torch.tensor(start_preds_list[1:]).size(dim=0))\n",
        "    em_start = exact_match(torch.tensor(start_preds_list[1:]), torch.tensor(np.array(start_target_list)))\n",
        "    em_end = exact_match(torch.tensor(end_preds_list[1:]), torch.tensor(np.array(end_target_list)))\n",
        "    em = (em_start + em_end)/2\n",
        "\n",
        "    print('Evaluation completed.')\n",
        "    print(f'Correct answers: {correct_answers_counter} out of {batch_size} total')\n",
        "    print(f'Average of intersection between the predicted and actual answer: {np.mean(np.array(percentage_acc_list))}')\n",
        "    print(f'Average Jaccard index on correct answers: {np.mean(np.array(jaccard_list))}')\n",
        "    R, P = np.mean(recall), np.mean(precision)\n",
        "    print(f'F1: {f1}, Exact Match: {em}, ourF1: {2*(R*P)/(R+P)}')\n",
        "                \n",
        "    return f1, em, 2*(R*P)/(R+P)\n",
        "\n",
        "final_evaluation(net, 2000, full_val_dataset=True)"
      ],
      "metadata": {
        "id": "4FKVyQDx6PL1"
      },
      "id": "4FKVyQDx6PL1",
      "execution_count": null,
      "outputs": []
    },
    {
      "cell_type": "code",
      "source": [
        "#show tensorboard of a specfied training\n",
        "tens_dir = '/content/gdrive/My Drive/QA project/runs/'\n",
        "%reload_ext tensorboard\n",
        "%tensorboard --logdir \"$tens_dir\""
      ],
      "metadata": {
        "id": "VjLIXtQo0Ep-"
      },
      "id": "VjLIXtQo0Ep-",
      "execution_count": null,
      "outputs": []
    }
  ],
  "metadata": {
    "accelerator": "GPU",
    "colab": {
      "collapsed_sections": [],
      "machine_shape": "hm",
      "name": "Training.ipynb",
      "provenance": [],
      "toc_visible": true
    },
    "kernelspec": {
      "display_name": "Python [conda env:nlp] *",
      "language": "python",
      "name": "conda-env-nlp-py"
    },
    "language_info": {
      "codemirror_mode": {
        "name": "ipython",
        "version": 3
      },
      "file_extension": ".py",
      "mimetype": "text/x-python",
      "name": "python",
      "nbconvert_exporter": "python",
      "pygments_lexer": "ipython3",
      "version": "3.8.12"
    },
    "toc": {
      "base_numbering": 1,
      "nav_menu": {},
      "number_sections": true,
      "sideBar": true,
      "skip_h1_title": false,
      "title_cell": "Table of Contents",
      "title_sidebar": "Contents",
      "toc_cell": false,
      "toc_position": {},
      "toc_section_display": true,
      "toc_window_display": false
    },
    "varInspector": {
      "cols": {
        "lenName": 16,
        "lenType": 16,
        "lenVar": 40
      },
      "kernels_config": {
        "python": {
          "delete_cmd_postfix": "",
          "delete_cmd_prefix": "del ",
          "library": "var_list.py",
          "varRefreshCmd": "print(var_dic_list())"
        },
        "r": {
          "delete_cmd_postfix": ") ",
          "delete_cmd_prefix": "rm(",
          "library": "var_list.r",
          "varRefreshCmd": "cat(var_dic_list()) "
        }
      },
      "types_to_exclude": [
        "module",
        "function",
        "builtin_function_or_method",
        "instance",
        "_Feature"
      ],
      "window_display": false
    },
    "widgets": {
      "application/vnd.jupyter.widget-state+json": {
        "ee50bc9943134ed3bbc3a48f8abe442a": {
          "model_module": "@jupyter-widgets/controls",
          "model_name": "HBoxModel",
          "model_module_version": "1.5.0",
          "state": {
            "_view_name": "HBoxView",
            "_dom_classes": [],
            "_model_name": "HBoxModel",
            "_view_module": "@jupyter-widgets/controls",
            "_model_module_version": "1.5.0",
            "_view_count": null,
            "_view_module_version": "1.5.0",
            "box_style": "",
            "layout": "IPY_MODEL_da1fea33e8b640a1bd558ad04dc11df3",
            "_model_module": "@jupyter-widgets/controls",
            "children": [
              "IPY_MODEL_3662480c87e8411ea18329fb4a904988",
              "IPY_MODEL_4dac6c0b5db1460c9a31052782f69791",
              "IPY_MODEL_6b01e51c005349978aefcef7d9888019"
            ]
          }
        },
        "da1fea33e8b640a1bd558ad04dc11df3": {
          "model_module": "@jupyter-widgets/base",
          "model_name": "LayoutModel",
          "model_module_version": "1.2.0",
          "state": {
            "_view_name": "LayoutView",
            "grid_template_rows": null,
            "right": null,
            "justify_content": null,
            "_view_module": "@jupyter-widgets/base",
            "overflow": null,
            "_model_module_version": "1.2.0",
            "_view_count": null,
            "flex_flow": null,
            "width": null,
            "min_width": null,
            "border": null,
            "align_items": null,
            "bottom": null,
            "_model_module": "@jupyter-widgets/base",
            "top": null,
            "grid_column": null,
            "overflow_y": null,
            "overflow_x": null,
            "grid_auto_flow": null,
            "grid_area": null,
            "grid_template_columns": null,
            "flex": null,
            "_model_name": "LayoutModel",
            "justify_items": null,
            "grid_row": null,
            "max_height": null,
            "align_content": null,
            "visibility": null,
            "align_self": null,
            "height": null,
            "min_height": null,
            "padding": null,
            "grid_auto_rows": null,
            "grid_gap": null,
            "max_width": null,
            "order": null,
            "_view_module_version": "1.2.0",
            "grid_template_areas": null,
            "object_position": null,
            "object_fit": null,
            "grid_auto_columns": null,
            "margin": null,
            "display": null,
            "left": null
          }
        },
        "3662480c87e8411ea18329fb4a904988": {
          "model_module": "@jupyter-widgets/controls",
          "model_name": "HTMLModel",
          "model_module_version": "1.5.0",
          "state": {
            "_view_name": "HTMLView",
            "style": "IPY_MODEL_a793a98388dc4484b2c699b3097cd3ed",
            "_dom_classes": [],
            "description": "",
            "_model_name": "HTMLModel",
            "placeholder": "​",
            "_view_module": "@jupyter-widgets/controls",
            "_model_module_version": "1.5.0",
            "value": "Downloading: 100%",
            "_view_count": null,
            "_view_module_version": "1.5.0",
            "description_tooltip": null,
            "_model_module": "@jupyter-widgets/controls",
            "layout": "IPY_MODEL_8bf8a3f4976948f69626a1067a4fe3ce"
          }
        },
        "4dac6c0b5db1460c9a31052782f69791": {
          "model_module": "@jupyter-widgets/controls",
          "model_name": "FloatProgressModel",
          "model_module_version": "1.5.0",
          "state": {
            "_view_name": "ProgressView",
            "style": "IPY_MODEL_b1df8f28f9bb465ea1c5c3cb20a38bc0",
            "_dom_classes": [],
            "description": "",
            "_model_name": "FloatProgressModel",
            "bar_style": "success",
            "max": 29,
            "_view_module": "@jupyter-widgets/controls",
            "_model_module_version": "1.5.0",
            "value": 29,
            "_view_count": null,
            "_view_module_version": "1.5.0",
            "orientation": "horizontal",
            "min": 0,
            "description_tooltip": null,
            "_model_module": "@jupyter-widgets/controls",
            "layout": "IPY_MODEL_add18f2596a541cb8f0a5e4c9542ee91"
          }
        },
        "6b01e51c005349978aefcef7d9888019": {
          "model_module": "@jupyter-widgets/controls",
          "model_name": "HTMLModel",
          "model_module_version": "1.5.0",
          "state": {
            "_view_name": "HTMLView",
            "style": "IPY_MODEL_3b6bb9f70842455c9fbd0b7b95fdf67a",
            "_dom_classes": [],
            "description": "",
            "_model_name": "HTMLModel",
            "placeholder": "​",
            "_view_module": "@jupyter-widgets/controls",
            "_model_module_version": "1.5.0",
            "value": " 29.0/29.0 [00:00&lt;00:00, 902B/s]",
            "_view_count": null,
            "_view_module_version": "1.5.0",
            "description_tooltip": null,
            "_model_module": "@jupyter-widgets/controls",
            "layout": "IPY_MODEL_6a81b7576dc2464f8c5e09b205b8fdb2"
          }
        },
        "a793a98388dc4484b2c699b3097cd3ed": {
          "model_module": "@jupyter-widgets/controls",
          "model_name": "DescriptionStyleModel",
          "model_module_version": "1.5.0",
          "state": {
            "_view_name": "StyleView",
            "_model_name": "DescriptionStyleModel",
            "description_width": "",
            "_view_module": "@jupyter-widgets/base",
            "_model_module_version": "1.5.0",
            "_view_count": null,
            "_view_module_version": "1.2.0",
            "_model_module": "@jupyter-widgets/controls"
          }
        },
        "8bf8a3f4976948f69626a1067a4fe3ce": {
          "model_module": "@jupyter-widgets/base",
          "model_name": "LayoutModel",
          "model_module_version": "1.2.0",
          "state": {
            "_view_name": "LayoutView",
            "grid_template_rows": null,
            "right": null,
            "justify_content": null,
            "_view_module": "@jupyter-widgets/base",
            "overflow": null,
            "_model_module_version": "1.2.0",
            "_view_count": null,
            "flex_flow": null,
            "width": null,
            "min_width": null,
            "border": null,
            "align_items": null,
            "bottom": null,
            "_model_module": "@jupyter-widgets/base",
            "top": null,
            "grid_column": null,
            "overflow_y": null,
            "overflow_x": null,
            "grid_auto_flow": null,
            "grid_area": null,
            "grid_template_columns": null,
            "flex": null,
            "_model_name": "LayoutModel",
            "justify_items": null,
            "grid_row": null,
            "max_height": null,
            "align_content": null,
            "visibility": null,
            "align_self": null,
            "height": null,
            "min_height": null,
            "padding": null,
            "grid_auto_rows": null,
            "grid_gap": null,
            "max_width": null,
            "order": null,
            "_view_module_version": "1.2.0",
            "grid_template_areas": null,
            "object_position": null,
            "object_fit": null,
            "grid_auto_columns": null,
            "margin": null,
            "display": null,
            "left": null
          }
        },
        "b1df8f28f9bb465ea1c5c3cb20a38bc0": {
          "model_module": "@jupyter-widgets/controls",
          "model_name": "ProgressStyleModel",
          "model_module_version": "1.5.0",
          "state": {
            "_view_name": "StyleView",
            "_model_name": "ProgressStyleModel",
            "description_width": "",
            "_view_module": "@jupyter-widgets/base",
            "_model_module_version": "1.5.0",
            "_view_count": null,
            "_view_module_version": "1.2.0",
            "bar_color": null,
            "_model_module": "@jupyter-widgets/controls"
          }
        },
        "add18f2596a541cb8f0a5e4c9542ee91": {
          "model_module": "@jupyter-widgets/base",
          "model_name": "LayoutModel",
          "model_module_version": "1.2.0",
          "state": {
            "_view_name": "LayoutView",
            "grid_template_rows": null,
            "right": null,
            "justify_content": null,
            "_view_module": "@jupyter-widgets/base",
            "overflow": null,
            "_model_module_version": "1.2.0",
            "_view_count": null,
            "flex_flow": null,
            "width": null,
            "min_width": null,
            "border": null,
            "align_items": null,
            "bottom": null,
            "_model_module": "@jupyter-widgets/base",
            "top": null,
            "grid_column": null,
            "overflow_y": null,
            "overflow_x": null,
            "grid_auto_flow": null,
            "grid_area": null,
            "grid_template_columns": null,
            "flex": null,
            "_model_name": "LayoutModel",
            "justify_items": null,
            "grid_row": null,
            "max_height": null,
            "align_content": null,
            "visibility": null,
            "align_self": null,
            "height": null,
            "min_height": null,
            "padding": null,
            "grid_auto_rows": null,
            "grid_gap": null,
            "max_width": null,
            "order": null,
            "_view_module_version": "1.2.0",
            "grid_template_areas": null,
            "object_position": null,
            "object_fit": null,
            "grid_auto_columns": null,
            "margin": null,
            "display": null,
            "left": null
          }
        },
        "3b6bb9f70842455c9fbd0b7b95fdf67a": {
          "model_module": "@jupyter-widgets/controls",
          "model_name": "DescriptionStyleModel",
          "model_module_version": "1.5.0",
          "state": {
            "_view_name": "StyleView",
            "_model_name": "DescriptionStyleModel",
            "description_width": "",
            "_view_module": "@jupyter-widgets/base",
            "_model_module_version": "1.5.0",
            "_view_count": null,
            "_view_module_version": "1.2.0",
            "_model_module": "@jupyter-widgets/controls"
          }
        },
        "6a81b7576dc2464f8c5e09b205b8fdb2": {
          "model_module": "@jupyter-widgets/base",
          "model_name": "LayoutModel",
          "model_module_version": "1.2.0",
          "state": {
            "_view_name": "LayoutView",
            "grid_template_rows": null,
            "right": null,
            "justify_content": null,
            "_view_module": "@jupyter-widgets/base",
            "overflow": null,
            "_model_module_version": "1.2.0",
            "_view_count": null,
            "flex_flow": null,
            "width": null,
            "min_width": null,
            "border": null,
            "align_items": null,
            "bottom": null,
            "_model_module": "@jupyter-widgets/base",
            "top": null,
            "grid_column": null,
            "overflow_y": null,
            "overflow_x": null,
            "grid_auto_flow": null,
            "grid_area": null,
            "grid_template_columns": null,
            "flex": null,
            "_model_name": "LayoutModel",
            "justify_items": null,
            "grid_row": null,
            "max_height": null,
            "align_content": null,
            "visibility": null,
            "align_self": null,
            "height": null,
            "min_height": null,
            "padding": null,
            "grid_auto_rows": null,
            "grid_gap": null,
            "max_width": null,
            "order": null,
            "_view_module_version": "1.2.0",
            "grid_template_areas": null,
            "object_position": null,
            "object_fit": null,
            "grid_auto_columns": null,
            "margin": null,
            "display": null,
            "left": null
          }
        },
        "6e2a1cc42f0b4030b75e6bcb6ef3b9c7": {
          "model_module": "@jupyter-widgets/controls",
          "model_name": "HBoxModel",
          "model_module_version": "1.5.0",
          "state": {
            "_view_name": "HBoxView",
            "_dom_classes": [],
            "_model_name": "HBoxModel",
            "_view_module": "@jupyter-widgets/controls",
            "_model_module_version": "1.5.0",
            "_view_count": null,
            "_view_module_version": "1.5.0",
            "box_style": "",
            "layout": "IPY_MODEL_8120525bec684677ba516bb2f41f1fe6",
            "_model_module": "@jupyter-widgets/controls",
            "children": [
              "IPY_MODEL_6fd0e760220041b6b22a9b770b75a3ee",
              "IPY_MODEL_78ac7bfe17ff4729a1c0833f7a3118a5",
              "IPY_MODEL_48422cf24e0641b68a7e0b7a278c7e03"
            ]
          }
        },
        "8120525bec684677ba516bb2f41f1fe6": {
          "model_module": "@jupyter-widgets/base",
          "model_name": "LayoutModel",
          "model_module_version": "1.2.0",
          "state": {
            "_view_name": "LayoutView",
            "grid_template_rows": null,
            "right": null,
            "justify_content": null,
            "_view_module": "@jupyter-widgets/base",
            "overflow": null,
            "_model_module_version": "1.2.0",
            "_view_count": null,
            "flex_flow": null,
            "width": null,
            "min_width": null,
            "border": null,
            "align_items": null,
            "bottom": null,
            "_model_module": "@jupyter-widgets/base",
            "top": null,
            "grid_column": null,
            "overflow_y": null,
            "overflow_x": null,
            "grid_auto_flow": null,
            "grid_area": null,
            "grid_template_columns": null,
            "flex": null,
            "_model_name": "LayoutModel",
            "justify_items": null,
            "grid_row": null,
            "max_height": null,
            "align_content": null,
            "visibility": null,
            "align_self": null,
            "height": null,
            "min_height": null,
            "padding": null,
            "grid_auto_rows": null,
            "grid_gap": null,
            "max_width": null,
            "order": null,
            "_view_module_version": "1.2.0",
            "grid_template_areas": null,
            "object_position": null,
            "object_fit": null,
            "grid_auto_columns": null,
            "margin": null,
            "display": null,
            "left": null
          }
        },
        "6fd0e760220041b6b22a9b770b75a3ee": {
          "model_module": "@jupyter-widgets/controls",
          "model_name": "HTMLModel",
          "model_module_version": "1.5.0",
          "state": {
            "_view_name": "HTMLView",
            "style": "IPY_MODEL_2165094edc0248d89eb6b50c2786c863",
            "_dom_classes": [],
            "description": "",
            "_model_name": "HTMLModel",
            "placeholder": "​",
            "_view_module": "@jupyter-widgets/controls",
            "_model_module_version": "1.5.0",
            "value": "Downloading: 100%",
            "_view_count": null,
            "_view_module_version": "1.5.0",
            "description_tooltip": null,
            "_model_module": "@jupyter-widgets/controls",
            "layout": "IPY_MODEL_022e8a89282c4eeba45acdc8c3754979"
          }
        },
        "78ac7bfe17ff4729a1c0833f7a3118a5": {
          "model_module": "@jupyter-widgets/controls",
          "model_name": "FloatProgressModel",
          "model_module_version": "1.5.0",
          "state": {
            "_view_name": "ProgressView",
            "style": "IPY_MODEL_645315fe4dab435a931514ffcfae6c4c",
            "_dom_classes": [],
            "description": "",
            "_model_name": "FloatProgressModel",
            "bar_style": "success",
            "max": 213450,
            "_view_module": "@jupyter-widgets/controls",
            "_model_module_version": "1.5.0",
            "value": 213450,
            "_view_count": null,
            "_view_module_version": "1.5.0",
            "orientation": "horizontal",
            "min": 0,
            "description_tooltip": null,
            "_model_module": "@jupyter-widgets/controls",
            "layout": "IPY_MODEL_bbe4ec96d13a401db21bd76d8d666439"
          }
        },
        "48422cf24e0641b68a7e0b7a278c7e03": {
          "model_module": "@jupyter-widgets/controls",
          "model_name": "HTMLModel",
          "model_module_version": "1.5.0",
          "state": {
            "_view_name": "HTMLView",
            "style": "IPY_MODEL_71f4c20bd831463596172e1a70ceec52",
            "_dom_classes": [],
            "description": "",
            "_model_name": "HTMLModel",
            "placeholder": "​",
            "_view_module": "@jupyter-widgets/controls",
            "_model_module_version": "1.5.0",
            "value": " 208k/208k [00:00&lt;00:00, 617kB/s]",
            "_view_count": null,
            "_view_module_version": "1.5.0",
            "description_tooltip": null,
            "_model_module": "@jupyter-widgets/controls",
            "layout": "IPY_MODEL_fd473f0060db41fb9462463359c6ea61"
          }
        },
        "2165094edc0248d89eb6b50c2786c863": {
          "model_module": "@jupyter-widgets/controls",
          "model_name": "DescriptionStyleModel",
          "model_module_version": "1.5.0",
          "state": {
            "_view_name": "StyleView",
            "_model_name": "DescriptionStyleModel",
            "description_width": "",
            "_view_module": "@jupyter-widgets/base",
            "_model_module_version": "1.5.0",
            "_view_count": null,
            "_view_module_version": "1.2.0",
            "_model_module": "@jupyter-widgets/controls"
          }
        },
        "022e8a89282c4eeba45acdc8c3754979": {
          "model_module": "@jupyter-widgets/base",
          "model_name": "LayoutModel",
          "model_module_version": "1.2.0",
          "state": {
            "_view_name": "LayoutView",
            "grid_template_rows": null,
            "right": null,
            "justify_content": null,
            "_view_module": "@jupyter-widgets/base",
            "overflow": null,
            "_model_module_version": "1.2.0",
            "_view_count": null,
            "flex_flow": null,
            "width": null,
            "min_width": null,
            "border": null,
            "align_items": null,
            "bottom": null,
            "_model_module": "@jupyter-widgets/base",
            "top": null,
            "grid_column": null,
            "overflow_y": null,
            "overflow_x": null,
            "grid_auto_flow": null,
            "grid_area": null,
            "grid_template_columns": null,
            "flex": null,
            "_model_name": "LayoutModel",
            "justify_items": null,
            "grid_row": null,
            "max_height": null,
            "align_content": null,
            "visibility": null,
            "align_self": null,
            "height": null,
            "min_height": null,
            "padding": null,
            "grid_auto_rows": null,
            "grid_gap": null,
            "max_width": null,
            "order": null,
            "_view_module_version": "1.2.0",
            "grid_template_areas": null,
            "object_position": null,
            "object_fit": null,
            "grid_auto_columns": null,
            "margin": null,
            "display": null,
            "left": null
          }
        },
        "645315fe4dab435a931514ffcfae6c4c": {
          "model_module": "@jupyter-widgets/controls",
          "model_name": "ProgressStyleModel",
          "model_module_version": "1.5.0",
          "state": {
            "_view_name": "StyleView",
            "_model_name": "ProgressStyleModel",
            "description_width": "",
            "_view_module": "@jupyter-widgets/base",
            "_model_module_version": "1.5.0",
            "_view_count": null,
            "_view_module_version": "1.2.0",
            "bar_color": null,
            "_model_module": "@jupyter-widgets/controls"
          }
        },
        "bbe4ec96d13a401db21bd76d8d666439": {
          "model_module": "@jupyter-widgets/base",
          "model_name": "LayoutModel",
          "model_module_version": "1.2.0",
          "state": {
            "_view_name": "LayoutView",
            "grid_template_rows": null,
            "right": null,
            "justify_content": null,
            "_view_module": "@jupyter-widgets/base",
            "overflow": null,
            "_model_module_version": "1.2.0",
            "_view_count": null,
            "flex_flow": null,
            "width": null,
            "min_width": null,
            "border": null,
            "align_items": null,
            "bottom": null,
            "_model_module": "@jupyter-widgets/base",
            "top": null,
            "grid_column": null,
            "overflow_y": null,
            "overflow_x": null,
            "grid_auto_flow": null,
            "grid_area": null,
            "grid_template_columns": null,
            "flex": null,
            "_model_name": "LayoutModel",
            "justify_items": null,
            "grid_row": null,
            "max_height": null,
            "align_content": null,
            "visibility": null,
            "align_self": null,
            "height": null,
            "min_height": null,
            "padding": null,
            "grid_auto_rows": null,
            "grid_gap": null,
            "max_width": null,
            "order": null,
            "_view_module_version": "1.2.0",
            "grid_template_areas": null,
            "object_position": null,
            "object_fit": null,
            "grid_auto_columns": null,
            "margin": null,
            "display": null,
            "left": null
          }
        },
        "71f4c20bd831463596172e1a70ceec52": {
          "model_module": "@jupyter-widgets/controls",
          "model_name": "DescriptionStyleModel",
          "model_module_version": "1.5.0",
          "state": {
            "_view_name": "StyleView",
            "_model_name": "DescriptionStyleModel",
            "description_width": "",
            "_view_module": "@jupyter-widgets/base",
            "_model_module_version": "1.5.0",
            "_view_count": null,
            "_view_module_version": "1.2.0",
            "_model_module": "@jupyter-widgets/controls"
          }
        },
        "fd473f0060db41fb9462463359c6ea61": {
          "model_module": "@jupyter-widgets/base",
          "model_name": "LayoutModel",
          "model_module_version": "1.2.0",
          "state": {
            "_view_name": "LayoutView",
            "grid_template_rows": null,
            "right": null,
            "justify_content": null,
            "_view_module": "@jupyter-widgets/base",
            "overflow": null,
            "_model_module_version": "1.2.0",
            "_view_count": null,
            "flex_flow": null,
            "width": null,
            "min_width": null,
            "border": null,
            "align_items": null,
            "bottom": null,
            "_model_module": "@jupyter-widgets/base",
            "top": null,
            "grid_column": null,
            "overflow_y": null,
            "overflow_x": null,
            "grid_auto_flow": null,
            "grid_area": null,
            "grid_template_columns": null,
            "flex": null,
            "_model_name": "LayoutModel",
            "justify_items": null,
            "grid_row": null,
            "max_height": null,
            "align_content": null,
            "visibility": null,
            "align_self": null,
            "height": null,
            "min_height": null,
            "padding": null,
            "grid_auto_rows": null,
            "grid_gap": null,
            "max_width": null,
            "order": null,
            "_view_module_version": "1.2.0",
            "grid_template_areas": null,
            "object_position": null,
            "object_fit": null,
            "grid_auto_columns": null,
            "margin": null,
            "display": null,
            "left": null
          }
        },
        "f590943dcf2d4cffb7c466d28c870a1c": {
          "model_module": "@jupyter-widgets/controls",
          "model_name": "HBoxModel",
          "model_module_version": "1.5.0",
          "state": {
            "_view_name": "HBoxView",
            "_dom_classes": [],
            "_model_name": "HBoxModel",
            "_view_module": "@jupyter-widgets/controls",
            "_model_module_version": "1.5.0",
            "_view_count": null,
            "_view_module_version": "1.5.0",
            "box_style": "",
            "layout": "IPY_MODEL_0892860a44df405eaf771becdc57d5d5",
            "_model_module": "@jupyter-widgets/controls",
            "children": [
              "IPY_MODEL_9886e30613874bf3b9e03e162b581e09",
              "IPY_MODEL_946ae92f8cbd48e8ae921cd9b0e78fd9",
              "IPY_MODEL_98b39f70855e4101a6690c6689be5aad"
            ]
          }
        },
        "0892860a44df405eaf771becdc57d5d5": {
          "model_module": "@jupyter-widgets/base",
          "model_name": "LayoutModel",
          "model_module_version": "1.2.0",
          "state": {
            "_view_name": "LayoutView",
            "grid_template_rows": null,
            "right": null,
            "justify_content": null,
            "_view_module": "@jupyter-widgets/base",
            "overflow": null,
            "_model_module_version": "1.2.0",
            "_view_count": null,
            "flex_flow": null,
            "width": null,
            "min_width": null,
            "border": null,
            "align_items": null,
            "bottom": null,
            "_model_module": "@jupyter-widgets/base",
            "top": null,
            "grid_column": null,
            "overflow_y": null,
            "overflow_x": null,
            "grid_auto_flow": null,
            "grid_area": null,
            "grid_template_columns": null,
            "flex": null,
            "_model_name": "LayoutModel",
            "justify_items": null,
            "grid_row": null,
            "max_height": null,
            "align_content": null,
            "visibility": null,
            "align_self": null,
            "height": null,
            "min_height": null,
            "padding": null,
            "grid_auto_rows": null,
            "grid_gap": null,
            "max_width": null,
            "order": null,
            "_view_module_version": "1.2.0",
            "grid_template_areas": null,
            "object_position": null,
            "object_fit": null,
            "grid_auto_columns": null,
            "margin": null,
            "display": null,
            "left": null
          }
        },
        "9886e30613874bf3b9e03e162b581e09": {
          "model_module": "@jupyter-widgets/controls",
          "model_name": "HTMLModel",
          "model_module_version": "1.5.0",
          "state": {
            "_view_name": "HTMLView",
            "style": "IPY_MODEL_637ad7fca6634362af25e639f19c17c7",
            "_dom_classes": [],
            "description": "",
            "_model_name": "HTMLModel",
            "placeholder": "​",
            "_view_module": "@jupyter-widgets/controls",
            "_model_module_version": "1.5.0",
            "value": "Downloading: 100%",
            "_view_count": null,
            "_view_module_version": "1.5.0",
            "description_tooltip": null,
            "_model_module": "@jupyter-widgets/controls",
            "layout": "IPY_MODEL_9051c5a53a0a4ffaa93b40a9f45826c7"
          }
        },
        "946ae92f8cbd48e8ae921cd9b0e78fd9": {
          "model_module": "@jupyter-widgets/controls",
          "model_name": "FloatProgressModel",
          "model_module_version": "1.5.0",
          "state": {
            "_view_name": "ProgressView",
            "style": "IPY_MODEL_0c386b44ce3040b98af579ecc21e5116",
            "_dom_classes": [],
            "description": "",
            "_model_name": "FloatProgressModel",
            "bar_style": "success",
            "max": 435797,
            "_view_module": "@jupyter-widgets/controls",
            "_model_module_version": "1.5.0",
            "value": 435797,
            "_view_count": null,
            "_view_module_version": "1.5.0",
            "orientation": "horizontal",
            "min": 0,
            "description_tooltip": null,
            "_model_module": "@jupyter-widgets/controls",
            "layout": "IPY_MODEL_b6bf6918f37844ef94bf8ceac0c6f0df"
          }
        },
        "98b39f70855e4101a6690c6689be5aad": {
          "model_module": "@jupyter-widgets/controls",
          "model_name": "HTMLModel",
          "model_module_version": "1.5.0",
          "state": {
            "_view_name": "HTMLView",
            "style": "IPY_MODEL_5b98af5eaa6b4c6080cea62af33dcac5",
            "_dom_classes": [],
            "description": "",
            "_model_name": "HTMLModel",
            "placeholder": "​",
            "_view_module": "@jupyter-widgets/controls",
            "_model_module_version": "1.5.0",
            "value": " 426k/426k [00:00&lt;00:00, 566kB/s]",
            "_view_count": null,
            "_view_module_version": "1.5.0",
            "description_tooltip": null,
            "_model_module": "@jupyter-widgets/controls",
            "layout": "IPY_MODEL_5239bada5b0a4a29b82de53650dab206"
          }
        },
        "637ad7fca6634362af25e639f19c17c7": {
          "model_module": "@jupyter-widgets/controls",
          "model_name": "DescriptionStyleModel",
          "model_module_version": "1.5.0",
          "state": {
            "_view_name": "StyleView",
            "_model_name": "DescriptionStyleModel",
            "description_width": "",
            "_view_module": "@jupyter-widgets/base",
            "_model_module_version": "1.5.0",
            "_view_count": null,
            "_view_module_version": "1.2.0",
            "_model_module": "@jupyter-widgets/controls"
          }
        },
        "9051c5a53a0a4ffaa93b40a9f45826c7": {
          "model_module": "@jupyter-widgets/base",
          "model_name": "LayoutModel",
          "model_module_version": "1.2.0",
          "state": {
            "_view_name": "LayoutView",
            "grid_template_rows": null,
            "right": null,
            "justify_content": null,
            "_view_module": "@jupyter-widgets/base",
            "overflow": null,
            "_model_module_version": "1.2.0",
            "_view_count": null,
            "flex_flow": null,
            "width": null,
            "min_width": null,
            "border": null,
            "align_items": null,
            "bottom": null,
            "_model_module": "@jupyter-widgets/base",
            "top": null,
            "grid_column": null,
            "overflow_y": null,
            "overflow_x": null,
            "grid_auto_flow": null,
            "grid_area": null,
            "grid_template_columns": null,
            "flex": null,
            "_model_name": "LayoutModel",
            "justify_items": null,
            "grid_row": null,
            "max_height": null,
            "align_content": null,
            "visibility": null,
            "align_self": null,
            "height": null,
            "min_height": null,
            "padding": null,
            "grid_auto_rows": null,
            "grid_gap": null,
            "max_width": null,
            "order": null,
            "_view_module_version": "1.2.0",
            "grid_template_areas": null,
            "object_position": null,
            "object_fit": null,
            "grid_auto_columns": null,
            "margin": null,
            "display": null,
            "left": null
          }
        },
        "0c386b44ce3040b98af579ecc21e5116": {
          "model_module": "@jupyter-widgets/controls",
          "model_name": "ProgressStyleModel",
          "model_module_version": "1.5.0",
          "state": {
            "_view_name": "StyleView",
            "_model_name": "ProgressStyleModel",
            "description_width": "",
            "_view_module": "@jupyter-widgets/base",
            "_model_module_version": "1.5.0",
            "_view_count": null,
            "_view_module_version": "1.2.0",
            "bar_color": null,
            "_model_module": "@jupyter-widgets/controls"
          }
        },
        "b6bf6918f37844ef94bf8ceac0c6f0df": {
          "model_module": "@jupyter-widgets/base",
          "model_name": "LayoutModel",
          "model_module_version": "1.2.0",
          "state": {
            "_view_name": "LayoutView",
            "grid_template_rows": null,
            "right": null,
            "justify_content": null,
            "_view_module": "@jupyter-widgets/base",
            "overflow": null,
            "_model_module_version": "1.2.0",
            "_view_count": null,
            "flex_flow": null,
            "width": null,
            "min_width": null,
            "border": null,
            "align_items": null,
            "bottom": null,
            "_model_module": "@jupyter-widgets/base",
            "top": null,
            "grid_column": null,
            "overflow_y": null,
            "overflow_x": null,
            "grid_auto_flow": null,
            "grid_area": null,
            "grid_template_columns": null,
            "flex": null,
            "_model_name": "LayoutModel",
            "justify_items": null,
            "grid_row": null,
            "max_height": null,
            "align_content": null,
            "visibility": null,
            "align_self": null,
            "height": null,
            "min_height": null,
            "padding": null,
            "grid_auto_rows": null,
            "grid_gap": null,
            "max_width": null,
            "order": null,
            "_view_module_version": "1.2.0",
            "grid_template_areas": null,
            "object_position": null,
            "object_fit": null,
            "grid_auto_columns": null,
            "margin": null,
            "display": null,
            "left": null
          }
        },
        "5b98af5eaa6b4c6080cea62af33dcac5": {
          "model_module": "@jupyter-widgets/controls",
          "model_name": "DescriptionStyleModel",
          "model_module_version": "1.5.0",
          "state": {
            "_view_name": "StyleView",
            "_model_name": "DescriptionStyleModel",
            "description_width": "",
            "_view_module": "@jupyter-widgets/base",
            "_model_module_version": "1.5.0",
            "_view_count": null,
            "_view_module_version": "1.2.0",
            "_model_module": "@jupyter-widgets/controls"
          }
        },
        "5239bada5b0a4a29b82de53650dab206": {
          "model_module": "@jupyter-widgets/base",
          "model_name": "LayoutModel",
          "model_module_version": "1.2.0",
          "state": {
            "_view_name": "LayoutView",
            "grid_template_rows": null,
            "right": null,
            "justify_content": null,
            "_view_module": "@jupyter-widgets/base",
            "overflow": null,
            "_model_module_version": "1.2.0",
            "_view_count": null,
            "flex_flow": null,
            "width": null,
            "min_width": null,
            "border": null,
            "align_items": null,
            "bottom": null,
            "_model_module": "@jupyter-widgets/base",
            "top": null,
            "grid_column": null,
            "overflow_y": null,
            "overflow_x": null,
            "grid_auto_flow": null,
            "grid_area": null,
            "grid_template_columns": null,
            "flex": null,
            "_model_name": "LayoutModel",
            "justify_items": null,
            "grid_row": null,
            "max_height": null,
            "align_content": null,
            "visibility": null,
            "align_self": null,
            "height": null,
            "min_height": null,
            "padding": null,
            "grid_auto_rows": null,
            "grid_gap": null,
            "max_width": null,
            "order": null,
            "_view_module_version": "1.2.0",
            "grid_template_areas": null,
            "object_position": null,
            "object_fit": null,
            "grid_auto_columns": null,
            "margin": null,
            "display": null,
            "left": null
          }
        }
      }
    }
  },
  "nbformat": 4,
  "nbformat_minor": 5
}