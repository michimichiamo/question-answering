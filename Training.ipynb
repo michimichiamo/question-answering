{
 "cells": [
  {
   "cell_type": "markdown",
   "id": "3c69e289",
   "metadata": {
    "id": "3c69e289"
   },
   "source": [
    "## Imports"
   ]
  },
  {
   "cell_type": "code",
   "execution_count": 1,
   "id": "291d7474",
   "metadata": {
    "ExecuteTime": {
     "end_time": "2022-01-12T11:58:34.415498Z",
     "start_time": "2022-01-12T11:58:25.795130Z"
    },
    "id": "291d7474"
   },
   "outputs": [],
   "source": [
    "%%capture\n",
    "# Suppress output\n",
    "\n",
    "# Whether the notebook is run within Google Colab or not\n",
    "colab = 'google.colab' in str(get_ipython())\n",
    "\n",
    "# General imports\n",
    "import numpy as np\n",
    "import pandas as pd\n",
    "import torch\n",
    "# Install needed dependencies on Colab\n",
    "if colab:\n",
    "    !pip install transformers\n",
    "from transformers import DistilBertModel#, DistilBertTokenizerFast\n",
    "\n",
    "# Enable GPU acceleration, whenever available\n",
    "device = 'cuda' if torch.cuda.is_available() else 'cpu'\n",
    "\n",
    "# Automatically reimport modules at each execution\n",
    "%reload_ext autoreload\n",
    "%autoreload 2"
   ]
  },
  {
   "cell_type": "code",
   "execution_count": 2,
   "id": "86992ec3",
   "metadata": {
    "ExecuteTime": {
     "end_time": "2022-01-12T11:58:34.488386Z",
     "start_time": "2022-01-12T11:58:34.418527Z"
    }
   },
   "outputs": [],
   "source": [
    "if colab:\n",
    "    !git clone 'https://github.com/michimichiamo/question-answering'"
   ]
  },
  {
   "cell_type": "markdown",
   "id": "eaa58304",
   "metadata": {
    "id": "eaa58304"
   },
   "source": [
    "## Read data"
   ]
  },
  {
   "cell_type": "code",
   "execution_count": 3,
   "id": "3124ea1c",
   "metadata": {
    "ExecuteTime": {
     "end_time": "2022-01-12T11:58:34.552690Z",
     "start_time": "2022-01-12T11:58:34.491927Z"
    },
    "id": "3124ea1c"
   },
   "outputs": [],
   "source": [
    "# Execute this only to load the dataset in csv format if not already done\n",
    "# from read_dataset import read_dataset\n",
    "\n",
    "# dataset = read_dataset(path='training_set.json', validation_set_perc=20)\n",
    "# train_df = pd.DataFrame(dataset[0], columns=['id', 'title', 'context_id', 'context', 'question', 'start', 'end'])\n",
    "# train_df.to_csv('train_df.csv')\n",
    "# val_df = pd.DataFrame(dataset[1], columns=['id', 'title', 'context_id', 'context', 'question', 'start', 'end'])\n",
    "# val_df.to_csv('val_df.csv')"
   ]
  },
  {
   "cell_type": "code",
   "execution_count": 4,
   "id": "6fb334c6",
   "metadata": {
    "ExecuteTime": {
     "end_time": "2022-01-12T11:58:34.616425Z",
     "start_time": "2022-01-12T11:58:34.554748Z"
    },
    "id": "8a453903"
   },
   "outputs": [],
   "source": [
    "directory='./' if not colab else './question-answering/'\n",
    "\n",
    "train_filename = directory+'data/tokenized/train.npz'\n",
    "val_filename = directory+'data/tokenized/val.npz'\n",
    "\n",
    "train_data = np.load(train_filename)\n",
    "val_data = np.load(val_filename)"
   ]
  },
  {
   "cell_type": "code",
   "execution_count": 5,
   "id": "6b01bd4b",
   "metadata": {
    "ExecuteTime": {
     "end_time": "2022-01-12T11:58:36.485902Z",
     "start_time": "2022-01-12T11:58:34.618624Z"
    }
   },
   "outputs": [],
   "source": [
    "input_ids = train_data['input_ids']\n",
    "attention_mask = train_data['attention_mask']\n",
    "answer_start = train_data['answer_start']\n",
    "answer_end = train_data['answer_end']"
   ]
  },
  {
   "cell_type": "code",
   "execution_count": 6,
   "id": "ef63b625",
   "metadata": {
    "ExecuteTime": {
     "end_time": "2022-01-12T11:58:36.555565Z",
     "start_time": "2022-01-12T11:58:36.488397Z"
    },
    "id": "8a453903"
   },
   "outputs": [],
   "source": [
    "#train_df = pd.DataFrame()\n",
    "#train_df['input_ids'] = [i for i in train_data['input_ids']]\n",
    "#train_df['attention_mask'] = [i for i in train_data['attention_mask']]\n",
    "#train_df['answer_start'] = train_data['answer_start']\n",
    "#train_df['answer_end'] = train_data['answer_end']"
   ]
  },
  {
   "cell_type": "code",
   "execution_count": 7,
   "id": "8a453903",
   "metadata": {
    "ExecuteTime": {
     "end_time": "2022-01-12T11:58:36.619746Z",
     "start_time": "2022-01-12T11:58:36.561233Z"
    },
    "id": "8a453903"
   },
   "outputs": [],
   "source": [
    "#val_df = pd.DataFrame()\n",
    "#val_df['input_ids'] = [i for i in val_data['input_ids']]\n",
    "#val_df['attention_mask'] = [i for i in val_data['attention_mask']]\n",
    "#val_df['answer_start'] = val_data['answer_start']\n",
    "#val_df['answer_end'] = val_data['answer_end']"
   ]
  },
  {
   "cell_type": "markdown",
   "id": "0bd6f886",
   "metadata": {
    "id": "0bd6f886"
   },
   "source": [
    "## Embedding"
   ]
  },
  {
   "cell_type": "code",
   "execution_count": 8,
   "id": "862509a4",
   "metadata": {
    "ExecuteTime": {
     "end_time": "2022-01-12T11:58:36.681217Z",
     "start_time": "2022-01-12T11:58:36.623044Z"
    },
    "id": "862509a4"
   },
   "outputs": [],
   "source": [
    "## Load tokenizer and transformers\n",
    "\n",
    "#tokenizer = DistilBertTokenizerFast.from_pretrained('distilbert-base-cased-distilled-squad')\n",
    "#model = DistilBertModel.from_pretrained('distilbert-base-cased-distilled-squad')"
   ]
  },
  {
   "cell_type": "code",
   "execution_count": 9,
   "id": "9a0fdafe",
   "metadata": {
    "ExecuteTime": {
     "end_time": "2022-01-12T11:58:36.743456Z",
     "start_time": "2022-01-12T11:58:36.683638Z"
    },
    "cellView": "code",
    "code_folding": [],
    "id": "9a0fdafe"
   },
   "outputs": [],
   "source": [
    "## Tokenize questions and contexts\n",
    "#max_length = model.config.max_position_embeddings\n",
    "#doc_stride = 256\n",
    "#\n",
    "#train_tokenized = tokenizer(\n",
    "#   train_questions,\n",
    "#   train_contexts,\n",
    "#   max_length=max_length,\n",
    "#   truncation=\"only_second\",\n",
    "#   return_overflowing_tokens=True,\n",
    "#   return_offsets_mapping=True,\n",
    "#   stride=doc_stride,\n",
    "#   return_attention_mask=True,\n",
    "#   padding='max_length'\n",
    "#)\n",
    "#\n",
    "#val_tokenized = tokenizer(\n",
    "#   val_questions,\n",
    "#   val_contexts,\n",
    "#   max_length=max_length,\n",
    "#   truncation=\"only_second\",\n",
    "#   return_overflowing_tokens=True,\n",
    "#   return_offsets_mapping=True,\n",
    "#   stride=doc_stride,\n",
    "#   return_attention_mask=True,\n",
    "#   padding='max_length'\n",
    "#)"
   ]
  },
  {
   "cell_type": "code",
   "execution_count": 10,
   "id": "f0Bc1VhcCiQF",
   "metadata": {
    "ExecuteTime": {
     "end_time": "2022-01-12T11:58:36.802154Z",
     "start_time": "2022-01-12T11:58:36.745577Z"
    },
    "id": "f0Bc1VhcCiQF"
   },
   "outputs": [],
   "source": [
    "## Move to device\n",
    "#bert_dict = {}\n",
    "#\n",
    "#bert_dict['input_ids'] = torch.IntTensor(tokenized['input_ids']).to(device)\n",
    "#bert_dict['attention_mask'] = torch.IntTensor(tokenized['attention_mask']).to(device)\n",
    "#\n",
    "#model = model.to(device)"
   ]
  },
  {
   "cell_type": "code",
   "execution_count": 11,
   "id": "ldtj3wxmCU9b",
   "metadata": {
    "ExecuteTime": {
     "end_time": "2022-01-12T11:58:36.861514Z",
     "start_time": "2022-01-12T11:58:36.804253Z"
    },
    "id": "ldtj3wxmCU9b"
   },
   "outputs": [],
   "source": [
    "## Network structure\n",
    "\n",
    "#transformed = model(**bert_dict)\n",
    "#dropped = torch.nn.Dropout(0.3)(transformed[0])\n",
    "#logits = torch.nn.Linear(768, 2, device=device)(dropped)\n",
    "#start_logits, end_logits = logits.split(1, dim=-1)\n",
    "#start_logits = start_logits.squeeze(-1)\n",
    "#end_logits = end_logits.squeeze(-1)\n",
    "#outputs = (start_logits, end_logits)"
   ]
  },
  {
   "cell_type": "code",
   "execution_count": 12,
   "id": "bd5836ff",
   "metadata": {
    "ExecuteTime": {
     "end_time": "2022-01-12T11:58:36.919571Z",
     "start_time": "2022-01-12T11:58:36.863734Z"
    },
    "id": "bd5836ff"
   },
   "outputs": [],
   "source": [
    "#tokenizer.decode(tokenized['input_ids'][0])"
   ]
  },
  {
   "cell_type": "code",
   "execution_count": 13,
   "id": "04a525d5",
   "metadata": {
    "ExecuteTime": {
     "end_time": "2022-01-12T11:58:36.979731Z",
     "start_time": "2022-01-12T11:58:36.921673Z"
    },
    "id": "04a525d5"
   },
   "outputs": [],
   "source": [
    "#train_df['question'].apply(lambda x: len(x.strip().split(' '))).max()"
   ]
  },
  {
   "cell_type": "markdown",
   "id": "7QB6LO9WCpyO",
   "metadata": {
    "id": "7QB6LO9WCpyO"
   },
   "source": [
    "## TODO"
   ]
  },
  {
   "cell_type": "markdown",
   "id": "22c4d22e",
   "metadata": {
    "id": "22c4d22e"
   },
   "source": [
    "- `tokenized['offset_mapping'][0]` returna le tuple (start,end) di ogni parola dell'input (query, context)\n",
    "\n",
    "- Problema: splittare i contesti online (nel Dataloader) produce batch di lunghezza variabile\n",
    "    - Prima soluzione: eliminare gli split che non contengono la domanda\n",
    "    - Seconda soluzione: creare dataframe con contesti già splittati usando il tokenizer (lunghezza 512, overlapping 256) invece che farlo online nel Dataloader\n",
    "\n",
    "- Problema: risposte sono presenti in un solo split, cosa fare con gli altri?\n",
    "    - Una [soluzione](https://colab.research.google.com/github/huggingface/notebooks/blob/master/examples/question_answering.ipynb#scrollTo=iLekL6Un9D70&line=24&uniqifier=1): riscalare tuple di contesti tagliati (invece che 0, allinearli alla risposta)\n",
    "\n",
    "    - Un'altra soluzione: \n",
    "        - riscalare answer_start e answer_end per ogni contesto\n",
    "        - lo split che contiene la risposta mantiene answer_start e answer_end, gli altri split dello stesso contesto vanno trattati (assegniamo (0,0)? oppure scartiamo)\n",
    "        - Possibile [soluzione](https://colab.research.google.com/github/huggingface/notebooks/blob/master/examples/question_answering.ipynb#scrollTo=v86c_RApFdNG) (in grassetto parte interessante): *Now let's put everything together in one function we will apply to our training set. In the case of impossible answers (the answer is in another feature given by an example with a long context), **we set the cls index for both the start and end position**. We could also simply discard those examples from the training set if the flag allow_impossible_answers is False. Since the preprocessing is already complex enough as it is, we've kept is simple for this part.*\n",
    "\n",
    "- N.B. sul token `[CLS]` preso da [qui](https://colab.research.google.com/github/huggingface/notebooks/blob/master/examples/question_answering.ipynb#scrollTo=kv1iD9E6FdND):\n",
    "> *The very first token ([CLS]) has (0, 0) because it doesn't correspond to any part of the question/answer, then the second token is the same as the characters 0 to 3 of the question*"
   ]
  },
  {
   "cell_type": "markdown",
   "id": "6205600e",
   "metadata": {
    "id": "6205600e"
   },
   "source": [
    "## Network"
   ]
  },
  {
   "cell_type": "code",
   "execution_count": 14,
   "id": "4916e6fc",
   "metadata": {
    "ExecuteTime": {
     "end_time": "2022-01-12T11:58:37.042132Z",
     "start_time": "2022-01-12T11:58:36.982040Z"
    },
    "id": "4916e6fc"
   },
   "outputs": [],
   "source": [
    "class QA(torch.nn.Module):\n",
    "\n",
    "    def __init__(self, hidden_size=768, num_labels=2, dropout_rate=0.5):\n",
    "        super(QA, self).__init__()\n",
    "        # Device\n",
    "        self.device = 'cuda' if torch.cuda.is_available() else 'cpu'\n",
    "        \n",
    "        # Parameters\n",
    "        self.hidden_size = hidden_size\n",
    "        self.num_labels = num_labels\n",
    "        \n",
    "        # Layers\n",
    "        #self.tokenizer = DistilBertTokenizerFast.from_pretrained('distilbert-base-cased-distilled-squad')\n",
    "        self.transformers = DistilBertModel.from_pretrained('distilbert-base-cased-distilled-squad').to(self.device)\n",
    "        self.dropout = torch.nn.Dropout(dropout_rate)\n",
    "        #self.extra_linear = torch.nn.Linear(self.hidden_size, self.hidden_size)\n",
    "        #self.extra_linear_tanh = torch.nn.Tanh()\n",
    "        self.dense = torch.nn.Linear(self.hidden_size, self.num_labels, device=self.device)\n",
    "\n",
    "    def forward(self, inputs):\n",
    "        # Unpack inputs\n",
    "        input_ids, attention_mask = inputs\n",
    "        \n",
    "        # Put to device\n",
    "        input_ids = input_ids.to(self.device)\n",
    "        attention_mask = attention_mask.to(self.device)\n",
    "        \n",
    "        # Transformers \n",
    "        transformed = self.transformers(input_ids=input_ids, attention_mask=attention_mask)\n",
    "        # Dropout\n",
    "        dropped = self.dropout(transformed[0])\n",
    "        # Obtain logits\n",
    "        logits = self.dense(dropped) #(None, seq_len, hidden_size)*(hidden_size, 2)=(None, seq_len, 2)\n",
    "        start_logits, end_logits = logits.split(1, dim=-1)    #(None, seq_len, 1), (None, seq_len, 1)\n",
    "        start_logits = start_logits.squeeze(-1)  #(None, seq_len)\n",
    "        end_logits = end_logits.squeeze(-1)    #(None, seq_len)\n",
    "        # --- 4) Prepare output tuple\n",
    "        outputs = (start_logits, end_logits)\n",
    "        \n",
    "        return outputs"
   ]
  },
  {
   "cell_type": "code",
   "execution_count": 15,
   "id": "cFqtEIvq9bio",
   "metadata": {
    "ExecuteTime": {
     "end_time": "2022-01-12T11:58:40.631648Z",
     "start_time": "2022-01-12T11:58:37.044203Z"
    },
    "id": "cFqtEIvq9bio"
   },
   "outputs": [],
   "source": [
    "net = QA()"
   ]
  },
  {
   "cell_type": "code",
   "execution_count": 16,
   "id": "ZX7lp9lGApN4",
   "metadata": {
    "ExecuteTime": {
     "end_time": "2022-01-12T11:58:40.702764Z",
     "start_time": "2022-01-12T11:58:40.633650Z"
    },
    "id": "ZX7lp9lGApN4"
   },
   "outputs": [],
   "source": [
    "class Dataset(torch.utils.data.Dataset):\n",
    "    'Characterizes a dataset for PyTorch'\n",
    "    def __init__(self, input_ids, attention_masks, answer_starts, answer_ends):\n",
    "        'Initialization'\n",
    "        self.input_ids = input_ids\n",
    "        self.attention_masks = attention_masks\n",
    "        self.answer_starts = answer_starts\n",
    "        self.answer_ends = answer_ends\n",
    "\n",
    "    def __len__(self):\n",
    "        'Denotes the total number of samples'\n",
    "        return len(self.input_ids)\n",
    "\n",
    "    def __getitem__(self, index):\n",
    "        'Generates one sample of data'\n",
    "        # Select sample\n",
    "        input_id = self.input_ids[index]\n",
    "        attention_mask = self.attention_masks[index]\n",
    "        answer_start = self.answer_starts[index]\n",
    "        answer_end = self.answer_ends[index]\n",
    "\n",
    "        # Pack input and output\n",
    "        X = (input_id, attention_mask)\n",
    "        y = (answer_start, answer_end)\n",
    "\n",
    "        return X, y"
   ]
  },
  {
   "cell_type": "code",
   "execution_count": 17,
   "id": "QqhlR1A9BKsa",
   "metadata": {
    "ExecuteTime": {
     "end_time": "2022-01-12T11:58:40.764645Z",
     "start_time": "2022-01-12T11:58:40.705300Z"
    },
    "id": "QqhlR1A9BKsa"
   },
   "outputs": [],
   "source": [
    "data = Dataset(input_ids, attention_mask, answer_start, answer_end)"
   ]
  },
  {
   "cell_type": "code",
   "execution_count": 18,
   "id": "bPt21jd5-ZD9",
   "metadata": {
    "ExecuteTime": {
     "end_time": "2022-01-12T11:58:40.826177Z",
     "start_time": "2022-01-12T11:58:40.766876Z"
    },
    "id": "bPt21jd5-ZD9"
   },
   "outputs": [],
   "source": [
    "generator = torch.utils.data.DataLoader(data, batch_size=32)#, num_workers=2, pin_memory=True)"
   ]
  },
  {
   "cell_type": "code",
   "execution_count": 19,
   "id": "dhvSBZ549wLG",
   "metadata": {
    "ExecuteTime": {
     "end_time": "2022-01-12T11:59:05.442563Z",
     "start_time": "2022-01-12T11:58:40.829208Z"
    },
    "id": "dhvSBZ549wLG"
   },
   "outputs": [
    {
     "name": "stdout",
     "output_type": "stream",
     "text": [
      "[tensor([[  101,  1706,  2292,  ...,     0,     0,     0],\n",
      "        [  101,  1327,  1110,  ...,     0,     0,     0],\n",
      "        [  101,  1109, 19349,  ...,     0,     0,     0],\n",
      "        ...,\n",
      "        [  101,  1327,  8918,  ...,     0,     0,     0],\n",
      "        [  101,  1327,  1110,  ...,     0,     0,     0],\n",
      "        [  101,  1130,  1184,  ...,     0,     0,     0]]), tensor([[1, 1, 1,  ..., 0, 0, 0],\n",
      "        [1, 1, 1,  ..., 0, 0, 0],\n",
      "        [1, 1, 1,  ..., 0, 0, 0],\n",
      "        ...,\n",
      "        [1, 1, 1,  ..., 0, 0, 0],\n",
      "        [1, 1, 1,  ..., 0, 0, 0],\n",
      "        [1, 1, 1,  ..., 0, 0, 0]])]\n",
      "[tensor([136,  53,  83, 101,  34,  67, 103, 128,  39, 189,  36,  44,  59,  85,\n",
      "        153, 110,  22,  43,  77,  47, 112,  28,  47, 136,  90, 133, 232,  38,\n",
      "        167,  15, 118,  78]), tensor([142,  57,  85, 107,  40,  68, 103, 129,  39, 189,  36,  46,  60,  88,\n",
      "        161, 110,  22,  46,  77,  48, 114,  28,  52, 143,  90, 135, 235,  38,\n",
      "        172,  25, 125,  78])]\n",
      "(tensor([[ 0.0841,  1.3260,  0.9043,  ...,  0.5746, -0.1185, -0.1762],\n",
      "        [ 0.3619, -0.0274,  0.9297,  ...,  0.5379,  0.2213,  0.7492],\n",
      "        [ 0.6839,  0.8226,  0.8420,  ...,  1.6471,  0.5250,  0.0472],\n",
      "        ...,\n",
      "        [-0.0818,  0.1421,  0.0528,  ...,  0.5542,  0.1484,  0.6693],\n",
      "        [ 0.8976,  0.2351,  0.1869,  ..., -0.2068, -0.0345,  0.5660],\n",
      "        [-0.2992, -0.1614,  0.7530,  ...,  0.9633,  0.8395,  0.8454]],\n",
      "       grad_fn=<SqueezeBackward1>), tensor([[ 0.1934,  0.2515,  1.2434,  ...,  0.7968,  1.1124,  0.4368],\n",
      "        [ 0.9165,  1.2680,  0.8711,  ...,  0.4781,  1.9711,  0.1346],\n",
      "        [ 1.0877,  0.6671,  0.8299,  ...,  0.5673,  1.0053,  0.5776],\n",
      "        ...,\n",
      "        [ 1.3324,  0.5442,  1.1166,  ...,  1.0449,  0.7705,  0.5163],\n",
      "        [ 1.2376,  0.7158,  0.3934,  ..., -0.0264,  1.3086,  1.2727],\n",
      "        [ 1.5961,  0.9176,  0.3227,  ...,  0.3802,  1.2567,  0.6955]],\n",
      "       grad_fn=<SqueezeBackward1>))\n"
     ]
    }
   ],
   "source": [
    "for inputs, labels in generator:\n",
    "    print(inputs)\n",
    "    print(labels)\n",
    "    outputs = net.forward(inputs)\n",
    "    print(outputs)\n",
    "    break"
   ]
  },
  {
   "cell_type": "code",
   "execution_count": null,
   "id": "f671fb91",
   "metadata": {},
   "outputs": [],
   "source": []
  }
 ],
 "metadata": {
  "accelerator": "GPU",
  "colab": {
   "collapsed_sections": [],
   "name": "QA.ipynb",
   "provenance": []
  },
  "kernelspec": {
   "display_name": "Python [conda env:root] *",
   "language": "python",
   "name": "conda-root-py"
  },
  "language_info": {
   "codemirror_mode": {
    "name": "ipython",
    "version": 3
   },
   "file_extension": ".py",
   "mimetype": "text/x-python",
   "name": "python",
   "nbconvert_exporter": "python",
   "pygments_lexer": "ipython3",
   "version": "3.8.8"
  },
  "toc": {
   "base_numbering": 1,
   "nav_menu": {},
   "number_sections": true,
   "sideBar": true,
   "skip_h1_title": false,
   "title_cell": "Table of Contents",
   "title_sidebar": "Contents",
   "toc_cell": false,
   "toc_position": {},
   "toc_section_display": true,
   "toc_window_display": false
  },
  "varInspector": {
   "cols": {
    "lenName": 16,
    "lenType": 16,
    "lenVar": 40
   },
   "kernels_config": {
    "python": {
     "delete_cmd_postfix": "",
     "delete_cmd_prefix": "del ",
     "library": "var_list.py",
     "varRefreshCmd": "print(var_dic_list())"
    },
    "r": {
     "delete_cmd_postfix": ") ",
     "delete_cmd_prefix": "rm(",
     "library": "var_list.r",
     "varRefreshCmd": "cat(var_dic_list()) "
    }
   },
   "types_to_exclude": [
    "module",
    "function",
    "builtin_function_or_method",
    "instance",
    "_Feature"
   ],
   "window_display": false
  }
 },
 "nbformat": 4,
 "nbformat_minor": 5
}
